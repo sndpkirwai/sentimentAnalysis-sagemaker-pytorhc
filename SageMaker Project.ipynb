{
 "cells": [
  {
   "cell_type": "markdown",
   "metadata": {},
   "source": [
    "# Creating a Sentiment Analysis Web App\n",
    "## Using PyTorch and SageMaker\n",
    "\n",
    "_Deep Learning Nanodegree Program | Deployment_\n",
    "\n",
    "---\n",
    "\n",
    "Now that we have a basic understanding of how SageMaker works we will try to use it to construct a complete project from end to end. Our goal will be to have a simple web page which a user can use to enter a movie review. The web page will then send the review off to our deployed model which will predict the sentiment of the entered review.\n",
    "\n",
    "## Instructions\n",
    "\n",
    "Some template code has already been provided for you, and you will need to implement additional functionality to successfully complete this notebook. You will not need to modify the included code beyond what is requested. Sections that begin with '**TODO**' in the header indicate that you need to complete or implement some portion within them. Instructions will be provided for each section and the specifics of the implementation are marked in the code block with a `# TODO: ...` comment. Please be sure to read the instructions carefully!\n",
    "\n",
    "In addition to implementing code, there will be questions for you to answer which relate to the task and your implementation. Each section where you will answer a question is preceded by a '**Question:**' header. Carefully read each question and provide your answer below the '**Answer:**' header by editing the Markdown cell.\n",
    "\n",
    "> **Note**: Code and Markdown cells can be executed using the **Shift+Enter** keyboard shortcut. In addition, a cell can be edited by typically clicking it (double-click for Markdown cells) or by pressing **Enter** while it is highlighted.\n",
    "\n",
    "## General Outline\n",
    "\n",
    "Recall the general outline for SageMaker projects using a notebook instance.\n",
    "\n",
    "1. Download or otherwise retrieve the data.\n",
    "2. Process / Prepare the data.\n",
    "3. Upload the processed data to S3.\n",
    "4. Train a chosen model.\n",
    "5. Test the trained model (typically using a batch transform job).\n",
    "6. Deploy the trained model.\n",
    "7. Use the deployed model.\n",
    "\n",
    "For this project, you will be following the steps in the general outline with some modifications. \n",
    "\n",
    "First, you will not be testing the model in its own step. You will still be testing the model, however, you will do it by deploying your model and then using the deployed model by sending the test data to it. One of the reasons for doing this is so that you can make sure that your deployed model is working correctly before moving forward.\n",
    "\n",
    "In addition, you will deploy and use your trained model a second time. In the second iteration you will customize the way that your trained model is deployed by including some of your own code. In addition, your newly deployed model will be used in the sentiment analysis web app."
   ]
  },
  {
   "cell_type": "code",
   "execution_count": 1,
   "metadata": {},
   "outputs": [
    {
     "name": "stdout",
     "output_type": "stream",
     "text": [
      "Collecting sagemaker==1.72.0\n",
      "  Downloading sagemaker-1.72.0.tar.gz (297 kB)\n",
      "\u001b[K     |████████████████████████████████| 297 kB 24.0 MB/s eta 0:00:01\n",
      "\u001b[?25hRequirement already satisfied: boto3>=1.14.12 in /home/ec2-user/anaconda3/envs/pytorch_p36/lib/python3.6/site-packages (from sagemaker==1.72.0) (1.17.100)\n",
      "Requirement already satisfied: numpy>=1.9.0 in /home/ec2-user/anaconda3/envs/pytorch_p36/lib/python3.6/site-packages (from sagemaker==1.72.0) (1.19.5)\n",
      "Requirement already satisfied: protobuf>=3.1 in /home/ec2-user/anaconda3/envs/pytorch_p36/lib/python3.6/site-packages (from sagemaker==1.72.0) (3.15.2)\n",
      "Requirement already satisfied: scipy>=0.19.0 in /home/ec2-user/anaconda3/envs/pytorch_p36/lib/python3.6/site-packages (from sagemaker==1.72.0) (1.5.3)\n",
      "Requirement already satisfied: protobuf3-to-dict>=0.1.5 in /home/ec2-user/anaconda3/envs/pytorch_p36/lib/python3.6/site-packages (from sagemaker==1.72.0) (0.1.5)\n",
      "Collecting smdebug-rulesconfig==0.1.4\n",
      "  Downloading smdebug_rulesconfig-0.1.4-py2.py3-none-any.whl (10 kB)\n",
      "Requirement already satisfied: importlib-metadata>=1.4.0 in /home/ec2-user/anaconda3/envs/pytorch_p36/lib/python3.6/site-packages (from sagemaker==1.72.0) (3.7.0)\n",
      "Requirement already satisfied: packaging>=20.0 in /home/ec2-user/anaconda3/envs/pytorch_p36/lib/python3.6/site-packages (from sagemaker==1.72.0) (20.9)\n",
      "Requirement already satisfied: botocore<1.21.0,>=1.20.100 in /home/ec2-user/anaconda3/envs/pytorch_p36/lib/python3.6/site-packages (from boto3>=1.14.12->sagemaker==1.72.0) (1.20.100)\n",
      "Requirement already satisfied: s3transfer<0.5.0,>=0.4.0 in /home/ec2-user/anaconda3/envs/pytorch_p36/lib/python3.6/site-packages (from boto3>=1.14.12->sagemaker==1.72.0) (0.4.2)\n",
      "Requirement already satisfied: jmespath<1.0.0,>=0.7.1 in /home/ec2-user/anaconda3/envs/pytorch_p36/lib/python3.6/site-packages (from boto3>=1.14.12->sagemaker==1.72.0) (0.10.0)\n",
      "Requirement already satisfied: python-dateutil<3.0.0,>=2.1 in /home/ec2-user/anaconda3/envs/pytorch_p36/lib/python3.6/site-packages (from botocore<1.21.0,>=1.20.100->boto3>=1.14.12->sagemaker==1.72.0) (2.8.1)\n",
      "Requirement already satisfied: urllib3<1.27,>=1.25.4 in /home/ec2-user/anaconda3/envs/pytorch_p36/lib/python3.6/site-packages (from botocore<1.21.0,>=1.20.100->boto3>=1.14.12->sagemaker==1.72.0) (1.26.5)\n",
      "Requirement already satisfied: typing-extensions>=3.6.4 in /home/ec2-user/anaconda3/envs/pytorch_p36/lib/python3.6/site-packages (from importlib-metadata>=1.4.0->sagemaker==1.72.0) (3.7.4.3)\n",
      "Requirement already satisfied: zipp>=0.5 in /home/ec2-user/anaconda3/envs/pytorch_p36/lib/python3.6/site-packages (from importlib-metadata>=1.4.0->sagemaker==1.72.0) (3.4.0)\n",
      "Requirement already satisfied: pyparsing>=2.0.2 in /home/ec2-user/anaconda3/envs/pytorch_p36/lib/python3.6/site-packages (from packaging>=20.0->sagemaker==1.72.0) (2.4.7)\n",
      "Requirement already satisfied: six>=1.9 in /home/ec2-user/anaconda3/envs/pytorch_p36/lib/python3.6/site-packages (from protobuf>=3.1->sagemaker==1.72.0) (1.15.0)\n",
      "Building wheels for collected packages: sagemaker\n",
      "  Building wheel for sagemaker (setup.py) ... \u001b[?25ldone\n",
      "\u001b[?25h  Created wheel for sagemaker: filename=sagemaker-1.72.0-py2.py3-none-any.whl size=386358 sha256=5db99635f21b382eb1144c0c3b2f8990187c09550a6b470f6d1eeb1d79332f25\n",
      "  Stored in directory: /home/ec2-user/.cache/pip/wheels/c3/58/70/85faf4437568bfaa4c419937569ba1fe54d44c5db42406bbd7\n",
      "Successfully built sagemaker\n",
      "Installing collected packages: smdebug-rulesconfig, sagemaker\n",
      "  Attempting uninstall: smdebug-rulesconfig\n",
      "    Found existing installation: smdebug-rulesconfig 1.0.1\n",
      "    Uninstalling smdebug-rulesconfig-1.0.1:\n",
      "      Successfully uninstalled smdebug-rulesconfig-1.0.1\n",
      "  Attempting uninstall: sagemaker\n",
      "    Found existing installation: sagemaker 2.45.0\n",
      "    Uninstalling sagemaker-2.45.0:\n",
      "      Successfully uninstalled sagemaker-2.45.0\n",
      "Successfully installed sagemaker-1.72.0 smdebug-rulesconfig-0.1.4\n",
      "\u001b[33mWARNING: You are using pip version 21.1.2; however, version 21.2.4 is available.\n",
      "You should consider upgrading via the '/home/ec2-user/anaconda3/envs/pytorch_p36/bin/python -m pip install --upgrade pip' command.\u001b[0m\n"
     ]
    }
   ],
   "source": [
    "# Make sure that we use SageMaker 1.x\n",
    "!pip install sagemaker==1.72.0"
   ]
  },
  {
   "cell_type": "markdown",
   "metadata": {},
   "source": [
    "## Step 1: Downloading the data\n",
    "\n",
    "As in the XGBoost in SageMaker notebook, we will be using the [IMDb dataset](http://ai.stanford.edu/~amaas/data/sentiment/)\n",
    "\n",
    "> Maas, Andrew L., et al. [Learning Word Vectors for Sentiment Analysis](http://ai.stanford.edu/~amaas/data/sentiment/). In _Proceedings of the 49th Annual Meeting of the Association for Computational Linguistics: Human Language Technologies_. Association for Computational Linguistics, 2011."
   ]
  },
  {
   "cell_type": "code",
   "execution_count": 2,
   "metadata": {},
   "outputs": [
    {
     "name": "stdout",
     "output_type": "stream",
     "text": [
      "--2021-08-18 05:40:54--  http://ai.stanford.edu/~amaas/data/sentiment/aclImdb_v1.tar.gz\n",
      "Resolving ai.stanford.edu (ai.stanford.edu)... 171.64.68.10\n",
      "Connecting to ai.stanford.edu (ai.stanford.edu)|171.64.68.10|:80... connected.\n",
      "HTTP request sent, awaiting response... 200 OK\n",
      "Length: 84125825 (80M) [application/x-gzip]\n",
      "Saving to: ‘../data/aclImdb_v1.tar.gz’\n",
      "\n",
      "../data/aclImdb_v1. 100%[===================>]  80.23M  22.0MB/s    in 4.2s    \n",
      "\n",
      "2021-08-18 05:40:59 (19.2 MB/s) - ‘../data/aclImdb_v1.tar.gz’ saved [84125825/84125825]\n",
      "\n"
     ]
    }
   ],
   "source": [
    "%mkdir ../data\n",
    "!wget -O ../data/aclImdb_v1.tar.gz http://ai.stanford.edu/~amaas/data/sentiment/aclImdb_v1.tar.gz\n",
    "!tar -zxf ../data/aclImdb_v1.tar.gz -C ../data"
   ]
  },
  {
   "cell_type": "markdown",
   "metadata": {},
   "source": [
    "## Step 2: Preparing and Processing the data\n",
    "\n",
    "Also, as in the XGBoost notebook, we will be doing some initial data processing. The first few steps are the same as in the XGBoost example. To begin with, we will read in each of the reviews and combine them into a single input structure. Then, we will split the dataset into a training set and a testing set."
   ]
  },
  {
   "cell_type": "code",
   "execution_count": 3,
   "metadata": {},
   "outputs": [],
   "source": [
    "import os\n",
    "import glob\n",
    "\n",
    "def read_imdb_data(data_dir='../data/aclImdb'):\n",
    "    data = {}\n",
    "    labels = {}\n",
    "    \n",
    "    for data_type in ['train', 'test']:\n",
    "        data[data_type] = {}\n",
    "        labels[data_type] = {}\n",
    "        \n",
    "        for sentiment in ['pos', 'neg']:\n",
    "            data[data_type][sentiment] = []\n",
    "            labels[data_type][sentiment] = []\n",
    "            \n",
    "            path = os.path.join(data_dir, data_type, sentiment, '*.txt')\n",
    "            files = glob.glob(path)\n",
    "            \n",
    "            for f in files:\n",
    "                with open(f) as review:\n",
    "                    data[data_type][sentiment].append(review.read())\n",
    "                    # Here we represent a positive review by '1' and a negative review by '0'\n",
    "                    labels[data_type][sentiment].append(1 if sentiment == 'pos' else 0)\n",
    "                    \n",
    "            assert len(data[data_type][sentiment]) == len(labels[data_type][sentiment]), \\\n",
    "                    \"{}/{} data size does not match labels size\".format(data_type, sentiment)\n",
    "                \n",
    "    return data, labels"
   ]
  },
  {
   "cell_type": "code",
   "execution_count": 4,
   "metadata": {},
   "outputs": [
    {
     "name": "stdout",
     "output_type": "stream",
     "text": [
      "IMDB reviews: train = 12500 pos / 12500 neg, test = 12500 pos / 12500 neg\n"
     ]
    }
   ],
   "source": [
    "data, labels = read_imdb_data()\n",
    "print(\"IMDB reviews: train = {} pos / {} neg, test = {} pos / {} neg\".format(\n",
    "            len(data['train']['pos']), len(data['train']['neg']),\n",
    "            len(data['test']['pos']), len(data['test']['neg'])))"
   ]
  },
  {
   "cell_type": "markdown",
   "metadata": {},
   "source": [
    "Now that we've read the raw training and testing data from the downloaded dataset, we will combine the positive and negative reviews and shuffle the resulting records."
   ]
  },
  {
   "cell_type": "code",
   "execution_count": 5,
   "metadata": {},
   "outputs": [],
   "source": [
    "from sklearn.utils import shuffle\n",
    "\n",
    "def prepare_imdb_data(data, labels):\n",
    "    \"\"\"Prepare training and test sets from IMDb movie reviews.\"\"\"\n",
    "    \n",
    "    #Combine positive and negative reviews and labels\n",
    "    data_train = data['train']['pos'] + data['train']['neg']\n",
    "    data_test = data['test']['pos'] + data['test']['neg']\n",
    "    labels_train = labels['train']['pos'] + labels['train']['neg']\n",
    "    labels_test = labels['test']['pos'] + labels['test']['neg']\n",
    "    \n",
    "    #Shuffle reviews and corresponding labels within training and test sets\n",
    "    data_train, labels_train = shuffle(data_train, labels_train)\n",
    "    data_test, labels_test = shuffle(data_test, labels_test)\n",
    "    \n",
    "    # Return a unified training data, test data, training labels, test labets\n",
    "    return data_train, data_test, labels_train, labels_test"
   ]
  },
  {
   "cell_type": "code",
   "execution_count": 6,
   "metadata": {},
   "outputs": [
    {
     "name": "stdout",
     "output_type": "stream",
     "text": [
      "IMDb reviews (combined): train = 25000, test = 25000\n"
     ]
    }
   ],
   "source": [
    "train_X, test_X, train_y, test_y = prepare_imdb_data(data, labels)\n",
    "print(\"IMDb reviews (combined): train = {}, test = {}\".format(len(train_X), len(test_X)))"
   ]
  },
  {
   "cell_type": "markdown",
   "metadata": {},
   "source": [
    "Now that we have our training and testing sets unified and prepared, we should do a quick check and see an example of the data our model will be trained on. This is generally a good idea as it allows you to see how each of the further processing steps affects the reviews and it also ensures that the data has been loaded correctly."
   ]
  },
  {
   "cell_type": "code",
   "execution_count": 7,
   "metadata": {},
   "outputs": [
    {
     "name": "stdout",
     "output_type": "stream",
     "text": [
      "This film had a great cast going for it: Christopher Lee, Dean Jagger, Macdonald Carey, Lew Ayres -- solid b-movie actors all. But this downer of a movie didn't use any of them to any sort of advantage, with none of their characters even meeting on screen (though Christopher Lee does get to play opposite himself in several scenes).<br /><br />The motivations for the aliens in this movie seem to change at the drop of a hat. First, they just want to repair their ship and leave, then they turn on the main character by killing most of his friends and not releasing his wife after he gets them the crucial part they need. Then, out of nowhere, this \"peaceful\" race decides they have to destroy the planet because it causes too many \"diseases\" (though they do offer the main character and his wife a spot in their society).<br /><br />Most of the film is spent watching the man and wife drive or walk or stand around or sit at desks doing nothing. You almost wish they had gotten taken out with the rest of the planet at the end, just in vengeance for boring us to death.<br /><br />Unless you really like Chris Lee or seventies low-budget sci-fi, I'd give this one a miss. It falls into that narrow range of wasted celluloid between Star Odyssey and UFO: Target Earth.\n",
      "0\n"
     ]
    }
   ],
   "source": [
    "print(train_X[100])\n",
    "print(train_y[100])"
   ]
  },
  {
   "cell_type": "markdown",
   "metadata": {},
   "source": [
    "The first step in processing the reviews is to make sure that any html tags that appear should be removed. In addition we wish to tokenize our input, that way words such as *entertained* and *entertaining* are considered the same with regard to sentiment analysis."
   ]
  },
  {
   "cell_type": "code",
   "execution_count": 8,
   "metadata": {},
   "outputs": [],
   "source": [
    "import nltk\n",
    "from nltk.corpus import stopwords\n",
    "from nltk.stem.porter import *\n",
    "\n",
    "import re\n",
    "from bs4 import BeautifulSoup\n",
    "\n",
    "def review_to_words(review):\n",
    "    nltk.download(\"stopwords\", quiet=True)\n",
    "    stemmer = PorterStemmer()\n",
    "    \n",
    "    text = BeautifulSoup(review, \"html.parser\").get_text() # Remove HTML tags\n",
    "    text = re.sub(r\"[^a-zA-Z0-9]\", \" \", text.lower()) # Convert to lower case\n",
    "    words = text.split() # Split string into words\n",
    "    words = [w for w in words if w not in stopwords.words(\"english\")] # Remove stopwords\n",
    "    words = [PorterStemmer().stem(w) for w in words] # stem\n",
    "    \n",
    "    return words"
   ]
  },
  {
   "cell_type": "markdown",
   "metadata": {},
   "source": [
    "The `review_to_words` method defined above uses `BeautifulSoup` to remove any html tags that appear and uses the `nltk` package to tokenize the reviews. As a check to ensure we know how everything is working, try applying `review_to_words` to one of the reviews in the training set."
   ]
  },
  {
   "cell_type": "code",
   "execution_count": 9,
   "metadata": {},
   "outputs": [
    {
     "data": {
      "text/plain": [
       "['film',\n",
       " 'great',\n",
       " 'cast',\n",
       " 'go',\n",
       " 'christoph',\n",
       " 'lee',\n",
       " 'dean',\n",
       " 'jagger',\n",
       " 'macdonald',\n",
       " 'carey',\n",
       " 'lew',\n",
       " 'ayr',\n",
       " 'solid',\n",
       " 'b',\n",
       " 'movi',\n",
       " 'actor',\n",
       " 'downer',\n",
       " 'movi',\n",
       " 'use',\n",
       " 'sort',\n",
       " 'advantag',\n",
       " 'none',\n",
       " 'charact',\n",
       " 'even',\n",
       " 'meet',\n",
       " 'screen',\n",
       " 'though',\n",
       " 'christoph',\n",
       " 'lee',\n",
       " 'get',\n",
       " 'play',\n",
       " 'opposit',\n",
       " 'sever',\n",
       " 'scene',\n",
       " 'motiv',\n",
       " 'alien',\n",
       " 'movi',\n",
       " 'seem',\n",
       " 'chang',\n",
       " 'drop',\n",
       " 'hat',\n",
       " 'first',\n",
       " 'want',\n",
       " 'repair',\n",
       " 'ship',\n",
       " 'leav',\n",
       " 'turn',\n",
       " 'main',\n",
       " 'charact',\n",
       " 'kill',\n",
       " 'friend',\n",
       " 'releas',\n",
       " 'wife',\n",
       " 'get',\n",
       " 'crucial',\n",
       " 'part',\n",
       " 'need',\n",
       " 'nowher',\n",
       " 'peac',\n",
       " 'race',\n",
       " 'decid',\n",
       " 'destroy',\n",
       " 'planet',\n",
       " 'caus',\n",
       " 'mani',\n",
       " 'diseas',\n",
       " 'though',\n",
       " 'offer',\n",
       " 'main',\n",
       " 'charact',\n",
       " 'wife',\n",
       " 'spot',\n",
       " 'societi',\n",
       " 'film',\n",
       " 'spent',\n",
       " 'watch',\n",
       " 'man',\n",
       " 'wife',\n",
       " 'drive',\n",
       " 'walk',\n",
       " 'stand',\n",
       " 'around',\n",
       " 'sit',\n",
       " 'desk',\n",
       " 'noth',\n",
       " 'almost',\n",
       " 'wish',\n",
       " 'gotten',\n",
       " 'taken',\n",
       " 'rest',\n",
       " 'planet',\n",
       " 'end',\n",
       " 'vengeanc',\n",
       " 'bore',\n",
       " 'us',\n",
       " 'death',\n",
       " 'unless',\n",
       " 'realli',\n",
       " 'like',\n",
       " 'chri',\n",
       " 'lee',\n",
       " 'seventi',\n",
       " 'low',\n",
       " 'budget',\n",
       " 'sci',\n",
       " 'fi',\n",
       " 'give',\n",
       " 'one',\n",
       " 'miss',\n",
       " 'fall',\n",
       " 'narrow',\n",
       " 'rang',\n",
       " 'wast',\n",
       " 'celluloid',\n",
       " 'star',\n",
       " 'odyssey',\n",
       " 'ufo',\n",
       " 'target',\n",
       " 'earth']"
      ]
     },
     "execution_count": 9,
     "metadata": {},
     "output_type": "execute_result"
    }
   ],
   "source": [
    "# TODO: Apply review_to_words to a review (train_X[100] or any other review)\n",
    "review_to_words(train_X[100])"
   ]
  },
  {
   "cell_type": "markdown",
   "metadata": {},
   "source": [
    "**Question:** Above we mentioned that `review_to_words` method removes html formatting and allows us to tokenize the words found in a review, for example, converting *entertained* and *entertaining* into *entertain* so that they are treated as though they are the same word. What else, if anything, does this method do to the input?"
   ]
  },
  {
   "cell_type": "markdown",
   "metadata": {},
   "source": [
    "**Answer:**"
   ]
  },
  {
   "cell_type": "markdown",
   "metadata": {},
   "source": [
    "The method below applies the `review_to_words` method to each of the reviews in the training and testing datasets. In addition it caches the results. This is because performing this processing step can take a long time. This way if you are unable to complete the notebook in the current session, you can come back without needing to process the data a second time."
   ]
  },
  {
   "cell_type": "code",
   "execution_count": 10,
   "metadata": {},
   "outputs": [],
   "source": [
    "import pickle\n",
    "\n",
    "cache_dir = os.path.join(\"../cache\", \"sentiment_analysis\")  # where to store cache files\n",
    "os.makedirs(cache_dir, exist_ok=True)  # ensure cache directory exists\n",
    "\n",
    "def preprocess_data(data_train, data_test, labels_train, labels_test,\n",
    "                    cache_dir=cache_dir, cache_file=\"preprocessed_data.pkl\"):\n",
    "    \"\"\"Convert each review to words; read from cache if available.\"\"\"\n",
    "\n",
    "    # If cache_file is not None, try to read from it first\n",
    "    cache_data = None\n",
    "    if cache_file is not None:\n",
    "        try:\n",
    "            with open(os.path.join(cache_dir, cache_file), \"rb\") as f:\n",
    "                cache_data = pickle.load(f)\n",
    "            print(\"Read preprocessed data from cache file:\", cache_file)\n",
    "        except:\n",
    "            pass  # unable to read from cache, but that's okay\n",
    "    \n",
    "    # If cache is missing, then do the heavy lifting\n",
    "    if cache_data is None:\n",
    "        # Preprocess training and test data to obtain words for each review\n",
    "        #words_train = list(map(review_to_words, data_train))\n",
    "        #words_test = list(map(review_to_words, data_test))\n",
    "        words_train = [review_to_words(review) for review in data_train]\n",
    "        words_test = [review_to_words(review) for review in data_test]\n",
    "        \n",
    "        # Write to cache file for future runs\n",
    "        if cache_file is not None:\n",
    "            cache_data = dict(words_train=words_train, words_test=words_test,\n",
    "                              labels_train=labels_train, labels_test=labels_test)\n",
    "            with open(os.path.join(cache_dir, cache_file), \"wb\") as f:\n",
    "                pickle.dump(cache_data, f)\n",
    "            print(\"Wrote preprocessed data to cache file:\", cache_file)\n",
    "    else:\n",
    "        # Unpack data loaded from cache file\n",
    "        words_train, words_test, labels_train, labels_test = (cache_data['words_train'],\n",
    "                cache_data['words_test'], cache_data['labels_train'], cache_data['labels_test'])\n",
    "    \n",
    "    return words_train, words_test, labels_train, labels_test"
   ]
  },
  {
   "cell_type": "code",
   "execution_count": 11,
   "metadata": {},
   "outputs": [
    {
     "name": "stdout",
     "output_type": "stream",
     "text": [
      "Wrote preprocessed data to cache file: preprocessed_data.pkl\n"
     ]
    }
   ],
   "source": [
    "# Preprocess data\n",
    "train_X, test_X, train_y, test_y = preprocess_data(train_X, test_X, train_y, test_y)"
   ]
  },
  {
   "cell_type": "code",
   "execution_count": 12,
   "metadata": {},
   "outputs": [
    {
     "name": "stdout",
     "output_type": "stream",
     "text": [
      "['repeat', 'pleas', 'see', 'movi', 'review', 'warn', 'set', 'record', 'worst', 'effortless', 'comedi', 'ever', 'made', 'least', 'recent', 'comedi', 'nowaday', 'gag', 'crude', 'flat', 'writer', 'director', 'put', 'least', 'sort', 'effort', 'make', 'funni', 'never', 'get', 'tire', 'repeat', 'one', 'favorit', 'motto', 'everyon', 'think', 'comedi', '10', 'percent', 'right', 'comedi', 'hard', 'genr', 'fool', 'play', 'around', 'think', 'atroci', 'filmmak', 'compar', 'piec', 'garbag', 'kentucki', 'fri', 'movi', 'basic', 'bozo', 'compar', 'call', 'comic', 'talent', 'brilliant', 'jim', 'abraham', 'zucker', 'brother', 'come', 'seen', 'pauli', 'shore', 'movi', '10', 'time', 'funnier', 'underground', 'comedi', 'movi', 'sampl', 'comedi', 'curiou', 'see', 'movi', 'one', 'sketch', 'involv', 'superhero', 'dress', 'like', 'peni', 'name', 'kman', 'whole', 'joke', 'defeat', 'enemi', 'squirt', 'semen', 'whole', 'joke', 'wow', 'enough', 'make', 'carrot', 'top', 'roll', 'eye', 'anoth', 'sketch', 'involv', 'man', 'sex', 'dead', 'person', 'porn', 'movi', 'anoth', 'sketch', 'bag', 'ladi', 'beauti', 'contest', 'expos', 'horribl', 'sight', 'bikini', 'clad', 'middl', 'age', 'women', 'beer', 'gut', 'stretch', 'mark', 'plu', 'make', 'fun', 'homeless', 'sad', 'funni', 'step', 'away', 'mock', 'mental', 'handicap', 'whole', 'movi', 'suppos', 'satir', 'think', 'filmmak', 'forgot', 'key', 'element', 'satir', 'truth', 'anybodi', 'actual', 'enjoy', 'crap', 'explain', 'truth', 'gag', 'sketch', 'might', 'sound', 'funni', 'paper', 'anybodi', 'taken', 'screen', 'write', 'class', 'know', 'sight', 'gag', 'sound', 'funni', 'paper', 'probabl', 'funni', 'screen', 'tell', 'someon', 'big', 'black', 'muscular', 'gay', 'virgin', 'save', 'right', 'man', 'would', 'probabl', 'laugh', 'watch', 'premis', 'play', 'screen', '10', 'minut', 'complet', 'drag', 'hate', 'whenev', 'peopl', 'critic', 'low', 'brow', 'comedi', 'like', 'funni', 'regard', 'stuck', 'squar', 'saw', 'white', 'chick', 'recent', 'anoth', 'low', 'brow', 'polit', 'incorrect', 'comedi', 'laugh', 'head', 'offens', 'thing', 'underground', 'comedi', 'movi', 'funni', 'writer', 'director', 'understand', 'mere', 'filthi', 'tasteless', 'work', 'think', 'famou', 'scene', 'someth', 'mari', 'iron', 'enough', 'bozo', 'filmmak', 'put', 'farrelli', 'special', 'thank', 'list', 'joke', 'semen', 'funni', 'involv', 'bodili', 'fluid', 'buildup', 'ben', 'stiller', 'masturb', 'bathroom', 'make', 'sure', 'go', 'date', 'load', 'gun', 'look', 'around', 'see', 'semen', 'went', 'releas', 'knock', 'door', 'answer', 'date', 'mari', 'door', 'reveal', 'semen', 'hang', 'ben', 'ear', 'movi', 'multipl', 'gag', 'involv', 'charact', 'squirt', 'load', 'semen', 'peopl', 'buildup', 'whatsoev', 'jay', 'leno', 'alway', 'say', 'comedi', 'thing', 'easi', 'keep', 'mind', 'vinc', 'offer', 'caus', 'cut', 'genr', 'reason', 'peopl', 'might', 'laugh', 'gag', 'want', 'feel', 'hip', 'let', 'face', 'nowaday', 'hip', 'laugh', 'anyth', 'polit', 'incorrect', 'know', 'comedi', 'subject', 'movi', 'funni', 'anybodi', 'except', 'mayb', 'filmmak', 'side', 'note', 'movi', 'made', 'michael', 'clark', 'duncan', 'fame', 'movi', 'like', 'armageddon', 'green', 'mile', 'reason', 'actor', 'calib', 'would', 'volunt', 'part', 'amateurish', 'freak', 'show', 'other', 'cast', 'either', 'non', 'actor', 'actor', 'b', 'movi', 'star', 'karen', 'black', 'made', 'good', 'impress', 'five', 'easi', 'piec', 'think', 'done', 'anyth', 'valu', 'ever', 'sinc', 'slash', 'probabl', 'drug', 'film', 'gina', 'lee', 'nolin', 'noth', 'without', 'baywatch', 'angelyn', 'film', 'biggest', 'star', 'keep', 'mind', 'duncan', 'famou', 'time', 'still', 'probabl', 'ton', 'peopl', 'heard', 'good', 'reason', 'usual', 'support', 'extrem', 'low', 'budget', 'flick', 'one', 'deserv', 'drift', 'obscur', 'hope', 'lord', 'becom', 'cult', 'classic', 'law', 'distribut', 'crap', 'like']\n"
     ]
    }
   ],
   "source": [
    "print(train_X[0])"
   ]
  },
  {
   "cell_type": "markdown",
   "metadata": {},
   "source": [
    "## Transform the data\n",
    "\n",
    "In the XGBoost notebook we transformed the data from its word representation to a bag-of-words feature representation. For the model we are going to construct in this notebook we will construct a feature representation which is very similar. To start, we will represent each word as an integer. Of course, some of the words that appear in the reviews occur very infrequently and so likely don't contain much information for the purposes of sentiment analysis. The way we will deal with this problem is that we will fix the size of our working vocabulary and we will only include the words that appear most frequently. We will then combine all of the infrequent words into a single category and, in our case, we will label it as `1`.\n",
    "\n",
    "Since we will be using a recurrent neural network, it will be convenient if the length of each review is the same. To do this, we will fix a size for our reviews and then pad short reviews with the category 'no word' (which we will label `0`) and truncate long reviews."
   ]
  },
  {
   "cell_type": "markdown",
   "metadata": {},
   "source": [
    "### (TODO) Create a word dictionary\n",
    "\n",
    "To begin with, we need to construct a way to map words that appear in the reviews to integers. Here we fix the size of our vocabulary (including the 'no word' and 'infrequent' categories) to be `5000` but you may wish to change this to see how it affects the model.\n",
    "\n",
    "> **TODO:** Complete the implementation for the `build_dict()` method below. Note that even though the vocab_size is set to `5000`, we only want to construct a mapping for the most frequently appearing `4998` words. This is because we want to reserve the special labels `0` for 'no word' and `1` for 'infrequent word'."
   ]
  },
  {
   "cell_type": "code",
   "execution_count": 13,
   "metadata": {},
   "outputs": [],
   "source": [
    "import numpy as np\n",
    "from collections import Counter\n",
    "\n",
    "def build_dict(data, vocab_size = 5000):\n",
    "    \"\"\"Construct and return a dictionary mapping each of the most frequently appearing words to a unique integer.\"\"\"\n",
    "    \n",
    "    # TODO: Determine how often each word appears in `data`. Note that `data` is a list of sentences and that a\n",
    "    #       sentence is a list of words.\n",
    "    \n",
    "    word_count ={}\n",
    "    word_counter = Counter() # A dict storing the words that appear in the reviews along with how often they occur\n",
    "    for sentence in data:\n",
    "        word_counter.update(sentence)\n",
    "\n",
    "    word_count = dict(word_counter.most_common())\n",
    "    # TODO: Sort the words found in `data` so that sorted_words[0] is the most frequently appearing word and\n",
    "    #       sorted_words[-1] is the least frequently appearing word.\n",
    "    \n",
    "    sorted_words = list(word_count.keys())\n",
    "    \n",
    "    word_dict = {} # This is what we are building, a dictionary that translates words into integers\n",
    "    for idx, word in enumerate(sorted_words[:vocab_size - 2]): # The -2 is so that we save room for the 'no word'\n",
    "        word_dict[word] = idx + 2                              # 'infrequent' labels\n",
    "        \n",
    "    return word_dict"
   ]
  },
  {
   "cell_type": "code",
   "execution_count": 14,
   "metadata": {},
   "outputs": [],
   "source": [
    "word_dict = build_dict(train_X)"
   ]
  },
  {
   "cell_type": "code",
   "execution_count": 15,
   "metadata": {},
   "outputs": [
    {
     "name": "stdout",
     "output_type": "stream",
     "text": [
      "{'movi': 2, 'film': 3, 'one': 4, 'like': 5, 'time': 6, 'good': 7, 'make': 8, 'charact': 9, 'get': 10, 'see': 11, 'watch': 12, 'stori': 13, 'even': 14, 'would': 15, 'realli': 16, 'well': 17, 'scene': 18, 'look': 19, 'show': 20, 'much': 21, 'end': 22, 'peopl': 23, 'bad': 24, 'go': 25, 'great': 26, 'also': 27, 'first': 28, 'love': 29, 'think': 30, 'way': 31, 'act': 32, 'play': 33, 'made': 34, 'thing': 35, 'could': 36, 'know': 37, 'say': 38, 'seem': 39, 'work': 40, 'plot': 41, 'two': 42, 'actor': 43, 'year': 44, 'come': 45, 'mani': 46, 'seen': 47, 'take': 48, 'want': 49, 'life': 50, 'never': 51, 'littl': 52, 'best': 53, 'tri': 54, 'man': 55, 'ever': 56, 'give': 57, 'better': 58, 'still': 59, 'perform': 60, 'find': 61, 'feel': 62, 'part': 63, 'back': 64, 'use': 65, 'someth': 66, 'director': 67, 'actual': 68, 'interest': 69, 'lot': 70, 'real': 71, 'old': 72, 'cast': 73, 'though': 74, 'live': 75, 'star': 76, 'enjoy': 77, 'guy': 78, 'anoth': 79, 'new': 80, 'role': 81, 'noth': 82, '10': 83, 'funni': 84, 'music': 85, 'point': 86, 'start': 87, 'set': 88, 'girl': 89, 'origin': 90, 'day': 91, 'world': 92, 'everi': 93, 'believ': 94, 'turn': 95, 'quit': 96, 'us': 97, 'direct': 98, 'thought': 99, 'fact': 100, 'minut': 101, 'horror': 102, 'kill': 103, 'action': 104, 'comedi': 105, 'pretti': 106, 'young': 107, 'wonder': 108, 'happen': 109, 'around': 110, 'got': 111, 'effect': 112, 'right': 113, 'long': 114, 'howev': 115, 'big': 116, 'line': 117, 'famili': 118, 'enough': 119, 'seri': 120, 'may': 121, 'need': 122, 'fan': 123, 'bit': 124, 'script': 125, 'beauti': 126, 'person': 127, 'becom': 128, 'without': 129, 'must': 130, 'alway': 131, 'friend': 132, 'tell': 133, 'reason': 134, 'saw': 135, 'last': 136, 'final': 137, 'kid': 138, 'almost': 139, 'put': 140, 'least': 141, 'sure': 142, 'done': 143, 'whole': 144, 'place': 145, 'complet': 146, 'kind': 147, 'differ': 148, 'expect': 149, 'shot': 150, 'far': 151, 'mean': 152, 'anyth': 153, 'book': 154, 'laugh': 155, 'might': 156, 'name': 157, 'sinc': 158, 'begin': 159, '2': 160, 'probabl': 161, 'woman': 162, 'help': 163, 'entertain': 164, 'let': 165, 'screen': 166, 'call': 167, 'tv': 168, 'moment': 169, 'away': 170, 'read': 171, 'yet': 172, 'rather': 173, 'worst': 174, 'run': 175, 'fun': 176, 'lead': 177, 'hard': 178, 'audienc': 179, 'idea': 180, 'anyon': 181, 'episod': 182, 'american': 183, 'found': 184, 'appear': 185, 'bore': 186, 'especi': 187, 'although': 188, 'hope': 189, 'keep': 190, 'cours': 191, 'anim': 192, 'job': 193, 'goe': 194, 'move': 195, 'sens': 196, 'dvd': 197, 'version': 198, 'war': 199, 'money': 200, 'someon': 201, 'mind': 202, 'mayb': 203, 'problem': 204, 'true': 205, 'hous': 206, 'everyth': 207, 'nice': 208, 'second': 209, 'rate': 210, 'three': 211, 'night': 212, 'face': 213, 'follow': 214, 'recommend': 215, 'main': 216, 'product': 217, 'worth': 218, 'leav': 219, 'human': 220, 'special': 221, 'excel': 222, 'togeth': 223, 'wast': 224, 'everyon': 225, 'sound': 226, 'john': 227, 'hand': 228, '1': 229, 'father': 230, 'later': 231, 'eye': 232, 'said': 233, 'view': 234, 'instead': 235, 'review': 236, 'boy': 237, 'high': 238, 'hour': 239, 'miss': 240, 'classic': 241, 'talk': 242, 'wife': 243, 'understand': 244, 'left': 245, 'care': 246, 'black': 247, 'death': 248, 'open': 249, 'murder': 250, 'write': 251, 'half': 252, 'head': 253, 'rememb': 254, 'chang': 255, 'viewer': 256, 'fight': 257, 'gener': 258, 'surpris': 259, 'short': 260, 'includ': 261, 'die': 262, 'fall': 263, 'less': 264, 'els': 265, 'entir': 266, 'piec': 267, 'involv': 268, 'pictur': 269, 'simpli': 270, 'top': 271, 'power': 272, 'home': 273, 'total': 274, 'usual': 275, 'budget': 276, 'attempt': 277, 'suppos': 278, 'releas': 279, 'hollywood': 280, 'terribl': 281, 'song': 282, 'men': 283, 'possibl': 284, 'featur': 285, 'portray': 286, 'disappoint': 287, '3': 288, 'poor': 289, 'coupl': 290, 'camera': 291, 'stupid': 292, 'dead': 293, 'wrong': 294, 'low': 295, 'produc': 296, 'either': 297, 'video': 298, 'aw': 299, 'definit': 300, 'except': 301, 'rest': 302, 'given': 303, 'absolut': 304, 'women': 305, 'lack': 306, 'word': 307, 'writer': 308, 'titl': 309, 'talent': 310, 'decid': 311, 'full': 312, 'perfect': 313, 'along': 314, 'style': 315, 'close': 316, 'truli': 317, 'school': 318, 'save': 319, 'emot': 320, 'sex': 321, 'age': 322, 'next': 323, 'bring': 324, 'mr': 325, 'case': 326, 'killer': 327, 'heart': 328, 'comment': 329, 'sort': 330, 'creat': 331, 'perhap': 332, 'came': 333, 'brother': 334, 'sever': 335, 'joke': 336, 'art': 337, 'dialogu': 338, 'game': 339, 'small': 340, 'base': 341, 'flick': 342, 'written': 343, 'sequenc': 344, 'meet': 345, 'earli': 346, 'often': 347, 'other': 348, 'mother': 349, 'develop': 350, 'humor': 351, 'actress': 352, 'consid': 353, 'dark': 354, 'guess': 355, 'amaz': 356, 'unfortun': 357, 'light': 358, 'lost': 359, 'exampl': 360, 'cinema': 361, 'drama': 362, 'white': 363, 'ye': 364, 'experi': 365, 'imagin': 366, 'mention': 367, 'stop': 368, 'natur': 369, 'forc': 370, 'manag': 371, 'felt': 372, 'cut': 373, 'present': 374, 'children': 375, 'fail': 376, 'son': 377, 'support': 378, 'car': 379, 'qualiti': 380, 'ask': 381, 'hit': 382, 'side': 383, 'voic': 384, 'extrem': 385, 'impress': 386, 'evil': 387, 'wors': 388, 'went': 389, 'stand': 390, 'certainli': 391, 'basic': 392, 'oh': 393, 'overal': 394, 'favorit': 395, 'horribl': 396, 'mysteri': 397, 'number': 398, 'type': 399, 'danc': 400, 'wait': 401, 'hero': 402, '5': 403, 'alreadi': 404, 'learn': 405, 'matter': 406, '4': 407, 'michael': 408, 'genr': 409, 'fine': 410, 'despit': 411, 'throughout': 412, 'walk': 413, 'success': 414, 'histori': 415, 'question': 416, 'zombi': 417, 'town': 418, 'relationship': 419, 'realiz': 420, 'child': 421, 'past': 422, 'daughter': 423, 'late': 424, 'b': 425, 'wish': 426, 'hate': 427, 'credit': 428, 'event': 429, 'theme': 430, 'touch': 431, 'citi': 432, 'today': 433, 'sometim': 434, 'behind': 435, 'god': 436, 'twist': 437, 'sit': 438, 'annoy': 439, 'stay': 440, 'deal': 441, 'abl': 442, 'rent': 443, 'pleas': 444, 'edit': 445, 'blood': 446, 'deserv': 447, 'comic': 448, 'anyway': 449, 'appar': 450, 'soon': 451, 'gave': 452, 'etc': 453, 'level': 454, 'slow': 455, 'chanc': 456, 'score': 457, 'bodi': 458, 'brilliant': 459, 'incred': 460, 'figur': 461, 'situat': 462, 'major': 463, 'self': 464, 'stuff': 465, 'decent': 466, 'element': 467, 'return': 468, 'dream': 469, 'obvious': 470, 'continu': 471, 'order': 472, 'pace': 473, 'ridicul': 474, 'happi': 475, 'group': 476, 'add': 477, 'highli': 478, 'thank': 479, 'ladi': 480, 'novel': 481, 'pain': 482, 'speak': 483, 'career': 484, 'shoot': 485, 'strang': 486, 'heard': 487, 'sad': 488, 'polic': 489, 'husband': 490, 'import': 491, 'break': 492, 'took': 493, 'strong': 494, 'cannot': 495, 'robert': 496, 'predict': 497, 'violenc': 498, 'hilari': 499, 'recent': 500, 'countri': 501, 'known': 502, 'particularli': 503, 'pick': 504, 'documentari': 505, 'season': 506, 'critic': 507, 'jame': 508, 'compar': 509, 'obviou': 510, 'alon': 511, 'told': 512, 'state': 513, 'rock': 514, 'visual': 515, 'offer': 516, 'exist': 517, 'theater': 518, 'opinion': 519, 'gore': 520, 'crap': 521, 'hold': 522, 'result': 523, 'hear': 524, 'room': 525, 'realiti': 526, 'effort': 527, 'clich': 528, 'thriller': 529, 'caus': 530, 'explain': 531, 'serious': 532, 'sequel': 533, 'king': 534, 'local': 535, 'ago': 536, 'hell': 537, 'none': 538, 'note': 539, 'allow': 540, 'sister': 541, 'david': 542, 'simpl': 543, 'femal': 544, 'deliv': 545, 'ok': 546, 'class': 547, 'convinc': 548, 'check': 549, 'suspens': 550, 'win': 551, 'buy': 552, 'oscar': 553, 'huge': 554, 'valu': 555, 'sexual': 556, 'scari': 557, 'cool': 558, 'similar': 559, 'excit': 560, 'apart': 561, 'exactli': 562, 'provid': 563, 'avoid': 564, 'shown': 565, 'seriou': 566, 'english': 567, 'taken': 568, 'whose': 569, 'cinematographi': 570, 'shock': 571, 'polit': 572, 'spoiler': 573, 'offic': 574, 'across': 575, 'middl': 576, 'street': 577, 'pass': 578, 'messag': 579, 'somewhat': 580, 'charm': 581, 'silli': 582, 'modern': 583, 'filmmak': 584, 'confus': 585, 'form': 586, 'tale': 587, 'singl': 588, 'jack': 589, 'mostli': 590, 'william': 591, 'attent': 592, 'carri': 593, 'sing': 594, 'subject': 595, 'five': 596, 'richard': 597, 'prove': 598, 'stage': 599, 'team': 600, 'cop': 601, 'unlik': 602, 'georg': 603, 'televis': 604, 'monster': 605, 'earth': 606, 'cover': 607, 'villain': 608, 'pay': 609, 'marri': 610, 'toward': 611, 'build': 612, 'pull': 613, 'parent': 614, 'due': 615, 'respect': 616, 'fill': 617, 'four': 618, 'dialog': 619, 'remind': 620, 'futur': 621, 'typic': 622, 'weak': 623, '7': 624, 'cheap': 625, 'intellig': 626, 'british': 627, 'atmospher': 628, 'clearli': 629, '80': 630, 'non': 631, 'paul': 632, 'dog': 633, 'fast': 634, 'artist': 635, 'knew': 636, '8': 637, 'crime': 638, 'easili': 639, 'escap': 640, 'adult': 641, 'doubt': 642, 'detail': 643, 'date': 644, 'fire': 645, 'romant': 646, 'member': 647, 'gun': 648, 'drive': 649, 'straight': 650, 'fit': 651, 'beyond': 652, 'attack': 653, 'imag': 654, 'upon': 655, 'posit': 656, 'whether': 657, 'fantast': 658, 'peter': 659, 'appreci': 660, 'captur': 661, 'aspect': 662, 'ten': 663, 'plan': 664, 'discov': 665, 'remain': 666, 'period': 667, 'near': 668, 'realist': 669, 'air': 670, 'mark': 671, 'red': 672, 'dull': 673, 'adapt': 674, 'within': 675, 'spend': 676, 'lose': 677, 'materi': 678, 'color': 679, 'chase': 680, 'mari': 681, 'storylin': 682, 'forget': 683, 'bunch': 684, 'clear': 685, 'lee': 686, 'victim': 687, 'nearli': 688, 'box': 689, 'york': 690, 'match': 691, 'inspir': 692, 'finish': 693, 'mess': 694, 'standard': 695, 'easi': 696, 'truth': 697, 'suffer': 698, 'busi': 699, 'bill': 700, 'space': 701, 'dramat': 702, 'western': 703, 'e': 704, 'list': 705, 'battl': 706, 'notic': 707, 'de': 708, 'french': 709, 'ad': 710, '9': 711, 'tom': 712, 'larg': 713, 'among': 714, 'eventu': 715, 'accept': 716, 'train': 717, 'agre': 718, 'soundtrack': 719, 'spirit': 720, 'third': 721, 'teenag': 722, 'soldier': 723, 'adventur': 724, 'famou': 725, 'drug': 726, 'sorri': 727, 'suggest': 728, 'cri': 729, 'babi': 730, 'normal': 731, 'ultim': 732, 'troubl': 733, 'contain': 734, 'certain': 735, 'cultur': 736, 'romanc': 737, 'rare': 738, 'lame': 739, 'somehow': 740, 'mix': 741, 'disney': 742, 'gone': 743, 'cartoon': 744, 'student': 745, 'reveal': 746, 'fear': 747, 'kept': 748, 'suck': 749, 'attract': 750, 'appeal': 751, 'premis': 752, 'greatest': 753, 'design': 754, 'secret': 755, 'shame': 756, 'throw': 757, 'scare': 758, 'copi': 759, 'wit': 760, 'admit': 761, 'america': 762, 'relat': 763, 'brought': 764, 'particular': 765, 'screenplay': 766, 'whatev': 767, 'pure': 768, '70': 769, 'averag': 770, 'harri': 771, 'master': 772, 'describ': 773, 'male': 774, 'treat': 775, '20': 776, 'issu': 777, 'fantasi': 778, 'warn': 779, 'inde': 780, 'forward': 781, 'background': 782, 'project': 783, 'free': 784, 'memor': 785, 'japanes': 786, 'poorli': 787, 'award': 788, 'locat': 789, 'amus': 790, 'potenti': 791, 'struggl': 792, 'weird': 793, 'magic': 794, 'societi': 795, 'okay': 796, 'accent': 797, 'imdb': 798, 'doctor': 799, 'water': 800, 'hot': 801, '30': 802, 'express': 803, 'alien': 804, 'dr': 805, 'odd': 806, 'choic': 807, 'crazi': 808, 'fiction': 809, 'studio': 810, 'becam': 811, 'control': 812, 'masterpiec': 813, 'difficult': 814, 'fli': 815, 'joe': 816, 'scream': 817, 'costum': 818, 'lover': 819, 'uniqu': 820, 'refer': 821, 'remak': 822, 'girlfriend': 823, 'vampir': 824, 'prison': 825, 'execut': 826, 'wear': 827, 'jump': 828, 'unless': 829, 'wood': 830, 'creepi': 831, 'cheesi': 832, 'superb': 833, 'otherwis': 834, 'parti': 835, 'roll': 836, 'ghost': 837, 'mad': 838, 'public': 839, 'depict': 840, 'jane': 841, 'week': 842, 'badli': 843, 'earlier': 844, 'moral': 845, 'dumb': 846, 'fi': 847, 'grow': 848, 'flaw': 849, 'sci': 850, 'deep': 851, 'maker': 852, 'cat': 853, 'older': 854, 'footag': 855, 'connect': 856, 'plenti': 857, 'bother': 858, 'outsid': 859, 'stick': 860, 'gay': 861, 'catch': 862, 'plu': 863, 'co': 864, 'popular': 865, 'equal': 866, 'social': 867, 'quickli': 868, 'disturb': 869, 'perfectli': 870, 'dress': 871, '90': 872, 'era': 873, 'mistak': 874, 'lie': 875, 'ride': 876, 'previou': 877, 'combin': 878, 'band': 879, 'concept': 880, 'answer': 881, 'surviv': 882, 'rich': 883, 'front': 884, 'christma': 885, 'sweet': 886, 'insid': 887, 'bare': 888, 'eat': 889, 'concern': 890, 'ben': 891, 'listen': 892, 'beat': 893, 'c': 894, 'serv': 895, 'term': 896, 'meant': 897, 'la': 898, 'german': 899, 'stereotyp': 900, 'hardli': 901, 'law': 902, 'innoc': 903, 'desper': 904, 'promis': 905, 'memori': 906, 'intent': 907, 'cute': 908, 'variou': 909, 'inform': 910, 'steal': 911, 'brain': 912, 'post': 913, 'tone': 914, 'island': 915, 'amount': 916, 'nuditi': 917, 'compani': 918, 'track': 919, 'store': 920, 'claim': 921, 'flat': 922, 'hair': 923, '50': 924, 'univers': 925, 'land': 926, 'fairli': 927, 'kick': 928, 'scott': 929, 'danger': 930, 'player': 931, 'step': 932, 'crew': 933, 'plain': 934, 'toni': 935, 'share': 936, 'centuri': 937, 'tast': 938, 'achiev': 939, 'engag': 940, 'travel': 941, 'cold': 942, 'record': 943, 'rip': 944, 'suit': 945, 'sadli': 946, 'manner': 947, 'wrote': 948, 'tension': 949, 'spot': 950, 'fascin': 951, 'intens': 952, 'familiar': 953, 'remark': 954, 'depth': 955, 'burn': 956, 'destroy': 957, 'histor': 958, 'sleep': 959, 'purpos': 960, 'languag': 961, 'ruin': 962, 'ignor': 963, 'delight': 964, 'unbeliev': 965, 'italian': 966, 'collect': 967, 'soul': 968, 'abil': 969, 'clever': 970, 'detect': 971, 'violent': 972, 'rape': 973, 'reach': 974, 'door': 975, 'liter': 976, 'trash': 977, 'scienc': 978, 'caught': 979, 'commun': 980, 'reveng': 981, 'creatur': 982, 'approach': 983, 'trip': 984, 'intrigu': 985, 'fashion': 986, 'paint': 987, 'skill': 988, 'introduc': 989, 'complex': 990, 'channel': 991, 'camp': 992, 'christian': 993, 'hole': 994, 'extra': 995, 'mental': 996, 'limit': 997, 'immedi': 998, 'ann': 999, 'mere': 1000, '6': 1001, 'million': 1002, 'comput': 1003, 'slightli': 1004, 'conclus': 1005, 'slasher': 1006, 'suddenli': 1007, 'imposs': 1008, 'crimin': 1009, 'neither': 1010, 'teen': 1011, 'spent': 1012, 'nation': 1013, 'physic': 1014, 'respons': 1015, 'planet': 1016, 'fake': 1017, 'receiv': 1018, 'sick': 1019, 'blue': 1020, 'bizarr': 1021, 'embarrass': 1022, 'indian': 1023, '15': 1024, 'ring': 1025, 'pop': 1026, 'drop': 1027, 'drag': 1028, 'haunt': 1029, 'pointless': 1030, 'suspect': 1031, 'search': 1032, 'edg': 1033, 'handl': 1034, 'biggest': 1035, 'common': 1036, 'faith': 1037, 'arriv': 1038, 'hurt': 1039, 'technic': 1040, 'angel': 1041, 'dad': 1042, 'genuin': 1043, 'f': 1044, 'solid': 1045, 'awesom': 1046, 'van': 1047, 'colleg': 1048, 'former': 1049, 'focu': 1050, 'count': 1051, 'tear': 1052, 'heavi': 1053, 'rais': 1054, 'wall': 1055, 'visit': 1056, 'younger': 1057, 'laughabl': 1058, 'excus': 1059, 'fair': 1060, 'sign': 1061, 'cult': 1062, 'key': 1063, 'motion': 1064, 'tough': 1065, 'desir': 1066, 'super': 1067, 'stun': 1068, 'addit': 1069, 'cloth': 1070, 'exploit': 1071, 'tortur': 1072, 'smith': 1073, 'race': 1074, 'davi': 1075, 'cross': 1076, 'author': 1077, 'jim': 1078, 'minor': 1079, 'consist': 1080, 'focus': 1081, 'compel': 1082, 'pathet': 1083, 'chemistri': 1084, 'commit': 1085, 'park': 1086, 'obsess': 1087, 'frank': 1088, 'tradit': 1089, 'grade': 1090, 'asid': 1091, '60': 1092, 'brutal': 1093, 'somewher': 1094, 'steve': 1095, 'rule': 1096, 'explor': 1097, 'grant': 1098, 'depress': 1099, 'opportun': 1100, 'u': 1101, 'besid': 1102, 'honest': 1103, 'anti': 1104, 'dub': 1105, 'intend': 1106, 'trailer': 1107, 'bar': 1108, 'regard': 1109, 'west': 1110, 'longer': 1111, 'scientist': 1112, 'judg': 1113, 'decad': 1114, 'silent': 1115, 'creativ': 1116, 'armi': 1117, 'wild': 1118, 'g': 1119, 'south': 1120, 'stewart': 1121, 'draw': 1122, 'road': 1123, 'govern': 1124, 'boss': 1125, 'ex': 1126, 'practic': 1127, 'gang': 1128, 'festiv': 1129, 'surprisingli': 1130, 'motiv': 1131, 'club': 1132, 'green': 1133, 'page': 1134, 'redeem': 1135, 'london': 1136, 'display': 1137, 'idiot': 1138, 'aliv': 1139, 'machin': 1140, 'militari': 1141, 'repeat': 1142, 'thrill': 1143, 'yeah': 1144, 'folk': 1145, 'nobodi': 1146, '100': 1147, '40': 1148, 'garbag': 1149, 'journey': 1150, 'tire': 1151, 'smile': 1152, 'ground': 1153, 'bought': 1154, 'mood': 1155, 'cost': 1156, 'stone': 1157, 'sam': 1158, 'mouth': 1159, 'noir': 1160, 'terrif': 1161, 'agent': 1162, 'utterli': 1163, 'requir': 1164, 'area': 1165, 'sexi': 1166, 'honestli': 1167, 'report': 1168, 'geniu': 1169, 'investig': 1170, 'enter': 1171, 'humour': 1172, 'glad': 1173, 'serial': 1174, 'occasion': 1175, 'narr': 1176, 'passion': 1177, 'marriag': 1178, 'climax': 1179, 'industri': 1180, 'studi': 1181, 'charli': 1182, 'nowher': 1183, 'center': 1184, 'ship': 1185, 'demon': 1186, 'hors': 1187, 'loos': 1188, 'bear': 1189, 'wow': 1190, 'hang': 1191, 'graphic': 1192, 'admir': 1193, 'giant': 1194, 'send': 1195, 'damn': 1196, 'loud': 1197, 'nake': 1198, 'subtl': 1199, 'rel': 1200, 'profession': 1201, 'blow': 1202, 'bottom': 1203, 'insult': 1204, 'batman': 1205, 'doubl': 1206, 'kelli': 1207, 'r': 1208, 'boyfriend': 1209, 'initi': 1210, 'frame': 1211, 'opera': 1212, 'gem': 1213, 'drawn': 1214, 'cinemat': 1215, 'challeng': 1216, 'church': 1217, 'affect': 1218, 'l': 1219, 'evid': 1220, 'fulli': 1221, 'nightmar': 1222, 'j': 1223, 'seek': 1224, 'conflict': 1225, 'essenti': 1226, 'arm': 1227, 'wind': 1228, 'christoph': 1229, 'henri': 1230, 'grace': 1231, 'witch': 1232, 'narrat': 1233, 'assum': 1234, 'hunt': 1235, 'push': 1236, 'wise': 1237, 'chri': 1238, 'month': 1239, 'repres': 1240, 'nomin': 1241, 'affair': 1242, 'avail': 1243, 'sceneri': 1244, 'hide': 1245, 'smart': 1246, 'bond': 1247, 'thu': 1248, 'justic': 1249, 'flashback': 1250, 'interview': 1251, 'outstand': 1252, 'satisfi': 1253, 'constantli': 1254, 'presenc': 1255, 'central': 1256, 'bed': 1257, 'iron': 1258, 'content': 1259, 'sell': 1260, 'gag': 1261, 'everybodi': 1262, 'hotel': 1263, 'slowli': 1264, 'hire': 1265, 'system': 1266, 'hey': 1267, 'charl': 1268, 'individu': 1269, 'thrown': 1270, 'adam': 1271, 'jone': 1272, 'mediocr': 1273, 'allen': 1274, 'ray': 1275, 'billi': 1276, 'lesson': 1277, 'cameo': 1278, 'photographi': 1279, 'fellow': 1280, 'pari': 1281, 'strike': 1282, 'rise': 1283, 'absurd': 1284, 'brief': 1285, 'independ': 1286, 'neg': 1287, 'impact': 1288, 'phone': 1289, 'model': 1290, 'born': 1291, 'ill': 1292, 'spoil': 1293, 'fresh': 1294, 'angl': 1295, 'likabl': 1296, 'abus': 1297, 'discuss': 1298, 'hill': 1299, 'sight': 1300, 'ahead': 1301, 'sent': 1302, 'photograph': 1303, 'shine': 1304, 'blame': 1305, 'logic': 1306, 'occur': 1307, 'mainli': 1308, 'bruce': 1309, 'forev': 1310, 'skip': 1311, 'commerci': 1312, 'teacher': 1313, 'surround': 1314, 'segment': 1315, 'held': 1316, 'zero': 1317, 'blond': 1318, 'satir': 1319, 'trap': 1320, 'resembl': 1321, 'summer': 1322, 'fool': 1323, 'ball': 1324, 'six': 1325, 'queen': 1326, 'tragedi': 1327, 'sub': 1328, 'twice': 1329, 'pack': 1330, 'reaction': 1331, 'bomb': 1332, 'will': 1333, 'hospit': 1334, 'protagonist': 1335, 'mile': 1336, 'sport': 1337, 'jerri': 1338, 'vote': 1339, 'trust': 1340, 'mom': 1341, 'drink': 1342, 'encount': 1343, 'plane': 1344, 'station': 1345, 'current': 1346, 'al': 1347, 'program': 1348, 'martin': 1349, 'celebr': 1350, 'choos': 1351, 'join': 1352, 'lord': 1353, 'round': 1354, 'field': 1355, 'tragic': 1356, 'favourit': 1357, 'jean': 1358, 'vision': 1359, 'robot': 1360, 'arthur': 1361, 'tie': 1362, 'random': 1363, 'roger': 1364, 'fortun': 1365, 'psycholog': 1366, 'intern': 1367, 'dread': 1368, 'nonsens': 1369, 'improv': 1370, 'prefer': 1371, 'epic': 1372, 'highlight': 1373, 'legend': 1374, 'pleasur': 1375, 'formula': 1376, 'dollar': 1377, 'tape': 1378, '11': 1379, 'porn': 1380, 'thin': 1381, 'fox': 1382, 'gorgeou': 1383, 'wide': 1384, 'object': 1385, 'buddi': 1386, 'influenc': 1387, 'ugli': 1388, 'prepar': 1389, 'nasti': 1390, 'ii': 1391, 'progress': 1392, 'reflect': 1393, 'warm': 1394, 'supposedli': 1395, 'youth': 1396, 'worthi': 1397, 'latter': 1398, 'length': 1399, 'unusu': 1400, 'crash': 1401, 'childhood': 1402, 'seven': 1403, 'shop': 1404, 'superior': 1405, 'remot': 1406, 'theatr': 1407, 'paid': 1408, 'funniest': 1409, 'disgust': 1410, 'pilot': 1411, 'trick': 1412, 'convers': 1413, 'fell': 1414, 'castl': 1415, 'gangster': 1416, 'rob': 1417, 'establish': 1418, 'disast': 1419, 'heaven': 1420, 'disappear': 1421, 'suicid': 1422, 'mine': 1423, 'ident': 1424, 'decis': 1425, 'heroin': 1426, 'mask': 1427, 'tend': 1428, 'singer': 1429, 'forgotten': 1430, 'partner': 1431, 'brian': 1432, 'desert': 1433, 'alan': 1434, 'recogn': 1435, 'stuck': 1436, 'ms': 1437, 'thoroughli': 1438, 'p': 1439, 'sky': 1440, 'accur': 1441, 'replac': 1442, 'market': 1443, 'uncl': 1444, 'clue': 1445, 'danni': 1446, 'eddi': 1447, 'seemingli': 1448, 'commentari': 1449, 'andi': 1450, 'devil': 1451, 'jackson': 1452, 'therefor': 1453, 'pair': 1454, 'refus': 1455, 'that': 1456, 'unit': 1457, 'ed': 1458, 'fault': 1459, 'river': 1460, 'accid': 1461, 'fate': 1462, 'tune': 1463, 'afraid': 1464, 'clean': 1465, 'stephen': 1466, 'hidden': 1467, 'russian': 1468, 'quick': 1469, 'irrit': 1470, 'captain': 1471, 'instanc': 1472, 'test': 1473, 'convey': 1474, 'readi': 1475, 'european': 1476, 'daniel': 1477, 'insan': 1478, 'frustrat': 1479, 'rescu': 1480, '1950': 1481, 'wed': 1482, 'food': 1483, 'chines': 1484, 'lock': 1485, 'dirti': 1486, 'angri': 1487, 'joy': 1488, 'steven': 1489, 'price': 1490, 'bland': 1491, 'cage': 1492, 'rang': 1493, 'anymor': 1494, 'wooden': 1495, 'news': 1496, 'n': 1497, 'rush': 1498, 'jason': 1499, '12': 1500, 'led': 1501, 'twenti': 1502, 'martial': 1503, 'board': 1504, 'worri': 1505, 'hunter': 1506, 'symbol': 1507, 'cgi': 1508, 'transform': 1509, 'piti': 1510, 'invent': 1511, 'sentiment': 1512, 'johnni': 1513, 'x': 1514, 'onto': 1515, 'attitud': 1516, 'explan': 1517, 'process': 1518, 'awar': 1519, 'owner': 1520, 'aim': 1521, 'floor': 1522, 'target': 1523, 'energi': 1524, 'favor': 1525, 'necessari': 1526, 'religi': 1527, 'opposit': 1528, 'chick': 1529, 'blind': 1530, 'insight': 1531, 'window': 1532, 'movement': 1533, 'mountain': 1534, 'deepli': 1535, 'possess': 1536, 'research': 1537, 'comparison': 1538, 'whatsoev': 1539, 'rain': 1540, 'grand': 1541, 'comed': 1542, 'shadow': 1543, 'mid': 1544, 'began': 1545, 'bank': 1546, 'parodi': 1547, 'princ': 1548, 'taylor': 1549, 'weapon': 1550, 'pre': 1551, 'credibl': 1552, 'friendship': 1553, 'dougla': 1554, 'teach': 1555, 'flesh': 1556, 'protect': 1557, 'bloodi': 1558, 'hint': 1559, 'terror': 1560, 'marvel': 1561, 'anybodi': 1562, 'load': 1563, 'drunk': 1564, 'superman': 1565, 'leader': 1566, 'accord': 1567, 'watchabl': 1568, 'brown': 1569, 'freddi': 1570, 'seat': 1571, 'hitler': 1572, 'tim': 1573, 'jeff': 1574, 'appropri': 1575, 'knock': 1576, 'charg': 1577, 'villag': 1578, 'unknown': 1579, 'keaton': 1580, 'enemi': 1581, 'unnecessari': 1582, 'england': 1583, 'media': 1584, 'empti': 1585, 'wave': 1586, 'utter': 1587, 'dare': 1588, 'strength': 1589, 'buck': 1590, 'craft': 1591, 'perspect': 1592, 'correct': 1593, 'ford': 1594, 'nativ': 1595, 'contrast': 1596, 'kiss': 1597, 'knowledg': 1598, 'chill': 1599, 'magnific': 1600, 'soap': 1601, 'nazi': 1602, 'anywher': 1603, 'distract': 1604, 'speed': 1605, '1980': 1606, 'ice': 1607, 'breath': 1608, 'mission': 1609, 'fred': 1610, 'jr': 1611, 'joan': 1612, 'crowd': 1613, 'moon': 1614, 'soft': 1615, '000': 1616, 'kate': 1617, 'frighten': 1618, 'hundr': 1619, 'dick': 1620, 'nick': 1621, 'dan': 1622, 'somebodi': 1623, 'simon': 1624, 'radio': 1625, 'dozen': 1626, 'shakespear': 1627, 'thousand': 1628, 'academi': 1629, 'andrew': 1630, 'loss': 1631, 'account': 1632, 'root': 1633, 'vehicl': 1634, 'quot': 1635, 'sum': 1636, '1970': 1637, 'leg': 1638, 'behavior': 1639, 'convent': 1640, 'gold': 1641, 'regular': 1642, 'demand': 1643, 'compet': 1644, 'worker': 1645, 'pretenti': 1646, 'stretch': 1647, 'japan': 1648, 'candi': 1649, 'explos': 1650, 'privat': 1651, 'notabl': 1652, 'lynch': 1653, 'interpret': 1654, 'tarzan': 1655, 'constant': 1656, 'debut': 1657, 'sea': 1658, 'prais': 1659, 'revolv': 1660, 'spi': 1661, 'translat': 1662, 'franc': 1663, 'quiet': 1664, 'failur': 1665, 'sat': 1666, 'jesu': 1667, 'technolog': 1668, 'threaten': 1669, 'ass': 1670, 'kevin': 1671, 'punch': 1672, 'aid': 1673, 'met': 1674, 'higher': 1675, 'toy': 1676, 'abandon': 1677, 'mike': 1678, 'vh': 1679, 'interact': 1680, 'separ': 1681, 'command': 1682, 'bet': 1683, 'confront': 1684, 'gotten': 1685, 'techniqu': 1686, 'stunt': 1687, 'belong': 1688, 'recal': 1689, 'servic': 1690, 'site': 1691, 'freak': 1692, 'cabl': 1693, 'bug': 1694, 'foot': 1695, 'african': 1696, 'capabl': 1697, 'jimmi': 1698, 'bright': 1699, 'fu': 1700, 'clark': 1701, 'fat': 1702, 'boat': 1703, 'succeed': 1704, 'stock': 1705, 'presid': 1706, 'spanish': 1707, 'gene': 1708, 'structur': 1709, 'paper': 1710, 'kidnap': 1711, 'factor': 1712, 'belief': 1713, 'whilst': 1714, 'tree': 1715, 'attend': 1716, 'complic': 1717, 'bob': 1718, 'witti': 1719, 'realism': 1720, 'realis': 1721, 'educ': 1722, 'finest': 1723, 'assist': 1724, 'broken': 1725, 'santa': 1726, 'smoke': 1727, 'determin': 1728, 'v': 1729, 'up': 1730, 'observ': 1731, 'depart': 1732, 'fame': 1733, 'rubbish': 1734, 'routin': 1735, 'hat': 1736, 'oper': 1737, 'domin': 1738, 'lewi': 1739, 'advanc': 1740, 'foreign': 1741, 'safe': 1742, 'hook': 1743, 'lone': 1744, 'morgan': 1745, 'kinda': 1746, 'rank': 1747, 'numer': 1748, 'rose': 1749, 'shape': 1750, 'civil': 1751, 'washington': 1752, 'shallow': 1753, 'vs': 1754, 'werewolf': 1755, 'morn': 1756, 'gari': 1757, 'kong': 1758, 'accomplish': 1759, 'winner': 1760, 'ordinari': 1761, 'whenev': 1762, 'virtual': 1763, 'peac': 1764, 'grab': 1765, 'offens': 1766, 'luck': 1767, 'h': 1768, 'patient': 1769, 'complain': 1770, 'bigger': 1771, 'activ': 1772, 'unfunni': 1773, 'contriv': 1774, 'welcom': 1775, 'pretend': 1776, 'dimension': 1777, 'trek': 1778, 'con': 1779, 'flash': 1780, 'wake': 1781, 'lesbian': 1782, 'dri': 1783, 'code': 1784, 'eric': 1785, 'cain': 1786, 'statu': 1787, 'albert': 1788, 'corrupt': 1789, 'guard': 1790, 'manipul': 1791, 'dancer': 1792, 'context': 1793, 'gain': 1794, 'sourc': 1795, 'signific': 1796, 'speech': 1797, 'awkward': 1798, 'corni': 1799, 'sean': 1800, 'psycho': 1801, 'anthoni': 1802, '13': 1803, 'clip': 1804, 'curiou': 1805, 'reli': 1806, 'advic': 1807, 'religion': 1808, 'w': 1809, 'theatric': 1810, 'priest': 1811, 'flow': 1812, 'addict': 1813, 'howard': 1814, 'secur': 1815, 'skin': 1816, 'specif': 1817, 'asian': 1818, 'jennif': 1819, 'promot': 1820, 'luke': 1821, 'core': 1822, 'golden': 1823, 'organ': 1824, 'comfort': 1825, 'cash': 1826, 'cheat': 1827, 'lucki': 1828, 'lower': 1829, 'dislik': 1830, 'associ': 1831, 'regret': 1832, 'degre': 1833, 'frankli': 1834, 'contribut': 1835, 'frequent': 1836, 'balanc': 1837, 'spell': 1838, 'devic': 1839, 'wing': 1840, 'sake': 1841, 'print': 1842, 'forgiv': 1843, 'lake': 1844, 'thoma': 1845, 'mass': 1846, 'betti': 1847, 'gordon': 1848, 'unexpect': 1849, 'crack': 1850, 'categori': 1851, 'unfold': 1852, 'construct': 1853, 'amateur': 1854, 'grown': 1855, 'invit': 1856, 'depend': 1857, 'grew': 1858, 'condit': 1859, 'anna': 1860, 'intellectu': 1861, 'honor': 1862, 'matur': 1863, 'walter': 1864, 'sole': 1865, 'veteran': 1866, 'mirror': 1867, 'spectacular': 1868, 'sudden': 1869, 'gift': 1870, 'meanwhil': 1871, 'overli': 1872, 'liner': 1873, 'freedom': 1874, 'grip': 1875, 'robin': 1876, 'demonstr': 1877, 'experienc': 1878, 'card': 1879, 'crappi': 1880, 'circumst': 1881, 'oliv': 1882, 'section': 1883, 'subtitl': 1884, 'brilliantli': 1885, 'sheriff': 1886, 'unabl': 1887, 'colour': 1888, 'theori': 1889, 'drew': 1890, 'pile': 1891, 'path': 1892, 'altern': 1893, 'laughter': 1894, 'matt': 1895, 'cook': 1896, 'sheer': 1897, 'parker': 1898, 'wander': 1899, 'hall': 1900, 'accident': 1901, 'treatment': 1902, 'lawyer': 1903, 'relief': 1904, 'defin': 1905, 'sinatra': 1906, 'hank': 1907, 'dragon': 1908, 'captiv': 1909, 'gratuit': 1910, 'moor': 1911, 'halloween': 1912, 'wayn': 1913, 'k': 1914, 'jacki': 1915, 'unintent': 1916, 'broadway': 1917, 'barbara': 1918, 'wound': 1919, 'cowboy': 1920, 'kung': 1921, 'spoof': 1922, 'statement': 1923, 'surreal': 1924, 'canadian': 1925, 'winter': 1926, 'cheer': 1927, 'fish': 1928, 'fare': 1929, 'treasur': 1930, 'gonna': 1931, 'compos': 1932, 'sensit': 1933, 'victor': 1934, 'woodi': 1935, 'unrealist': 1936, 'emerg': 1937, 'ran': 1938, 'neighbor': 1939, 'driven': 1940, 'sympathet': 1941, 'expos': 1942, 'menac': 1943, 'overlook': 1944, 'authent': 1945, 'glass': 1946, 'topic': 1947, 'gross': 1948, 'handsom': 1949, 'ancient': 1950, 'michel': 1951, 'chief': 1952, 'nevertheless': 1953, 'feet': 1954, 'network': 1955, 'stranger': 1956, 'comedian': 1957, 'russel': 1958, 'contemporari': 1959, 'pleasant': 1960, 'cinderella': 1961, 'built': 1962, 'endless': 1963, 'blockbust': 1964, 'gori': 1965, 'underr': 1966, 'letter': 1967, 'consider': 1968, 'miser': 1969, 'earn': 1970, 'solv': 1971, 'switch': 1972, 'brook': 1973, 'virgin': 1974, 'edward': 1975, 'convict': 1976, 'victoria': 1977, 'bullet': 1978, 'joseph': 1979, 'scale': 1980, 'cynic': 1981, 'alex': 1982, 'scenario': 1983, 'chosen': 1984, '0': 1985, 'gut': 1986, 'curs': 1987, 'com': 1988, 'outrag': 1989, 'sword': 1990, 'monkey': 1991, 'substanc': 1992, 'wrap': 1993, 'proper': 1994, 'uk': 1995, 'driver': 1996, 'juli': 1997, 'screenwrit': 1998, 'remov': 1999, 'par': 2000, 'bird': 2001, 'indic': 2002, 'court': 2003, 'grave': 2004, 'advertis': 2005, 'inevit': 2006, 'roy': 2007, 'rental': 2008, 'loser': 2009, 'consequ': 2010, 'naiv': 2011, 'nanci': 2012, 'germani': 2013, 'invis': 2014, 'brave': 2015, 'bridg': 2016, 'fatal': 2017, 'slap': 2018, 'le': 2019, 'footbal': 2020, 'anger': 2021, 'ador': 2022, 'provok': 2023, 'loui': 2024, 'alcohol': 2025, 'anderson': 2026, 'chan': 2027, 'professor': 2028, 'willi': 2029, 'ryan': 2030, 'stumbl': 2031, '1930': 2032, 'assassin': 2033, 'sharp': 2034, 'patrick': 2035, 'australian': 2036, 'bat': 2037, 'amateurish': 2038, 'lousi': 2039, 'cell': 2040, 'liber': 2041, 'saturday': 2042, 'refresh': 2043, 'eight': 2044, 'trilog': 2045, 'ape': 2046, 'deni': 2047, 'strongli': 2048, 'heck': 2049, 'sin': 2050, 'vagu': 2051, 'justifi': 2052, 'san': 2053, 'resid': 2054, 'defeat': 2055, 'reput': 2056, 'sympathi': 2057, 'mini': 2058, 'creator': 2059, 'terrifi': 2060, 'indi': 2061, 'expert': 2062, 'tediou': 2063, 'prevent': 2064, 'tabl': 2065, 'endur': 2066, 'task': 2067, 'offend': 2068, 'imit': 2069, 'rival': 2070, 'employ': 2071, 'che': 2072, 'basebal': 2073, 'trial': 2074, 'beach': 2075, 'complaint': 2076, 'europ': 2077, 'pitch': 2078, 'dig': 2079, 'fairi': 2080, 'max': 2081, 'weekend': 2082, 'format': 2083, 'murphi': 2084, 'risk': 2085, 'purchas': 2086, 'powel': 2087, 'nois': 2088, 'titan': 2089, 'harsh': 2090, 'bite': 2091, 'hype': 2092, 'glimps': 2093, 'tini': 2094, 'reminisc': 2095, 'strip': 2096, 'till': 2097, 'north': 2098, 'asleep': 2099, 'prime': 2100, '14': 2101, 'fals': 2102, 'descript': 2103, 'africa': 2104, 'texa': 2105, 'revel': 2106, 'destruct': 2107, 'inner': 2108, 'excess': 2109, 'arrest': 2110, 'semi': 2111, 'surfac': 2112, 'uninterest': 2113, 'spin': 2114, 'sitcom': 2115, 'twin': 2116, 'makeup': 2117, 'argu': 2118, 'maintain': 2119, 'massiv': 2120, 'hitchcock': 2121, 'controversi': 2122, 'dinosaur': 2123, 'reject': 2124, 'expens': 2125, 'ideal': 2126, 'ludicr': 2127, 'stare': 2128, 'insist': 2129, 'melodrama': 2130, 'kim': 2131, 'atroci': 2132, 'ala': 2133, 'ga': 2134, 'nail': 2135, 'subplot': 2136, 'erot': 2137, 'supernatur': 2138, 'press': 2139, 'forest': 2140, 'host': 2141, 'columbo': 2142, 'notch': 2143, 'presum': 2144, 'identifi': 2145, 'dude': 2146, 'cant': 2147, 'crude': 2148, 'guest': 2149, 'closer': 2150, 'forgett': 2151, 'plagu': 2152, 'method': 2153, 'character': 2154, 'ear': 2155, 'border': 2156, 'lion': 2157, 'landscap': 2158, 'beast': 2159, 'princess': 2160, 'foster': 2161, 'birth': 2162, 'urban': 2163, 'bound': 2164, 'aunt': 2165, 'jungl': 2166, 'damag': 2167, 'pacino': 2168, 'previous': 2169, 'storytel': 2170, 'accus': 2171, 'nude': 2172, 'doll': 2173, 'chose': 2174, 'propaganda': 2175, 'guid': 2176, 'emma': 2177, 'jess': 2178, 'thirti': 2179, 'mainstream': 2180, 'whoever': 2181, '25': 2182, 'mate': 2183, 'warrior': 2184, 'pet': 2185, 'friday': 2186, 'gritti': 2187, 'merit': 2188, 'cooper': 2189, 'size': 2190, 'deadli': 2191, 'exact': 2192, 'upset': 2193, 'latest': 2194, 'poster': 2195, 'contest': 2196, 'ton': 2197, 'sun': 2198, 'popul': 2199, '1990': 2200, 'warner': 2201, 'blend': 2202, 'rough': 2203, 'wilson': 2204, 'settl': 2205, 'citizen': 2206, 'contact': 2207, 'buff': 2208, 'corps': 2209, 'select': 2210, 'widow': 2211, 'metal': 2212, 'bu': 2213, 'environ': 2214, 'mgm': 2215, 'overcom': 2216, 'alic': 2217, 'rat': 2218, 'pitt': 2219, 'lift': 2220, 'particip': 2221, 'link': 2222, 'guilti': 2223, 'revolut': 2224, 'ted': 2225, 'moron': 2226, 'corner': 2227, 'prostitut': 2228, 'matrix': 2229, 'johnson': 2230, 'exagger': 2231, 'corpor': 2232, 'accompani': 2233, '1960': 2234, 'afternoon': 2235, 'multipl': 2236, 'doom': 2237, 'instal': 2238, 'hood': 2239, 'sincer': 2240, 'friendli': 2241, 'leagu': 2242, 'holm': 2243, 'clair': 2244, 'hip': 2245, 'aka': 2246, 'irish': 2247, 'junk': 2248, 'campi': 2249, 'string': 2250, 'sunday': 2251, 'grim': 2252, 'advis': 2253, 'defend': 2254, 'examin': 2255, 'blah': 2256, 'lugosi': 2257, 'icon': 2258, 'shut': 2259, 'rachel': 2260, 'tight': 2261, 'pro': 2262, 'varieti': 2263, 'shake': 2264, 'confid': 2265, 'sullivan': 2266, 'mexican': 2267, 'denni': 2268, 'directli': 2269, 'attach': 2270, 'jaw': 2271, 'medic': 2272, 'goal': 2273, 'breast': 2274, 'legendari': 2275, 'duke': 2276, 'vietnam': 2277, 'dean': 2278, 'prior': 2279, 'courag': 2280, 'sentenc': 2281, 'truck': 2282, 'terrorist': 2283, 'bourn': 2284, 'sarah': 2285, 'hong': 2286, 'nose': 2287, 'donald': 2288, 'behav': 2289, 'yell': 2290, 'split': 2291, 'proceed': 2292, 'entri': 2293, 'un': 2294, 'borrow': 2295, 'stolen': 2296, 'confess': 2297, 'everywher': 2298, 'crush': 2299, 'concentr': 2300, 'swim': 2301, 'buri': 2302, 'gather': 2303, 'forth': 2304, 'jerk': 2305, 'unconvinc': 2306, 'lifetim': 2307, 'spite': 2308, 'california': 2309, 'turkey': 2310, 'pan': 2311, 'julia': 2312, 'deliveri': 2313, 'lip': 2314, 'china': 2315, 'proud': 2316, 'offici': 2317, 'flight': 2318, 'quest': 2319, 'hoffman': 2320, 'downright': 2321, 'reward': 2322, 'freeman': 2323, 'encourag': 2324, 'jail': 2325, 'betray': 2326, 'notori': 2327, 'fabul': 2328, 'lazi': 2329, 'sir': 2330, 'inept': 2331, 'sink': 2332, 'fade': 2333, 'worthwhil': 2334, 'jon': 2335, 'bag': 2336, 'imageri': 2337, 'shower': 2338, 'lisa': 2339, 'retard': 2340, 'storm': 2341, 'susan': 2342, 'branagh': 2343, 'relev': 2344, 'teeth': 2345, 'survivor': 2346, 'cousin': 2347, 'bell': 2348, 'facial': 2349, 'quirki': 2350, 'stab': 2351, 'tremend': 2352, 'mexico': 2353, 'finger': 2354, 'shark': 2355, 'bride': 2356, 'summari': 2357, 'alright': 2358, 'trade': 2359, 'hugh': 2360, 'toler': 2361, 'hyster': 2362, 'blown': 2363, 'pose': 2364, 'bitter': 2365, 'von': 2366, 'ha': 2367, 'ron': 2368, 'address': 2369, 'cruel': 2370, 'bone': 2371, 'scheme': 2372, 'afterward': 2373, 'ned': 2374, 'larri': 2375, 'christ': 2376, 'snake': 2377, 'screw': 2378, 'feed': 2379, 'beg': 2380, 'pursu': 2381, 'traci': 2382, 'thumb': 2383, 'distinct': 2384, 'tour': 2385, 'swear': 2386, 'obscur': 2387, 'photo': 2388, 'stomach': 2389, 'chair': 2390, 'occas': 2391, 'raw': 2392, 'mechan': 2393, 'necessarili': 2394, 'heavili': 2395, 'resist': 2396, 'argument': 2397, 'hardi': 2398, 'chain': 2399, 'gruesom': 2400, 'holiday': 2401, 'render': 2402, 'sidney': 2403, 'cabin': 2404, 'southern': 2405, 'philip': 2406, 'indulg': 2407, 'satan': 2408, 'india': 2409, 'racist': 2410, 'understood': 2411, 'forgot': 2412, 'stalk': 2413, 'tongu': 2414, 'lay': 2415, 'pregnant': 2416, 'integr': 2417, 'outfit': 2418, 'fourth': 2419, 'obnoxi': 2420, 'belov': 2421, 'midnight': 2422, 'magazin': 2423, '17': 2424, 'slapstick': 2425, 'carol': 2426, 'deeper': 2427, 'ticket': 2428, 'restor': 2429, 'inhabit': 2430, 'garden': 2431, 'incid': 2432, 'shoe': 2433, 'devot': 2434, 'brad': 2435, 'lincoln': 2436, 'underground': 2437, 'guarante': 2438, 'disbelief': 2439, 'benefit': 2440, 'lili': 2441, 'elizabeth': 2442, 'sandler': 2443, 'anticip': 2444, 'maria': 2445, 'divorc': 2446, 'princip': 2447, 'cring': 2448, 'explod': 2449, 'mildli': 2450, 'bbc': 2451, 'amazingli': 2452, 'capit': 2453, 'greater': 2454, 'slave': 2455, 'creation': 2456, 'funnier': 2457, 'halfway': 2458, 'lesli': 2459, 'extraordinari': 2460, 'introduct': 2461, 'extent': 2462, 'overwhelm': 2463, 'text': 2464, 'advantag': 2465, 'wreck': 2466, 'enhanc': 2467, 'tap': 2468, 'transfer': 2469, 'punish': 2470, 'error': 2471, 'jessica': 2472, 'lo': 2473, 'plant': 2474, 'horrif': 2475, 'dynam': 2476, 'lane': 2477, 'east': 2478, 'preview': 2479, 'deliber': 2480, 'basi': 2481, 'ensu': 2482, 'homosexu': 2483, 'miller': 2484, '2000': 2485, 'appli': 2486, 'sophist': 2487, 'miscast': 2488, 'vincent': 2489, 'vacat': 2490, 'mansion': 2491, 'sleazi': 2492, 'extend': 2493, 'spoken': 2494, 'uncomfort': 2495, 'bollywood': 2496, 'measur': 2497, 'via': 2498, 'reed': 2499, 'elev': 2500, 'steel': 2501, 'beer': 2502, 'blair': 2503, 'melt': 2504, 'mous': 2505, 'savag': 2506, 'conceiv': 2507, 'daili': 2508, 'breathtak': 2509, 'alter': 2510, 'cathol': 2511, 'assign': 2512, 'stanley': 2513, 'hippi': 2514, 'fix': 2515, 'goofi': 2516, 'overact': 2517, 'dentist': 2518, 'nowaday': 2519, 'sacrific': 2520, 'subsequ': 2521, 'oppos': 2522, 'succe': 2523, 'burt': 2524, 'inspector': 2525, 'carpent': 2526, 'everyday': 2527, 'properli': 2528, 'neck': 2529, 'block': 2530, 'massacr': 2531, 'laura': 2532, 'circl': 2533, 'mob': 2534, 'fay': 2535, 'pool': 2536, 'lesser': 2537, 'grey': 2538, 'fallen': 2539, 'seagal': 2540, 'christi': 2541, 'concert': 2542, 'access': 2543, 'portrait': 2544, 'isol': 2545, 'competit': 2546, 'relax': 2547, 'jewish': 2548, 'jake': 2549, 'chees': 2550, 'sinist': 2551, 'usa': 2552, 'react': 2553, 'nine': 2554, 'suitabl': 2555, 'immens': 2556, 'lyric': 2557, 'spiritu': 2558, 'chop': 2559, '2006': 2560, 'nonetheless': 2561, 'creep': 2562, 'appal': 2563, 'stink': 2564, 'ironi': 2565, 'needless': 2566, 'reduc': 2567, 'shirt': 2568, 'navi': 2569, 'luci': 2570, 'rage': 2571, 'showcas': 2572, 'franchis': 2573, 'user': 2574, 'retir': 2575, 'sold': 2576, 'spring': 2577, 'nut': 2578, 'adopt': 2579, 'jay': 2580, 'asham': 2581, 'bath': 2582, 'nurs': 2583, 'uninspir': 2584, 'per': 2585, 'bulli': 2586, 'stanwyck': 2587, 'zone': 2588, 'digit': 2589, 'oddli': 2590, 'sutherland': 2591, 'upper': 2592, '1940': 2593, 'amongst': 2594, '2001': 2595, 'laid': 2596, 'illustr': 2597, 'broadcast': 2598, 'fulfil': 2599, 'disguis': 2600, 'throat': 2601, 'brando': 2602, 'aspir': 2603, 'baker': 2604, 'stylish': 2605, 'nobl': 2606, 'wanna': 2607, 'endear': 2608, 'em': 2609, 'pride': 2610, 'neighborhood': 2611, '18': 2612, 'wwii': 2613, 'thief': 2614, 'pound': 2615, 'impli': 2616, 'distribut': 2617, 'bo': 2618, '16': 2619, 'tens': 2620, 'albeit': 2621, 'coher': 2622, 'diseas': 2623, 'shoulder': 2624, 'prop': 2625, 'bett': 2626, 'dawn': 2627, 'cinematograph': 2628, 'shift': 2629, 'dinner': 2630, 'rochest': 2631, 'snow': 2632, 'rebel': 2633, 'shout': 2634, 'contract': 2635, 'wash': 2636, 'poignant': 2637, 'surf': 2638, 'knife': 2639, 'function': 2640, 'forti': 2641, 'silenc': 2642, 'matthau': 2643, 'cannib': 2644, 'chuck': 2645, 'derek': 2646, 'height': 2647, 'heat': 2648, 'horrend': 2649, 'instinct': 2650, 'duti': 2651, 'internet': 2652, 'silver': 2653, 'eeri': 2654, 'widmark': 2655, 'reunion': 2656, 'cancel': 2657, 'henc': 2658, 'proof': 2659, 'elvira': 2660, 'mindless': 2661, 'pie': 2662, 'repetit': 2663, 'mill': 2664, 'spielberg': 2665, 'torn': 2666, 'greatli': 2667, 'alik': 2668, 'elvi': 2669, 'neat': 2670, 'glori': 2671, 'etern': 2672, 'absorb': 2673, 'musician': 2674, 'premier': 2675, 'incoher': 2676, 'innov': 2677, 'redempt': 2678, 'racism': 2679, 'wealthi': 2680, 'lovabl': 2681, 'diamond': 2682, 'bang': 2683, 'britain': 2684, 'burton': 2685, 'crisi': 2686, 'fbi': 2687, 'blank': 2688, 'itali': 2689, 'precis': 2690, 'homag': 2691, 'announc': 2692, 'trite': 2693, 'nelson': 2694, 'infam': 2695, 'horrifi': 2696, 'resolut': 2697, 'parallel': 2698, 'pat': 2699, 'helen': 2700, 'happili': 2701, 'flop': 2702, 'ensembl': 2703, 'hammer': 2704, 'dedic': 2705, 'wilder': 2706, 'chaplin': 2707, 'streisand': 2708, 'plastic': 2709, 'carter': 2710, 'factori': 2711, 'disagre': 2712, 'triumph': 2713, 'oil': 2714, 'conclud': 2715, 'mar': 2716, 'broke': 2717, 'cube': 2718, 'st': 2719, 'march': 2720, 'own': 2721, 'bush': 2722, 'fighter': 2723, 'vega': 2724, 'row': 2725, 'rocket': 2726, 'weight': 2727, 'climb': 2728, 'chuckl': 2729, 'mst3k': 2730, 'dump': 2731, 'spare': 2732, 'thug': 2733, 'luca': 2734, 'kurt': 2735, 'meaning': 2736, 'unforgett': 2737, 'wherea': 2738, 'sensibl': 2739, 'enorm': 2740, 'dane': 2741, 'boot': 2742, 'lust': 2743, 'butt': 2744, 'brand': 2745, 'adequ': 2746, 'difficulti': 2747, 'engin': 2748, 'dear': 2749, 'threat': 2750, 'rap': 2751, 'caricatur': 2752, 'arnold': 2753, 'bobbi': 2754, 'karloff': 2755, 'stress': 2756, 'fifti': 2757, 'homeless': 2758, 'ralph': 2759, 'barri': 2760, 'polish': 2761, 'ego': 2762, 'secretari': 2763, 'fest': 2764, 'journalist': 2765, 'elabor': 2766, 'arrog': 2767, 'swing': 2768, 'hamlet': 2769, 'flynn': 2770, 'float': 2771, 'induc': 2772, 'grate': 2773, 'tool': 2774, 'resort': 2775, 'arrang': 2776, 'spike': 2777, 'unbear': 2778, 'fanci': 2779, 'puppet': 2780, 'simpson': 2781, 'conspiraci': 2782, 'guilt': 2783, 'basement': 2784, 'cruis': 2785, 'muppet': 2786, 'choreograph': 2787, 'phillip': 2788, 'exercis': 2789, 'pig': 2790, 'tribut': 2791, 'boll': 2792, 'file': 2793, 'layer': 2794, 'editor': 2795, 'babe': 2796, 'ham': 2797, 'puzzl': 2798, 'medium': 2799, 'fianc': 2800, 'ward': 2801, 'document': 2802, '24': 2803, 'slip': 2804, 'toilet': 2805, 'item': 2806, 'tower': 2807, 'scarecrow': 2808, 'korean': 2809, 'stan': 2810, 'slaughter': 2811, 'doc': 2812, 'persona': 2813, 'philosoph': 2814, 'territori': 2815, 'librari': 2816, 'assur': 2817, 'portion': 2818, 'inexplic': 2819, 'catherin': 2820, 'orient': 2821, 'minim': 2822, 'denzel': 2823, 'spark': 2824, 'superfici': 2825, 'larger': 2826, 'transit': 2827, 'glover': 2828, 'boredom': 2829, 'owe': 2830, 'wolf': 2831, 'shi': 2832, 'jet': 2833, 'jeremi': 2834, 'financi': 2835, 'ban': 2836, 'curti': 2837, 'dorothi': 2838, 'walken': 2839, 'pg': 2840, 'sneak': 2841, 'eleph': 2842, 'hudson': 2843, 'metaphor': 2844, 'whale': 2845, 'backdrop': 2846, 'cusack': 2847, 'profound': 2848, 'multi': 2849, 'ambigu': 2850, 'union': 2851, 'implaus': 2852, 'ultra': 2853, 'notion': 2854, 'stiff': 2855, 'hack': 2856, 'rave': 2857, '2005': 2858, 'birthday': 2859, 'elsewher': 2860, 'viru': 2861, 'gadget': 2862, 'superhero': 2863, 'squar': 2864, 'poison': 2865, 'afford': 2866, 'reader': 2867, 'slight': 2868, 'newspap': 2869, 'distanc': 2870, 'urg': 2871, 'canada': 2872, '1st': 2873, 'bibl': 2874, 'lloyd': 2875, 'eastwood': 2876, 'deriv': 2877, 'hawk': 2878, 'pad': 2879, 'eva': 2880, 'disc': 2881, 'sadist': 2882, 'health': 2883, 'cure': 2884, 'heston': 2885, 'button': 2886, 'huh': 2887, 'essenc': 2888, 'drown': 2889, 'skit': 2890, 'restaur': 2891, 'montag': 2892, 'spread': 2893, 'charisma': 2894, 'godfath': 2895, 'estat': 2896, 'maniac': 2897, 'dealt': 2898, 'muslim': 2899, 'fetch': 2900, 'gradual': 2901, 'companion': 2902, 'lab': 2903, 'peak': 2904, 'scoobi': 2905, 'invest': 2906, 'servant': 2907, 'subtleti': 2908, 'gothic': 2909, 'alli': 2910, 'countless': 2911, 'ritter': 2912, 'kane': 2913, 'miik': 2914, 'tea': 2915, 'cup': 2916, 'electr': 2917, 'iii': 2918, 'heroic': 2919, 'elect': 2920, 'salli': 2921, 'charismat': 2922, 'briefli': 2923, 'grandmoth': 2924, 'ingredi': 2925, 'wannab': 2926, 'nuanc': 2927, 'admittedli': 2928, 'reel': 2929, 'toss': 2930, 'neil': 2931, 'tender': 2932, 'bud': 2933, 'cole': 2934, 'resourc': 2935, 'pauli': 2936, 'punk': 2937, 'stood': 2938, 'gate': 2939, 'kubrick': 2940, 'pit': 2941, 'stronger': 2942, 'label': 2943, 'poverti': 2944, 'shall': 2945, 'carrey': 2946, 'reev': 2947, 'mild': 2948, 'mafia': 2949, 'dawson': 2950, 'assault': 2951, 'bakshi': 2952, 'useless': 2953, 'cardboard': 2954, 'ian': 2955, 'smooth': 2956, 'fond': 2957, 'easier': 2958, 'smash': 2959, 'updat': 2960, 'astair': 2961, 'burst': 2962, 'cox': 2963, 'tag': 2964, 'terri': 2965, 'outcom': 2966, 'sketch': 2967, 'vulner': 2968, 'qualifi': 2969, 'fist': 2970, 'divers': 2971, 'coincid': 2972, 'resolv': 2973, 'vari': 2974, 'samurai': 2975, 'melodramat': 2976, 'exchang': 2977, '2002': 2978, 'rex': 2979, 'increasingli': 2980, 'blast': 2981, 'conveni': 2982, 'be': 2983, 'tame': 2984, 'suspend': 2985, 'reynold': 2986, 'templ': 2987, 'scratch': 2988, 'luckili': 2989, 'insert': 2990, 'brillianc': 2991, 'strictli': 2992, 'meat': 2993, 'matthew': 2994, 'pin': 2995, 'farm': 2996, 'coach': 2997, 'walker': 2998, 'fisher': 2999, 'seventi': 3000, 'nuclear': 3001, 'ambiti': 3002, 'gotta': 3003, 'jami': 3004, 'soprano': 3005, 'hamilton': 3006, 'instantli': 3007, 'kudo': 3008, 'empir': 3009, 'joey': 3010, 'recreat': 3011, 'worthless': 3012, 'clock': 3013, 'grasp': 3014, 'timeless': 3015, 'cave': 3016, 'closet': 3017, 'butcher': 3018, 'monk': 3019, 'spooki': 3020, 'struck': 3021, 'ninja': 3022, 'revers': 3023, 'discoveri': 3024, 'eccentr': 3025, 'convolut': 3026, 'brosnan': 3027, 'seller': 3028, 'pal': 3029, 'sidekick': 3030, 'cliff': 3031, 'inconsist': 3032, 'wipe': 3033, 'clown': 3034, 'miracl': 3035, 'declar': 3036, 'bleak': 3037, 'evok': 3038, 'selfish': 3039, 'eighti': 3040, 'communist': 3041, 'sloppi': 3042, 'gray': 3043, 'norman': 3044, 'fifteen': 3045, 'mitchel': 3046, 'partli': 3047, 'importantli': 3048, 'cheek': 3049, 'flawless': 3050, 'debat': 3051, 'superbl': 3052, 'aforement': 3053, 'lifestyl': 3054, 'ho': 3055, 'websit': 3056, 'farc': 3057, 'enthusiast': 3058, 'destin': 3059, 'australia': 3060, 'psychiatrist': 3061, 'seed': 3062, 'chew': 3063, '45': 3064, 'piano': 3065, 'stoog': 3066, 'wrestl': 3067, 'soviet': 3068, 'pressur': 3069, 'dire': 3070, 'splatter': 3071, 'regardless': 3072, 'bash': 3073, 'directori': 3074, 'slice': 3075, 'wick': 3076, 'incompet': 3077, 'emili': 3078, 'drivel': 3079, 'dash': 3080, 'abc': 3081, 'anni': 3082, 'akshay': 3083, 'kitchen': 3084, 'flower': 3085, 'prize': 3086, 'distant': 3087, 'ken': 3088, 'artifici': 3089, 'curios': 3090, 'judi': 3091, 'duo': 3092, 'chapter': 3093, 'glow': 3094, 'lou': 3095, 'beaten': 3096, 'suppli': 3097, 'cia': 3098, 'dave': 3099, 'seduc': 3100, 'increas': 3101, 'recov': 3102, 'boil': 3103, 'jar': 3104, 'mann': 3105, 'cagney': 3106, 'doo': 3107, 'cameron': 3108, 'blob': 3109, 'helicopt': 3110, 'pleasantli': 3111, 'psychot': 3112, 'glenn': 3113, 'combat': 3114, 'goldberg': 3115, 'craven': 3116, 'laurel': 3117, 'panic': 3118, 'splendid': 3119, 'turner': 3120, 'web': 3121, 'drunken': 3122, 'craig': 3123, 'ellen': 3124, 'ranger': 3125, 'francisco': 3126, 'favour': 3127, 'eleg': 3128, 'hop': 3129, 'perri': 3130, 'wizard': 3131, 'rid': 3132, 'fx': 3133, 'gentl': 3134, 'greek': 3135, 'plausibl': 3136, 'ruth': 3137, 'graduat': 3138, 'slightest': 3139, 'shortli': 3140, 'philosophi': 3141, 'flip': 3142, 'gandhi': 3143, 'alexand': 3144, '20th': 3145, 'hatr': 3146, 'falk': 3147, 'modesti': 3148, 'min': 3149, 'tall': 3150, 'preciou': 3151, 'jealou': 3152, 'we': 3153, 'harm': 3154, 'futurist': 3155, 'unpleas': 3156, 'legal': 3157, 'lend': 3158, 'ocean': 3159, 'holi': 3160, 'fund': 3161, 'felix': 3162, 'knight': 3163, 'dracula': 3164, 'manhattan': 3165, 'mock': 3166, 'nod': 3167, 'explicit': 3168, 'scientif': 3169, 'tank': 3170, 'digniti': 3171, 'ami': 3172, 'bless': 3173, 'giallo': 3174, 'thread': 3175, 'overdon': 3176, 'childish': 3177, 'forbidden': 3178, 'reviv': 3179, 'awe': 3180, 'mel': 3181, 'thick': 3182, 'yesterday': 3183, '99': 3184, 'torment': 3185, 'eve': 3186, 'nerv': 3187, 'awaken': 3188, 'broad': 3189, 'elderli': 3190, 'fever': 3191, 'margaret': 3192, 'pirat': 3193, '2004': 3194, 'repeatedli': 3195, 'unwatch': 3196, 'verhoeven': 3197, 'stiller': 3198, 'uniform': 3199, 'romero': 3200, 'eas': 3201, 'absenc': 3202, 'roman': 3203, 'griffith': 3204, 'ah': 3205, 'politician': 3206, 'lean': 3207, 'custom': 3208, 'launch': 3209, 'ambit': 3210, 'acclaim': 3211, 'rivet': 3212, 'publish': 3213, 'automat': 3214, 'kay': 3215, 'royal': 3216, 'timothi': 3217, 'bin': 3218, 'bathroom': 3219, 'sunshin': 3220, 'antic': 3221, 'wallac': 3222, 'stinker': 3223, 'darker': 3224, 'foul': 3225, 'pulp': 3226, 'crook': 3227, 'homicid': 3228, 'transport': 3229, 'warren': 3230, 'purpl': 3231, 'phrase': 3232, 'termin': 3233, 'tomato': 3234, 'pierc': 3235, 'gabriel': 3236, 'karen': 3237, 'pray': 3238, 'hollow': 3239, 'ought': 3240, 'packag': 3241, 'eyr': 3242, 'kenneth': 3243, 'horrid': 3244, 'juvenil': 3245, 'rambo': 3246, 'marin': 3247, 'album': 3248, 'revolutionari': 3249, 'brazil': 3250, 'donna': 3251, 'q': 3252, 'sixti': 3253, 'awak': 3254, '2003': 3255, 'prom': 3256, 'viciou': 3257, 'coloni': 3258, 'contrari': 3259, 'evolv': 3260, 'choreographi': 3261, 'saint': 3262, 'li': 3263, 'twelv': 3264, 'ramon': 3265, 'option': 3266, 'kapoor': 3267, 'blade': 3268, 'candid': 3269, 'beatti': 3270, 'nerd': 3271, 'mummi': 3272, 'ireland': 3273, 'dose': 3274, 'stole': 3275, 'mildr': 3276, 'overr': 3277, 'conserv': 3278, 'boast': 3279, 'defi': 3280, 'protest': 3281, 'funer': 3282, 'collabor': 3283, 'astonish': 3284, 'flame': 3285, 'trio': 3286, 'detract': 3287, 'natali': 3288, 'confirm': 3289, 'global': 3290, 'kirk': 3291, 'altman': 3292, 'fulci': 3293, 'jazz': 3294, 'bull': 3295, 'racial': 3296, 'spit': 3297, 'mystic': 3298, 'tommi': 3299, 'enterpris': 3300, 'nicholson': 3301, 'whip': 3302, 'leap': 3303, 'bottl': 3304, 'yellow': 3305, 'audio': 3306, 'delici': 3307, 'shade': 3308, 'destini': 3309, 'blake': 3310, 'reunit': 3311, 'harder': 3312, 'visibl': 3313, 'meaningless': 3314, 'popcorn': 3315, 'staff': 3316, 'todd': 3317, 'altogeth': 3318, 'pseudo': 3319, 'bedroom': 3320, 'merci': 3321, 'vivid': 3322, 'adolesc': 3323, 'inherit': 3324, 'enchant': 3325, 'swedish': 3326, 'fonda': 3327, 'threw': 3328, 'neo': 3329, 'jew': 3330, 'await': 3331, 'reserv': 3332, 'befriend': 3333, 'decor': 3334, 'crocodil': 3335, 'atlanti': 3336, 'fanat': 3337, 'suspici': 3338, 'uneven': 3339, 'madonna': 3340, 'moodi': 3341, 'lawrenc': 3342, 'tip': 3343, 'bust': 3344, 'kennedi': 3345, 'voight': 3346, 'synopsi': 3347, 'wire': 3348, 'lemmon': 3349, 'ruthless': 3350, 'respond': 3351, 'leonard': 3352, 'exhibit': 3353, 'roommat': 3354, 'edi': 3355, 'rural': 3356, 'carl': 3357, 'clint': 3358, 'bargain': 3359, 'ventur': 3360, 'clumsi': 3361, 'palma': 3362, 'abysm': 3363, 'centr': 3364, 'dimens': 3365, 'holli': 3366, 'chao': 3367, 'incident': 3368, 'unsettl': 3369, 'bradi': 3370, 'audit': 3371, 'garner': 3372, 'voyag': 3373, 'bold': 3374, '2007': 3375, 'characterist': 3376, 'immigr': 3377, 'cari': 3378, 'daddi': 3379, 'humili': 3380, 'neglect': 3381, 'imperson': 3382, 'hart': 3383, 'echo': 3384, '2nd': 3385, 'trail': 3386, 'troop': 3387, 'elimin': 3388, 'wealth': 3389, 'mall': 3390, 'cuba': 3391, 'versu': 3392, 'cd': 3393, 'nearbi': 3394, 'lit': 3395, 'acknowledg': 3396, 'poetic': 3397, 'tiger': 3398, 'ant': 3399, 'timon': 3400, 'saga': 3401, 'solo': 3402, 'repuls': 3403, 'paus': 3404, 'domest': 3405, 'mickey': 3406, 'celluloid': 3407, 'mistaken': 3408, 'collaps': 3409, 'pun': 3410, 'prejudic': 3411, 'jeffrey': 3412, 'homer': 3413, 'marshal': 3414, 'infect': 3415, 'tribe': 3416, 'milk': 3417, 'hbo': 3418, 'assembl': 3419, 'interrupt': 3420, 'chest': 3421, 'apolog': 3422, 'inappropri': 3423, 'leon': 3424, 'promin': 3425, 'cake': 3426, 'gear': 3427, 'coat': 3428, 'coffe': 3429, 'pant': 3430, 'ginger': 3431, 'harvey': 3432, 'sore': 3433, 'equip': 3434, 'olivi': 3435, 'undoubtedli': 3436, '1996': 3437, 'inan': 3438, 'vulgar': 3439, 'aveng': 3440, 'maggi': 3441, 'brooklyn': 3442, 'pen': 3443, 'embrac': 3444, 'instant': 3445, 'florida': 3446, 'consum': 3447, 'colleagu': 3448, 'jenni': 3449, 'airplan': 3450, 'pot': 3451, 'furthermor': 3452, 'retain': 3453, 'devast': 3454, 'exot': 3455, 'solut': 3456, 'trace': 3457, 'institut': 3458, 'humbl': 3459, 'primari': 3460, 'colonel': 3461, 'highest': 3462, 'polanski': 3463, 'smaller': 3464, 'cope': 3465, 'gender': 3466, 'strain': 3467, 'seduct': 3468, 'illog': 3469, 'wive': 3470, '3rd': 3471, 'disabl': 3472, 'poke': 3473, 'dian': 3474, 'outer': 3475, 'ya': 3476, 'principl': 3477, 'rick': 3478, 'godzilla': 3479, 'descend': 3480, 'bowl': 3481, 'dutch': 3482, 'sale': 3483, '1999': 3484, 'linda': 3485, 'blatant': 3486, 'rabbit': 3487, 'secondli': 3488, 'inferior': 3489, 'beneath': 3490, 'vast': 3491, 'predecessor': 3492, 'scope': 3493, 'glamor': 3494, 'bubbl': 3495, 'devoid': 3496, 'hal': 3497, 'gloriou': 3498, 'primarili': 3499, 'yard': 3500, 'dive': 3501, 'dud': 3502, 'mixtur': 3503, 'cue': 3504, 'gundam': 3505, 'lol': 3506, 'alert': 3507, 'countrysid': 3508, 'streep': 3509, 'casual': 3510, 'breed': 3511, 'aggress': 3512, 'trademark': 3513, 'museum': 3514, 'senseless': 3515, 'shirley': 3516, 'domino': 3517, 'shelf': 3518, 'arab': 3519, 'z': 3520, 'grinch': 3521, 'et': 3522, 'alfr': 3523, 'disjoint': 3524, 'myer': 3525, 'april': 3526, 'invas': 3527, 'pearl': 3528, 'hideou': 3529, 'talki': 3530, 'simplist': 3531, 'garbo': 3532, 'robinson': 3533, 'unhappi': 3534, 'acid': 3535, 'mayor': 3536, 'slide': 3537, 'boom': 3538, 'sh': 3539, 'oz': 3540, 'khan': 3541, 'hopeless': 3542, 'stir': 3543, 'applaud': 3544, 'rendit': 3545, 'vanish': 3546, 'maci': 3547, 'loyal': 3548, 'defens': 3549, 'disgrac': 3550, 'mail': 3551, 'illeg': 3552, 'hardcor': 3553, 'uwe': 3554, 'stack': 3555, 'obtain': 3556, 'robberi': 3557, 'experiment': 3558, 'stellar': 3559, 'fri': 3560, 'grandfath': 3561, 'tempt': 3562, 'soccer': 3563, 'tenant': 3564, 'craze': 3565, 'amanda': 3566, 'counter': 3567, 'blew': 3568, 'declin': 3569, 'span': 3570, 'wont': 3571, 'berlin': 3572, 'incomprehens': 3573, 'dismiss': 3574, 'dicken': 3575, 'scroog': 3576, 'recruit': 3577, 'emphasi': 3578, 'topless': 3579, 'hartley': 3580, 'spider': 3581, 'psychic': 3582, 'diana': 3583, 'rifl': 3584, 'ethnic': 3585, 'sympath': 3586, 'trashi': 3587, 'wet': 3588, 'faster': 3589, 'shed': 3590, 'justin': 3591, 'niro': 3592, 'woo': 3593, 'goer': 3594, 'intim': 3595, 'sibl': 3596, 'parad': 3597, 'resurrect': 3598, 'shaw': 3599, 'revolt': 3600, 'riot': 3601, 'ration': 3602, 'bitch': 3603, 'lumet': 3604, 'porno': 3605, 'farmer': 3606, 'gap': 3607, 'partial': 3608, 'hopper': 3609, 'enlighten': 3610, 'mario': 3611, 'patriot': 3612, 'ensur': 3613, '00': 3614, 'nephew': 3615, 'steam': 3616, 'jonathan': 3617, 'slick': 3618, 'commend': 3619, 'unreal': 3620, 'hesit': 3621, 'eager': 3622, 'biographi': 3623, 'immort': 3624, 'worm': 3625, 'choru': 3626, 'region': 3627, 'dealer': 3628, 'ballet': 3629, 'rider': 3630, 'wendi': 3631, 'weakest': 3632, 'feminist': 3633, 'honesti': 3634, 'andr': 3635, 'wheel': 3636, 'lena': 3637, 'snap': 3638, 'psychopath': 3639, 'properti': 3640, 'hung': 3641, 'skull': 3642, 'charlott': 3643, 'similarli': 3644, 'franco': 3645, 'morri': 3646, 'repress': 3647, 'victori': 3648, 'leo': 3649, 'sappi': 3650, 'prequel': 3651, 'macarthur': 3652, 'sandra': 3653, 'safeti': 3654, 'owen': 3655, 'blunt': 3656, 'kingdom': 3657, 'wore': 3658, 'composit': 3659, 'vice': 3660, 'nostalg': 3661, 'mutant': 3662, 'util': 3663, 'confin': 3664, 'speci': 3665, 'latin': 3666, 'deed': 3667, 'drain': 3668, 'rocki': 3669, 'emperor': 3670, 'whoopi': 3671, 'del': 3672, '1972': 3673, 'dust': 3674, 'acquir': 3675, 'recycl': 3676, 'heartbreak': 3677, 'tad': 3678, 'miseri': 3679, 'despair': 3680, 'kyle': 3681, 'compass': 3682, 'tail': 3683, 'bonu': 3684, 'repli': 3685, 'compens': 3686, 'campbel': 3687, 'pattern': 3688, 'bergman': 3689, 'cg': 3690, 'hyde': 3691, 'strand': 3692, 'bow': 3693, 'rope': 3694, 'montana': 3695, 'valuabl': 3696, 'exit': 3697, 'rambl': 3698, 'thru': 3699, 'nervou': 3700, 'dalton': 3701, 'bumbl': 3702, 'drum': 3703, 'farrel': 3704, 'snl': 3705, 'roth': 3706, 'rapist': 3707, 'gal': 3708, 'oppress': 3709, 'tonight': 3710, 'downhil': 3711, 'rotten': 3712, 'gimmick': 3713, 'percept': 3714, 'romp': 3715, 'bleed': 3716, 'carradin': 3717, 'chess': 3718, '35': 3719, 'contempl': 3720, 'pour': 3721, 'da': 3722, 'airport': 3723, 'orson': 3724, 'slug': 3725, 'mistress': 3726, 'martian': 3727, 'radic': 3728, 'wacki': 3729, 'olli': 3730, 'slash': 3731, 'pervert': 3732, 'belt': 3733, 'tackl': 3734, 'preach': 3735, 'dazzl': 3736, 'taught': 3737, 'arc': 3738, 'heal': 3739, 'programm': 3740, 'unpredict': 3741, 'arguabl': 3742, 'pervers': 3743, 'pursuit': 3744, 'stilt': 3745, 'mislead': 3746, '1983': 3747, 'champion': 3748, 'banal': 3749, 'edgar': 3750, 'melodi': 3751, 'paltrow': 3752, 'attorney': 3753, 'tooth': 3754, 'shelley': 3755, 'plight': 3756, 'tiresom': 3757, 'vengeanc': 3758, 'closest': 3759, 'chicken': 3760, 'uplift': 3761, 'mesmer': 3762, 'vocal': 3763, 'franki': 3764, 'graham': 3765, 'sensat': 3766, 'virginia': 3767, 'orang': 3768, 'bela': 3769, 'passeng': 3770, 'cleverli': 3771, 'maid': 3772, 'gambl': 3773, 'employe': 3774, 'dixon': 3775, 'raymond': 3776, 'duval': 3777, 'conneri': 3778, 'poem': 3779, 'rubi': 3780, 'marti': 3781, 'abraham': 3782, 'clone': 3783, 'scottish': 3784, 'climact': 3785, 'iran': 3786, 'extens': 3787, 'profan': 3788, 'calm': 3789, 'yawn': 3790, 'swallow': 3791, 'crystal': 3792, 'habit': 3793, 'paranoia': 3794, 'whine': 3795, 'numb': 3796, 'gerard': 3797, 'mute': 3798, 'convincingli': 3799, 'tube': 3800, 'pokemon': 3801, 'inject': 3802, 'suffic': 3803, 'secretli': 3804, 'quarter': 3805, 'engross': 3806, 'sirk': 3807, 'volum': 3808, 'outing': 3809, '1968': 3810, 'giggl': 3811, 'bay': 3812, 'monologu': 3813, 'amitabh': 3814, 'lundgren': 3815, 'junior': 3816, 'richardson': 3817, 'plod': 3818, 'nichola': 3819, 'abort': 3820, 'lowest': 3821, 'underst': 3822, 'linger': 3823, 'surpass': 3824, 'trend': 3825, 'fed': 3826, 'im': 3827, 'meander': 3828, 'ethan': 3829, 'bend': 3830, 'franci': 3831, 'backward': 3832, 'profess': 3833, 'dispos': 3834, 'septemb': 3835, 'earl': 3836, 'frankenstein': 3837, 'grotesqu': 3838, 'poetri': 3839, 'spock': 3840, 'chicago': 3841, 'taxi': 3842, 'expand': 3843, 'austen': 3844, 'rubber': 3845, 'econom': 3846, 'descent': 3847, 'eugen': 3848, 'household': 3849, 'mundan': 3850, 'hum': 3851, 'spoke': 3852, 'lure': 3853, 'tourist': 3854, 'muddl': 3855, 'stallon': 3856, 'greedi': 3857, 'instrument': 3858, 'waitress': 3859, 'sue': 3860, 'catchi': 3861, 'rant': 3862, 'nostalgia': 3863, 'dysfunct': 3864, 'cannon': 3865, 'simplic': 3866, 'literatur': 3867, 'compliment': 3868, 'myth': 3869, 'der': 3870, 'eaten': 3871, 'louis': 3872, 'randi': 3873, 'alongsid': 3874, 'phantom': 3875, 'sissi': 3876, 'crucial': 3877, 'deaf': 3878, 'recognis': 3879, 'june': 3880, 'bacal': 3881, 'map': 3882, 'molli': 3883, 'insur': 3884, 'dictat': 3885, 'duck': 3886, 'phoni': 3887, 'lang': 3888, 'equival': 3889, 'firstli': 3890, 'cent': 3891, 'furi': 3892, 'hello': 3893, 'occupi': 3894, 'coast': 3895, 'carel': 3896, 'dement': 3897, 'flee': 3898, 'mankind': 3899, 'mortal': 3900, 'irrelev': 3901, 'omen': 3902, 'recognit': 3903, 'stale': 3904, 'damon': 3905, 'likewis': 3906, 'reign': 3907, 'rooney': 3908, 'damm': 3909, 'loyalti': 3910, 'lengthi': 3911, 'newli': 3912, 'heel': 3913, 'rude': 3914, 'freez': 3915, 'dreari': 3916, 'buffalo': 3917, 'bike': 3918, 'ashley': 3919, 'twilight': 3920, '1973': 3921, 'wisdom': 3922, 'distinguish': 3923, 'labor': 3924, 'blackmail': 3925, 'drake': 3926, 'biko': 3927, 'onlin': 3928, 'daisi': 3929, 'bump': 3930, 'cyborg': 3931, 'grayson': 3932, 'antwon': 3933, 'chronicl': 3934, 'tunnel': 3935, 'attribut': 3936, 'exposur': 3937, 'incorpor': 3938, 'approv': 3939, 'startl': 3940, 'worn': 3941, 'keith': 3942, 'provoc': 3943, 'baddi': 3944, 'proce': 3945, 'vein': 3946, 'basketbal': 3947, 'analysi': 3948, 'boxer': 3949, 'pink': 3950, 'interior': 3951, 'inher': 3952, 'unorigin': 3953, 'emphas': 3954, 'sailor': 3955, 'ridden': 3956, 'prey': 3957, 'barrymor': 3958, 'butler': 3959, 'nineti': 3960, 'drift': 3961, 'bunni': 3962, 'predat': 3963, 'elm': 3964, 'hypnot': 3965, 'undeni': 3966, 'er': 3967, 'substitut': 3968, 'degrad': 3969, 'mighti': 3970, 'fleet': 3971, 'condemn': 3972, 'underli': 3973, 'meg': 3974, 'julian': 3975, 'nicol': 3976, 'carla': 3977, 'meyer': 3978, 'improvis': 3979, 'walsh': 3980, 'indiffer': 3981, 'belushi': 3982, 'simmon': 3983, 'stalker': 3984, 'othello': 3985, 'unrel': 3986, 'robbin': 3987, 'barrel': 3988, 'millionair': 3989, 'mormon': 3990, 'shove': 3991, 'roof': 3992, 'firm': 3993, 'agenda': 3994, '3d': 3995, 'enthusiasm': 3996, 'edgi': 3997, 'errol': 3998, 'vital': 3999, 'mtv': 4000, 'watson': 4001, 'exquisit': 4002, 'disord': 4003, 'alarm': 4004, 'greed': 4005, 'lampoon': 4006, 'novak': 4007, 'palac': 4008, 'reid': 4009, 'unawar': 4010, 'rukh': 4011, 'marion': 4012, 'dolph': 4013, 'warmth': 4014, 'nyc': 4015, 'priceless': 4016, 'alison': 4017, 'hay': 4018, 'what': 4019, '13th': 4020, 'session': 4021, 'ponder': 4022, 'championship': 4023, 'glanc': 4024, 'pamela': 4025, 'simultan': 4026, 'eastern': 4027, 'valentin': 4028, 'showdown': 4029, '1933': 4030, 'thompson': 4031, 'campaign': 4032, 'unleash': 4033, 'nun': 4034, 'peril': 4035, 'peck': 4036, 'testament': 4037, 'gestur': 4038, 'minimum': 4039, 'crown': 4040, 'beatl': 4041, 'cassidi': 4042, 'israel': 4043, 'iraq': 4044, 'distort': 4045, 'profit': 4046, 'zizek': 4047, 'coup': 4048, 'petti': 4049, 'angela': 4050, 'sergeant': 4051, 'spain': 4052, 'preserv': 4053, 'orlean': 4054, 'randomli': 4055, 'drip': 4056, 'calib': 4057, 'shootout': 4058, 'travesti': 4059, 'cream': 4060, 'din': 4061, 'rout': 4062, 'valley': 4063, '1984': 4064, 'stake': 4065, 'han': 4066, 'restrain': 4067, 'realm': 4068, 'crow': 4069, 'fido': 4070, 'reson': 4071, 'unimagin': 4072, 'crawl': 4073, 'wig': 4074, 'stroke': 4075, 'regist': 4076, 'kurosawa': 4077, 'exposit': 4078, 'mon': 4079, 'buster': 4080, 'quinn': 4081, 'jan': 4082, 'climat': 4083, 'perpetu': 4084, 'brenda': 4085, 'contradict': 4086, 'gentleman': 4087, 'cooki': 4088, 'bro': 4089, 'sabrina': 4090, 'represent': 4091, 'scotland': 4092, 'empathi': 4093, 'miyazaki': 4094, 'painter': 4095, 'baldwin': 4096, 'unsatisfi': 4097, 'greg': 4098, 'passabl': 4099, 'meryl': 4100, 'unseen': 4101, 'distress': 4102, 'femm': 4103, 'compromis': 4104, 'ross': 4105, 'tacki': 4106, '1987': 4107, 'soderbergh': 4108, 'wax': 4109, 'demis': 4110, 'abomin': 4111, 'delic': 4112, 'absent': 4113, 'dana': 4114, 'sammi': 4115, 'monoton': 4116, 'josh': 4117, 'traumat': 4118, 'fuller': 4119, 'businessman': 4120, 'darren': 4121, 'warrant': 4122, 'censor': 4123, 'mclaglen': 4124, 'shoddi': 4125, 'derang': 4126, 'spacey': 4127, 'cloud': 4128, 'stargat': 4129, 'geek': 4130, '1997': 4131, 'ustinov': 4132, 'sucker': 4133, 'shaki': 4134, 'crawford': 4135, 'pretens': 4136, 'pole': 4137, 'perceiv': 4138, 'polici': 4139, 'norm': 4140, 'judgment': 4141, 'accuraci': 4142, 'antonioni': 4143, 'unravel': 4144, 'expedit': 4145, 'furiou': 4146, 'kumar': 4147, '1993': 4148, 'deceas': 4149, 'reluct': 4150, 'clash': 4151, 'fenc': 4152, 'verbal': 4153, 'dee': 4154, 'tarantino': 4155, 'uncov': 4156, 'sid': 4157, 'primit': 4158, 'click': 4159, 'correctli': 4160, 'seal': 4161, 'jewel': 4162, 'exclus': 4163, 'valid': 4164, 'fog': 4165, 'wholli': 4166, 'deniro': 4167, 'tech': 4168, 'nathan': 4169, 'anchor': 4170, 'austin': 4171, 'murray': 4172, 'logan': 4173, 'debt': 4174, 'patienc': 4175, 'clerk': 4176, 'temper': 4177, 'conduct': 4178, 'crippl': 4179, 'shanghai': 4180, 'behold': 4181, 'fabric': 4182, 'tax': 4183, 'trait': 4184, 'alec': 4185, 'hallucin': 4186, 'wretch': 4187, 'darn': 4188, 'dreck': 4189, 'fought': 4190, 'slam': 4191, 'sunni': 4192, '3000': 4193, '1971': 4194, 'joel': 4195, '2008': 4196, 'vanc': 4197, 'seldom': 4198, '1995': 4199, 'pocket': 4200, 'mode': 4201, 'unfair': 4202, 'ritual': 4203, 'bake': 4204, 'fart': 4205, 'enforc': 4206, 'malon': 4207, 'wang': 4208, 'sheet': 4209, 'nicola': 4210, 'sand': 4211, 'sustain': 4212, 'roller': 4213, 'sweep': 4214, 'soup': 4215, 'guitar': 4216, 'schedul': 4217, 'phil': 4218, 'scriptwrit': 4219, 'helpless': 4220, 'grief': 4221, 'exhaust': 4222, 'runner': 4223, 'outlin': 4224, 'isabel': 4225, 'despis': 4226, 'squad': 4227, 'divid': 4228, 'pete': 4229, 'legaci': 4230, 'canyon': 4231, 'bridget': 4232, 'conscious': 4233, 'technicolor': 4234, 'fundament': 4235, 'shell': 4236, 'preposter': 4237, 'penni': 4238, 'bias': 4239, 'stark': 4240, 'clau': 4241, 'stuart': 4242, 'robber': 4243, 'tactic': 4244, 'preston': 4245, 'critiqu': 4246, 'rita': 4247, 'cigarett': 4248, 'newman': 4249, 'rear': 4250, 'alley': 4251, 'connor': 4252, 'restrict': 4253, 'palanc': 4254, 'vomit': 4255, 'bloom': 4256, 'liberti': 4257, 'jodi': 4258, 'drove': 4259, 'culmin': 4260, 'unexpectedli': 4261, 'consciou': 4262, 'gregori': 4263, 'inabl': 4264, 'flair': 4265, 'downey': 4266, 'sugar': 4267, 'marc': 4268, 'sniper': 4269, 'jacket': 4270, 'kansa': 4271, 'passag': 4272, 'russia': 4273, 'boyl': 4274, 'invad': 4275, 'lacklust': 4276, 'propos': 4277, 'implic': 4278, 'agenc': 4279, 'alicia': 4280, 'rehash': 4281, 'sentinel': 4282, 'delv': 4283, 'horn': 4284, 'yeti': 4285, 'vet': 4286, 'bacon': 4287, 'karl': 4288, '22': 4289, 'feat': 4290, '1936': 4291, 'rod': 4292, 'arrow': 4293, 'wrench': 4294, 'rehears': 4295, 'awhil': 4296, 'rampag': 4297, 'chainsaw': 4298, 'tendenc': 4299, 'behaviour': 4300, 'kolchak': 4301, 'pale': 4302, 'lush': 4303, 'tripe': 4304, 'delet': 4305, 'aesthet': 4306, 'cap': 4307, 'foxx': 4308, 'ladder': 4309, 'asylum': 4310, 'improb': 4311, 'mccoy': 4312, 'sharon': 4313, 'tasteless': 4314, 'amazon': 4315, 'newcom': 4316, 'suspicion': 4317, '1978': 4318, 'loneli': 4319, 'aristocrat': 4320, '19th': 4321, 'lurk': 4322, 'weav': 4323, 'sung': 4324, 'wagner': 4325, 'prank': 4326, 'stream': 4327, 'conscienc': 4328, 'hungri': 4329, 'visitor': 4330, 'scoop': 4331, 'hackney': 4332, 'suffici': 4333, 'basing': 4334, 'paradis': 4335, 'coaster': 4336, 'minu': 4337, 'spice': 4338, 'wildli': 4339, 'tomorrow': 4340, 'shortcom': 4341, '1920': 4342, 'rhythm': 4343, 'hulk': 4344, 'elit': 4345, 'rumor': 4346, '1988': 4347, 'financ': 4348, 'fright': 4349, 'underneath': 4350, 'filler': 4351, 'globe': 4352, 'el': 4353, 'paramount': 4354, 'thunderbird': 4355, 'dirt': 4356, 'leigh': 4357, 'couch': 4358, '1989': 4359, 'penn': 4360, 'abrupt': 4361, 'cancer': 4362, 'secondari': 4363, 'atroc': 4364, 'impos': 4365, 'immers': 4366, 'heist': 4367, 'ingeni': 4368, 'en': 4369, 'brit': 4370, 'springer': 4371, 'standout': 4372, 'paxton': 4373, 'tierney': 4374, 'wwe': 4375, 'grudg': 4376, 'ram': 4377, 'recogniz': 4378, 'bread': 4379, 'smell': 4380, 'teas': 4381, 'minist': 4382, '75': 4383, 'worship': 4384, 'literari': 4385, 'inmat': 4386, 'entranc': 4387, 'beverli': 4388, '1939': 4389, 'counterpart': 4390, 'curli': 4391, 'naughti': 4392, 'quietli': 4393, 'hopkin': 4394, 'chamberlain': 4395, 'posey': 4396, 'choppi': 4397, 'lectur': 4398, 'iv': 4399, 'straightforward': 4400, 'rub': 4401, 'chavez': 4402, '1986': 4403, 'misguid': 4404, 'sassi': 4405, 'nemesi': 4406, 'nolan': 4407, 'injuri': 4408, 'clan': 4409, 'yearn': 4410, 'geni': 4411, 'bernard': 4412, 'policeman': 4413, 'skeptic': 4414, 'entitl': 4415, 'moreov': 4416, 'convert': 4417, 'missil': 4418, 'quaid': 4419, 'laurenc': 4420, 'duel': 4421, 'variat': 4422, 'ace': 4423, 'enthral': 4424, 'heartfelt': 4425, 'attenborough': 4426, 'morbid': 4427, 'esther': 4428, 'net': 4429, 'cattl': 4430, 'sublim': 4431, 'transcend': 4432, 'lindsay': 4433, 'watcher': 4434, 'ratso': 4435, 'youngest': 4436, '1979': 4437, 'dont': 4438, 'graini': 4439, 'enabl': 4440, 'bean': 4441, 'brood': 4442, 'hopelessli': 4443, 'cruelti': 4444, 'buzz': 4445, 'setup': 4446, 'reliabl': 4447, 'grin': 4448, 'artsi': 4449, 'steadi': 4450, 'vader': 4451, 'bye': 4452, 'puppi': 4453, 'hk': 4454, 'mytholog': 4455, 'carlito': 4456, 'unexplain': 4457, 'facil': 4458, 'obstacl': 4459, 'kitti': 4460, 'characteris': 4461, 'moder': 4462, 'uncut': 4463, 'egg': 4464, 'out': 4465, 'rosemari': 4466, 'kidman': 4467, 'poe': 4468, 'spiral': 4469, 'diari': 4470, 'tyler': 4471, 'gina': 4472, 'baffl': 4473, 'fuel': 4474, 'bronson': 4475, 'narrow': 4476, 'martha': 4477, 'underworld': 4478, 'decept': 4479, 'acquaint': 4480, 'hain': 4481, 'oblig': 4482, 'bewar': 4483, 'clueless': 4484, 'disastr': 4485, 'sweat': 4486, 'athlet': 4487, 'hammi': 4488, 'bounc': 4489, 'effici': 4490, 'heap': 4491, 'niec': 4492, 'gillian': 4493, 'weather': 4494, 'kline': 4495, '1969': 4496, 'patricia': 4497, 'exterior': 4498, 'despic': 4499, 'spontan': 4500, 'christin': 4501, 'brendan': 4502, 'preming': 4503, 'circu': 4504, 'renaiss': 4505, 'taboo': 4506, '19': 4507, 'suprem': 4508, 'injur': 4509, 'mayhem': 4510, 'astound': 4511, 'loath': 4512, 'tick': 4513, 'biker': 4514, 'sooner': 4515, 'insipid': 4516, 'enlist': 4517, 'uh': 4518, 'outlaw': 4519, 'angst': 4520, '73': 4521, 'shatter': 4522, 'lester': 4523, 'scar': 4524, 'analyz': 4525, 'virtu': 4526, 'trigger': 4527, 'housewif': 4528, 'fontain': 4529, 'rome': 4530, 'dandi': 4531, 'dilemma': 4532, 'harmless': 4533, 'viewpoint': 4534, 'mermaid': 4535, 'goof': 4536, 'headach': 4537, 'sleepwalk': 4538, 'preachi': 4539, 'candl': 4540, 'loi': 4541, 'hepburn': 4542, 'steer': 4543, 'phenomenon': 4544, 'hokey': 4545, 'bent': 4546, 'stair': 4547, 'slimi': 4548, 'hostag': 4549, 'gere': 4550, 'overlong': 4551, 'surgeri': 4552, 'salt': 4553, 'macho': 4554, 'guin': 4555, 'oldest': 4556, 'corbett': 4557, 'boston': 4558, 'whore': 4559, 'tripl': 4560, 'sox': 4561, 'redund': 4562, 'filth': 4563, 'foolish': 4564, 'spade': 4565, 'ebert': 4566, 'stimul': 4567, 'idol': 4568, 'hooker': 4569, 'amor': 4570, 'contempt': 4571, 'fluff': 4572, 'dish': 4573, 'immatur': 4574, 'glorifi': 4575, 'ariel': 4576, 'camcord': 4577, 'dismal': 4578, 'intric': 4579, 'claustrophob': 4580, 'zoom': 4581, 'cassavet': 4582, 'scorses': 4583, 'gasp': 4584, 'fascist': 4585, 'muscl': 4586, 'cow': 4587, 'perman': 4588, 'antagonist': 4589, 'margin': 4590, 'spree': 4591, '1976': 4592, 'harold': 4593, 'faint': 4594, 'mount': 4595, 'cush': 4596, 'strongest': 4597, 'alvin': 4598, 'keen': 4599, 'rhyme': 4600, 'spinal': 4601, 'dwarf': 4602, 'nolt': 4603, 'zane': 4604, '1981': 4605, 'proport': 4606, 'beard': 4607, 'mutual': 4608, 'remad': 4609, 'preced': 4610, 'cohen': 4611, 'obligatori': 4612, 'flirt': 4613, 'messi': 4614, 'down': 4615, 'widescreen': 4616, 'shield': 4617, 'astronaut': 4618, 'radiat': 4619, 'assert': 4620, 'trivia': 4621, 'naschi': 4622, 'flashi': 4623, 'shred': 4624, 'corman': 4625, 'flag': 4626, 'conquer': 4627, 'gabl': 4628, 'schlock': 4629, 'frantic': 4630, 'transplant': 4631, 'joker': 4632, 'bitten': 4633, 'flock': 4634, 'boob': 4635, 'claud': 4636, 'www': 4637, 'discern': 4638, 'interestingli': 4639, 'departur': 4640, 'neurot': 4641, 'carey': 4642, 'raj': 4643, 'inflict': 4644, '1945': 4645, 'wield': 4646, 'someday': 4647, 'repris': 4648, 'triangl': 4649, 'info': 4650, 'scandal': 4651, 'strive': 4652, 'sensual': 4653, 'divin': 4654, 'barn': 4655, 'persuad': 4656, 'bachelor': 4657, 'deer': 4658, 'vaniti': 4659, 'mol': 4660, 'brush': 4661, 'archiv': 4662, 'instruct': 4663, '95': 4664, 'hara': 4665, 'resum': 4666, 'off': 4667, 'fishburn': 4668, 'aborigin': 4669, 'danish': 4670, 'mobil': 4671, '28': 4672, 'ritchi': 4673, 'clad': 4674, 'hug': 4675, 'biblic': 4676, 'cliffhang': 4677, 'ish': 4678, 'prophet': 4679, 'senior': 4680, 'hapless': 4681, 'fragil': 4682, 'pickford': 4683, 'submit': 4684, 'miracul': 4685, 'mobster': 4686, 'artwork': 4687, 'recit': 4688, 'bate': 4689, 'helm': 4690, 'traffic': 4691, 'axe': 4692, 'pacif': 4693, 'anton': 4694, 'banter': 4695, 'dim': 4696, 'cher': 4697, 'loretta': 4698, 'dylan': 4699, 'harrison': 4700, 'frontier': 4701, 'cb': 4702, 'luka': 4703, 'cycl': 4704, 'undermin': 4705, 'earnest': 4706, 'rot': 4707, 'heartwarm': 4708, 'vibrant': 4709, 'neill': 4710, 'casino': 4711, 'pixar': 4712, 'colin': 4713, 'parson': 4714, 'hilar': 4715, 'carlo': 4716, 'jade': 4717, 'timberlak': 4718, 'dame': 4719, 'melissa': 4720, 'wendigo': 4721, 'kathryn': 4722, 'europa': 4723, 'proclaim': 4724, 'bikini': 4725, 'foil': 4726, 'blatantli': 4727, 'marlon': 4728, 'wardrob': 4729, 'flavor': 4730, 'orphan': 4731, 'venom': 4732, 'eli': 4733, 'choke': 4734, 'rooki': 4735, 'holocaust': 4736, 'lucil': 4737, 'vanessa': 4738, 'lui': 4739, 'misfortun': 4740, 'razor': 4741, 'vile': 4742, 'shepherd': 4743, 'token': 4744, 'redneck': 4745, 'http': 4746, 'alexandr': 4747, 'uma': 4748, 'estrang': 4749, 'sicken': 4750, 'illus': 4751, 'isra': 4752, 'articl': 4753, 'static': 4754, 'bondag': 4755, 'northern': 4756, 'toronto': 4757, 'milo': 4758, 'electron': 4759, 'antholog': 4760, 'legitim': 4761, 'feast': 4762, 'breakfast': 4763, 'pc': 4764, 'seedi': 4765, 'cerebr': 4766, 'aris': 4767, 'jordan': 4768, 'akin': 4769, 'trier': 4770, 'nope': 4771, 'jo': 4772, 'mathieu': 4773, 'mason': 4774, 'winchest': 4775, 'styliz': 4776, 'leather': 4777, 'gunga': 4778, 'feminin': 4779, 'gilbert': 4780, 'charlton': 4781, 'ideolog': 4782, 'retriev': 4783, 'frog': 4784, 'boyer': 4785, 'glare': 4786, 'fifth': 4787, 'affleck': 4788, 'comprehend': 4789, 'clinic': 4790, 'psych': 4791, 'disregard': 4792, 'magician': 4793, 'turd': 4794, 'swept': 4795, 'ceremoni': 4796, 'wrestler': 4797, 'smack': 4798, 'abund': 4799, 'deem': 4800, 'tack': 4801, 'highway': 4802, 'shorter': 4803, 'nightclub': 4804, 'huston': 4805, 'howl': 4806, 'peer': 4807, 'dudley': 4808, 'linear': 4809, 'audrey': 4810, 'outdat': 4811, 'cartoonish': 4812, 'oppon': 4813, 'knightley': 4814, 'toe': 4815, 'energet': 4816, 'deliver': 4817, 'newer': 4818, 'bastard': 4819, 'tara': 4820, 'client': 4821, '1991': 4822, 'boo': 4823, 'spine': 4824, 'lifeless': 4825, 'salman': 4826, '1994': 4827, 'phenomen': 4828, '4th': 4829, 'spawn': 4830, 'btw': 4831, 'durat': 4832, 'bogu': 4833, 'monument': 4834, 'sleaz': 4835, 'plate': 4836, 'corn': 4837, 'collector': 4838, 'lavish': 4839, 'snatch': 4840, 'greet': 4841, 'potter': 4842, 'cuban': 4843, 'whack': 4844, 'mitch': 4845, 'goldsworthi': 4846, 'cemeteri': 4847, 'summar': 4848, 'lighter': 4849, 'senat': 4850, 'compris': 4851, 'evolut': 4852, 'moe': 4853, 'breakdown': 4854, 'einstein': 4855, 'chip': 4856, 'uniformli': 4857, 'conrad': 4858, 'braveheart': 4859, 'fluid': 4860, 'pronounc': 4861, 'appl': 4862, 'signal': 4863, 'embark': 4864, 'ie': 4865, 'sorrow': 4866, 'bulk': 4867, 'outright': 4868, 'wtf': 4869, 'trauma': 4870, 'clara': 4871, 'neatli': 4872, 'occup': 4873, 'inaccuraci': 4874, 'randolph': 4875, 'jam': 4876, 'constitut': 4877, 'jedi': 4878, 'creek': 4879, 'evelyn': 4880, '1977': 4881, '1974': 4882, 'firmli': 4883, 'cecil': 4884, 'historian': 4885, 'undertak': 4886, 'lex': 4887, 'jare': 4888, 'gilliam': 4889, 'spectacl': 4890, 'bori': 4891, 'replay': 4892, 'mcqueen': 4893, 'ol': 4894, 'luxuri': 4895, 'belli': 4896, 'armstrong': 4897, 'judd': 4898, 'liu': 4899, 'alleg': 4900, 'undead': 4901, 'capot': 4902, 'eleven': 4903, 'healthi': 4904, 'nina': 4905, 'kazan': 4906, 'jule': 4907, 'kent': 4908, 'fruit': 4909, 'abound': 4910, 'relentless': 4911, 'miami': 4912, 'curtain': 4913, 'carmen': 4914, 'aussi': 4915, 'lauren': 4916, 'unattract': 4917, 'pepper': 4918, 'meal': 4919, 'antonio': 4920, 'inclus': 4921, 'ash': 4922, 'congratul': 4923, 'comprehens': 4924, 'miniseri': 4925, 'vignett': 4926, 'walt': 4927, 'roar': 4928, 'subtli': 4929, 'conan': 4930, 'goldblum': 4931, 'comb': 4932, 'kiddi': 4933, 'palm': 4934, 'cape': 4935, '1985': 4936, 'blur': 4937, 'paula': 4938, 'galaxi': 4939, 'sidewalk': 4940, 'id': 4941, 'forgiven': 4942, 'tokyo': 4943, 'spray': 4944, 'pioneer': 4945, 'sacrif': 4946, 'inaccur': 4947, 'mum': 4948, 'groan': 4949, 'vain': 4950, 'genet': 4951, 'basket': 4952, 'knee': 4953, 'unsuspect': 4954, 'truman': 4955, 'bait': 4956, 'porter': 4957, 'bsg': 4958, 'decapit': 4959, 'rosario': 4960, 'poker': 4961, 'propheci': 4962, 'lanc': 4963, 'handicap': 4964, 'incorrect': 4965, 'turtl': 4966, 'mice': 4967, 'optimist': 4968, 'victorian': 4969, 'reincarn': 4970, 'vastli': 4971, 'modest': 4972, 'motorcycl': 4973, 'jill': 4974, 'asset': 4975, 'substanti': 4976, 'epitom': 4977, 'dubiou': 4978, 'sophi': 4979, 'ghetto': 4980, 'casper': 4981, 'weaker': 4982, 'growth': 4983, 'omin': 4984, 'profil': 4985, 'orchestr': 4986, 'cypher': 4987, 'playboy': 4988, '21st': 4989, 'drone': 4990, 'assort': 4991, 'monti': 4992, 'bach': 4993, 'detach': 4994, 'hackman': 4995, 'rapidli': 4996, 'bravo': 4997, 'frontal': 4998, 'ingrid': 4999}\n"
     ]
    }
   ],
   "source": [
    "print(word_dict)"
   ]
  },
  {
   "cell_type": "markdown",
   "metadata": {},
   "source": [
    "**Question:** What are the five most frequently appearing (tokenized) words in the training set? Does it makes sense that these words appear frequently in the training set?"
   ]
  },
  {
   "cell_type": "markdown",
   "metadata": {},
   "source": [
    "**Answer:**rapidli : 4999\n",
    "handicap : 4998\n",
    "hackman : 4997\n",
    "motorcycl : 4996\n",
    "modest : 4995"
   ]
  },
  {
   "cell_type": "code",
   "execution_count": 16,
   "metadata": {},
   "outputs": [
    {
     "name": "stdout",
     "output_type": "stream",
     "text": [
      "ingrid : 4999\n",
      "frontal : 4998\n",
      "bravo : 4997\n",
      "rapidli : 4996\n",
      "hackman : 4995\n"
     ]
    }
   ],
   "source": [
    "# TODO: Use this space to determine the five most frequently appearing words in the training set.\n",
    "from heapq import nlargest\n",
    "ThreeHighest = nlargest(5, word_dict, key = word_dict.get)\n",
    "\n",
    "  \n",
    "for val in ThreeHighest:\n",
    "    print(val, \":\", word_dict.get(val))"
   ]
  },
  {
   "cell_type": "code",
   "execution_count": 17,
   "metadata": {},
   "outputs": [
    {
     "data": {
      "text/plain": [
       "['movi', 'film', 'one', 'like', 'time']"
      ]
     },
     "execution_count": 17,
     "metadata": {},
     "output_type": "execute_result"
    }
   ],
   "source": [
    "list(word_dict.keys())[:5]"
   ]
  },
  {
   "cell_type": "code",
   "execution_count": 18,
   "metadata": {},
   "outputs": [
    {
     "data": {
      "text/plain": [
       "(4998, 25000)"
      ]
     },
     "execution_count": 18,
     "metadata": {},
     "output_type": "execute_result"
    }
   ],
   "source": [
    "len(word_dict), len(train_X)"
   ]
  },
  {
   "cell_type": "markdown",
   "metadata": {},
   "source": [
    "### Save `word_dict`\n",
    "\n",
    "Later on when we construct an endpoint which processes a submitted review we will need to make use of the `word_dict` which we have created. As such, we will save it to a file now for future use."
   ]
  },
  {
   "cell_type": "code",
   "execution_count": 19,
   "metadata": {},
   "outputs": [],
   "source": [
    "data_dir = '../data/pytorch' # The folder we will use for storing data\n",
    "if not os.path.exists(data_dir): # Make sure that the folder exists\n",
    "    os.makedirs(data_dir)"
   ]
  },
  {
   "cell_type": "code",
   "execution_count": 20,
   "metadata": {},
   "outputs": [],
   "source": [
    "with open(os.path.join(data_dir, 'word_dict.pkl'), \"wb\") as f:\n",
    "    pickle.dump(word_dict, f)"
   ]
  },
  {
   "cell_type": "markdown",
   "metadata": {},
   "source": [
    "### Transform the reviews\n",
    "\n",
    "Now that we have our word dictionary which allows us to transform the words appearing in the reviews into integers, it is time to make use of it and convert our reviews to their integer sequence representation, making sure to pad or truncate to a fixed length, which in our case is `500`."
   ]
  },
  {
   "cell_type": "code",
   "execution_count": 21,
   "metadata": {},
   "outputs": [],
   "source": [
    "def convert_and_pad(word_dict, sentence, pad=500):\n",
    "    NOWORD = 0 # We will use 0 to represent the 'no word' category\n",
    "    INFREQ = 1 # and we use 1 to represent the infrequent words, i.e., words not appearing in word_dict\n",
    "    \n",
    "    working_sentence = [NOWORD] * pad\n",
    "    \n",
    "    for word_index, word in enumerate(sentence[:pad]):\n",
    "        if word in word_dict:\n",
    "            working_sentence[word_index] = word_dict[word]\n",
    "        else:\n",
    "            working_sentence[word_index] = INFREQ\n",
    "            \n",
    "    return working_sentence, min(len(sentence), pad)\n",
    "\n",
    "def convert_and_pad_data(word_dict, data, pad=500):\n",
    "    result = []\n",
    "    lengths = []\n",
    "    \n",
    "    for sentence in data:\n",
    "        converted, leng = convert_and_pad(word_dict, sentence, pad)\n",
    "        result.append(converted)\n",
    "        lengths.append(leng)\n",
    "        \n",
    "    return np.array(result), np.array(lengths)"
   ]
  },
  {
   "cell_type": "code",
   "execution_count": 22,
   "metadata": {},
   "outputs": [],
   "source": [
    "train_X, train_X_len = convert_and_pad_data(word_dict, train_X)\n",
    "test_X, test_X_len = convert_and_pad_data(word_dict, test_X)"
   ]
  },
  {
   "cell_type": "markdown",
   "metadata": {},
   "source": [
    "As a quick check to make sure that things are working as intended, check to see what one of the reviews in the training set looks like after having been processeed. Does this look reasonable? What is the length of a review in the training set?"
   ]
  },
  {
   "cell_type": "code",
   "execution_count": 23,
   "metadata": {},
   "outputs": [
    {
     "data": {
      "text/plain": [
       "(array([1142,  444,   11,    2,  236,  779,   88,  943,  174,    1,  105,\n",
       "          56,   34,  141,  500,  105, 2519, 1261, 2148,  922,  308,   67,\n",
       "         140,  141,  330,  527,    8,   84,   51,   10, 1151, 1142,    4,\n",
       "         395,    1,  225,   30,  105,   83,    1,  113,  105,  178,  409,\n",
       "        1323,   33,  110,   30, 2132,  584,  509,  267, 1149,    1, 3560,\n",
       "           2,  392,    1,  509,  167,  448,  310,  459, 1078, 3782,    1,\n",
       "         334,   45,   47, 2936,    1,    2,   83,    6, 2457, 2437,  105,\n",
       "           2,    1,  105, 1805,   11,    2,    4, 2967,  268, 2863,  871,\n",
       "           5,    1,  157,    1,  144,  336, 2055, 1581,    1,    1,  144,\n",
       "         336, 1190,  119,    8,    1,  271,  836,  232,   79, 2967,  268,\n",
       "          55,  321,  293,  127, 1380,    2,   79, 2967, 2336,  480,  126,\n",
       "        2196, 1942,  396, 1300, 4725, 4674,  576,  322,  305, 2502, 1986,\n",
       "        1647,  671,  863,    8,  176, 2758,  488,   84,  932,  170, 3166,\n",
       "         996, 4964,  144,    2,  278, 1319,   30,  584, 2412, 1063,  467,\n",
       "        1319,  697, 1562,   68,   77,  521,  531,  697, 1261, 2967,  156,\n",
       "         226,   84, 1710, 1562,  568,  166,  251,  547,   37, 1300, 1261,\n",
       "         226,   84, 1710,  161,   84,  166,  133,  201,  116,  247,    1,\n",
       "         861, 1974,  319,  113,   55,   15,  161,  155,   12,  752,   33,\n",
       "         166,   83,  101,  146, 1028,  427, 1762,   23,  507,  295,    1,\n",
       "         105,    5,   84, 1109, 1436, 2864,  135,  363, 1529,  500,   79,\n",
       "         295,    1,  572, 4965,  105,  155,  253, 1766,   35, 2437,  105,\n",
       "           2,   84,  308,   67,  244, 1000,    1, 4314,   40,   30,  725,\n",
       "          18,   66,  681, 1258,  119,    1,  584,  140,    1,  221,  479,\n",
       "         705,  336,    1,   84,  268,    1, 4860,    1,  891, 3198,    1,\n",
       "        3219,    8,  142,   25,  644, 1563,  648,   19,  110,   11,    1,\n",
       "         389,  279, 1576,  975,  881,  644,  681,  975,  746,    1, 1191,\n",
       "         891, 2155,    2, 2236, 1261,  268,    9,    1, 1563,    1,   23,\n",
       "           1, 1539, 2580,    1,  131,   38,  105,   35,  696,  190,  202,\n",
       "           1,  516,  530,  373,  409,  134,   23,  156,  155, 1261,   49,\n",
       "          62, 2245,  165,  213, 2519, 2245,  155,  153,  572, 4965,   37,\n",
       "         105,  595,    2,   84, 1562,  301,  203,  584,  383,  539,    2,\n",
       "          34,  408, 1701,    1, 1733,    2,    5,    1, 1133, 1336,  134,\n",
       "          43, 4057,   15,    1,   63, 2038, 1692,   20,  348,   73,  297,\n",
       "         631,   43,   43,  425,    2,   76, 3237,  247,   34,    7,  386,\n",
       "         596,  696,  267,   30,  143,  153,  555,   56,  158, 3731,  161,\n",
       "         726,    3, 4472,  686,    1,   82,  129,    1,    1,    3, 1035,\n",
       "          76,  190,  202,    1,  725,    6,   59,  161, 2197,   23,  487,\n",
       "           7,  134,  275,  378,  385,  295,  276,  342,    4,  447, 3961,\n",
       "        2387,  189, 1353,  128, 1062,  241,  902, 2617,  521,    5,    0,\n",
       "           0,    0,    0,    0,    0,    0,    0,    0,    0,    0,    0,\n",
       "           0,    0,    0,    0,    0,    0,    0,    0,    0,    0,    0,\n",
       "           0,    0,    0,    0,    0,    0,    0,    0,    0,    0,    0,\n",
       "           0,    0,    0,    0,    0,    0,    0,    0,    0,    0,    0,\n",
       "           0,    0,    0,    0,    0,    0,    0,    0,    0,    0,    0,\n",
       "           0,    0,    0,    0,    0,    0,    0,    0,    0,    0,    0,\n",
       "           0,    0,    0,    0,    0]),\n",
       " (500,))"
      ]
     },
     "execution_count": 23,
     "metadata": {},
     "output_type": "execute_result"
    }
   ],
   "source": [
    "# Use this cell to examine one of the processed reviews to make sure everything is working as intended.\n",
    "train_X[0], train_X[0].shape\n"
   ]
  },
  {
   "cell_type": "markdown",
   "metadata": {},
   "source": [
    "**Question:** In the cells above we use the `preprocess_data` and `convert_and_pad_data` methods to process both the training and testing set. Why or why not might this be a problem?"
   ]
  },
  {
   "cell_type": "markdown",
   "metadata": {},
   "source": [
    "**Answer:This will be helpfull because originally train and test review length is not identical so to make it same we have adding padding to make exact 500 length size so that will pass same size data to our model."
   ]
  },
  {
   "cell_type": "markdown",
   "metadata": {},
   "source": [
    "## Step 3: Upload the data to S3\n",
    "\n",
    "As in the XGBoost notebook, we will need to upload the training dataset to S3 in order for our training code to access it. For now we will save it locally and we will upload to S3 later on.\n",
    "\n",
    "### Save the processed training dataset locally\n",
    "\n",
    "It is important to note the format of the data that we are saving as we will need to know it when we write the training code. In our case, each row of the dataset has the form `label`, `length`, `review[500]` where `review[500]` is a sequence of `500` integers representing the words in the review."
   ]
  },
  {
   "cell_type": "code",
   "execution_count": 24,
   "metadata": {},
   "outputs": [],
   "source": [
    "import pandas as pd\n",
    "    \n",
    "pd.concat([pd.DataFrame(train_y), pd.DataFrame(train_X_len), pd.DataFrame(train_X)], axis=1) \\\n",
    "        .to_csv(os.path.join(data_dir, 'train.csv'), header=False, index=False)"
   ]
  },
  {
   "cell_type": "markdown",
   "metadata": {},
   "source": [
    "### Uploading the training data\n",
    "\n",
    "\n",
    "Next, we need to upload the training data to the SageMaker default S3 bucket so that we can provide access to it while training our model."
   ]
  },
  {
   "cell_type": "code",
   "execution_count": 25,
   "metadata": {},
   "outputs": [],
   "source": [
    "import sagemaker\n",
    "\n",
    "sagemaker_session = sagemaker.Session()\n",
    "\n",
    "bucket = sagemaker_session.default_bucket()\n",
    "prefix = 'sagemaker/sentiment_rnn'\n",
    "\n",
    "role = sagemaker.get_execution_role()"
   ]
  },
  {
   "cell_type": "code",
   "execution_count": 26,
   "metadata": {},
   "outputs": [],
   "source": [
    "input_data = sagemaker_session.upload_data(path=data_dir, bucket=bucket, key_prefix=prefix)"
   ]
  },
  {
   "cell_type": "markdown",
   "metadata": {},
   "source": [
    "**NOTE:** The cell above uploads the entire contents of our data directory. This includes the `word_dict.pkl` file. This is fortunate as we will need this later on when we create an endpoint that accepts an arbitrary review. For now, we will just take note of the fact that it resides in the data directory (and so also in the S3 training bucket) and that we will need to make sure it gets saved in the model directory."
   ]
  },
  {
   "cell_type": "markdown",
   "metadata": {},
   "source": [
    "## Step 4: Build and Train the PyTorch Model\n",
    "\n",
    "In the XGBoost notebook we discussed what a model is in the SageMaker framework. In particular, a model comprises three objects\n",
    "\n",
    " - Model Artifacts,\n",
    " - Training Code, and\n",
    " - Inference Code,\n",
    " \n",
    "each of which interact with one another. In the XGBoost example we used training and inference code that was provided by Amazon. Here we will still be using containers provided by Amazon with the added benefit of being able to include our own custom code.\n",
    "\n",
    "We will start by implementing our own neural network in PyTorch along with a training script. For the purposes of this project we have provided the necessary model object in the `model.py` file, inside of the `train` folder. You can see the provided implementation by running the cell below."
   ]
  },
  {
   "cell_type": "code",
   "execution_count": 27,
   "metadata": {},
   "outputs": [
    {
     "name": "stdout",
     "output_type": "stream",
     "text": [
      "\u001b[34mimport\u001b[39;49;00m \u001b[04m\u001b[36mtorch\u001b[39;49;00m\u001b[04m\u001b[36m.\u001b[39;49;00m\u001b[04m\u001b[36mnn\u001b[39;49;00m \u001b[34mas\u001b[39;49;00m \u001b[04m\u001b[36mnn\u001b[39;49;00m\r\n",
      "\r\n",
      "\u001b[34mclass\u001b[39;49;00m \u001b[04m\u001b[32mLSTMClassifier\u001b[39;49;00m(nn.Module):\r\n",
      "    \u001b[33m\"\"\"\u001b[39;49;00m\r\n",
      "\u001b[33m    This is the simple RNN model we will be using to perform Sentiment Analysis.\u001b[39;49;00m\r\n",
      "\u001b[33m    \"\"\"\u001b[39;49;00m\r\n",
      "\r\n",
      "    \u001b[34mdef\u001b[39;49;00m \u001b[32m__init__\u001b[39;49;00m(\u001b[36mself\u001b[39;49;00m, embedding_dim, hidden_dim, vocab_size):\r\n",
      "        \u001b[33m\"\"\"\u001b[39;49;00m\r\n",
      "\u001b[33m        Initialize the model by settingg up the various layers.\u001b[39;49;00m\r\n",
      "\u001b[33m        \"\"\"\u001b[39;49;00m\r\n",
      "        \u001b[36msuper\u001b[39;49;00m(LSTMClassifier, \u001b[36mself\u001b[39;49;00m).\u001b[32m__init__\u001b[39;49;00m()\r\n",
      "\r\n",
      "        \u001b[36mself\u001b[39;49;00m.embedding = nn.Embedding(vocab_size, embedding_dim, padding_idx=\u001b[34m0\u001b[39;49;00m)\r\n",
      "        \u001b[36mself\u001b[39;49;00m.lstm = nn.LSTM(embedding_dim, hidden_dim)\r\n",
      "        \u001b[36mself\u001b[39;49;00m.dense = nn.Linear(in_features=hidden_dim, out_features=\u001b[34m1\u001b[39;49;00m)\r\n",
      "        \u001b[36mself\u001b[39;49;00m.sig = nn.Sigmoid()\r\n",
      "        \r\n",
      "        \u001b[36mself\u001b[39;49;00m.word_dict = \u001b[34mNone\u001b[39;49;00m\r\n",
      "\r\n",
      "    \u001b[34mdef\u001b[39;49;00m \u001b[32mforward\u001b[39;49;00m(\u001b[36mself\u001b[39;49;00m, x):\r\n",
      "        \u001b[33m\"\"\"\u001b[39;49;00m\r\n",
      "\u001b[33m        Perform a forward pass of our model on some input.\u001b[39;49;00m\r\n",
      "\u001b[33m        \"\"\"\u001b[39;49;00m\r\n",
      "        x = x.t()\r\n",
      "        lengths = x[\u001b[34m0\u001b[39;49;00m,:]\r\n",
      "        reviews = x[\u001b[34m1\u001b[39;49;00m:,:]\r\n",
      "        embeds = \u001b[36mself\u001b[39;49;00m.embedding(reviews)\r\n",
      "        lstm_out, _ = \u001b[36mself\u001b[39;49;00m.lstm(embeds)\r\n",
      "        out = \u001b[36mself\u001b[39;49;00m.dense(lstm_out)\r\n",
      "        out = out[lengths - \u001b[34m1\u001b[39;49;00m, \u001b[36mrange\u001b[39;49;00m(\u001b[36mlen\u001b[39;49;00m(lengths))]\r\n",
      "        \u001b[34mreturn\u001b[39;49;00m \u001b[36mself\u001b[39;49;00m.sig(out.squeeze())\r\n"
     ]
    }
   ],
   "source": [
    "!pygmentize train/model.py"
   ]
  },
  {
   "cell_type": "markdown",
   "metadata": {},
   "source": [
    "The important takeaway from the implementation provided is that there are three parameters that we may wish to tweak to improve the performance of our model. These are the embedding dimension, the hidden dimension and the size of the vocabulary. We will likely want to make these parameters configurable in the training script so that if we wish to modify them we do not need to modify the script itself. We will see how to do this later on. To start we will write some of the training code in the notebook so that we can more easily diagnose any issues that arise.\n",
    "\n",
    "First we will load a small portion of the training data set to use as a sample. It would be very time consuming to try and train the model completely in the notebook as we do not have access to a gpu and the compute instance that we are using is not particularly powerful. However, we can work on a small bit of the data to get a feel for how our training script is behaving."
   ]
  },
  {
   "cell_type": "code",
   "execution_count": 28,
   "metadata": {},
   "outputs": [],
   "source": [
    "import torch\n",
    "import torch.utils.data\n",
    "\n",
    "# Read in only the first 250 rows\n",
    "train_sample = pd.read_csv(os.path.join(data_dir, 'train.csv'), header=None, names=None, nrows=250)\n",
    "\n",
    "# Turn the input pandas dataframe into tensors\n",
    "train_sample_y = torch.from_numpy(train_sample[[0]].values).float().squeeze()\n",
    "train_sample_X = torch.from_numpy(train_sample.drop([0], axis=1).values).long()\n",
    "\n",
    "# Build the dataset\n",
    "train_sample_ds = torch.utils.data.TensorDataset(train_sample_X, train_sample_y)\n",
    "# Build the dataloader\n",
    "train_sample_dl = torch.utils.data.DataLoader(train_sample_ds, batch_size=50)"
   ]
  },
  {
   "cell_type": "markdown",
   "metadata": {},
   "source": [
    "### (TODO) Writing the training method\n",
    "\n",
    "Next we need to write the training code itself. This should be very similar to training methods that you have written before to train PyTorch models. We will leave any difficult aspects such as model saving / loading and parameter loading until a little later."
   ]
  },
  {
   "cell_type": "code",
   "execution_count": 29,
   "metadata": {},
   "outputs": [],
   "source": [
    "def train(model, train_loader, epochs, optimizer, loss_fn, device):\n",
    "    for epoch in range(1, epochs + 1):\n",
    "        model.train()\n",
    "        total_loss = 0\n",
    "        for batch in train_loader:         \n",
    "            batch_X, batch_y = batch\n",
    "            \n",
    "            batch_X = batch_X.to(device)\n",
    "            batch_y = batch_y.to(device)\n",
    "            \n",
    "            # TODO: Complete this train method to train the model provided.\n",
    "            optimizer.zero_grad()\n",
    "            output = model.forward(batch_X)\n",
    "            loss = loss_fn(output, batch_y)\n",
    "            loss.backward()\n",
    "            optimizer.step()\n",
    "            \n",
    "            total_loss += loss.data.item()\n",
    "        print(\"Epoch: {}, BCELoss: {}\".format(epoch, total_loss / len(train_loader)))"
   ]
  },
  {
   "cell_type": "markdown",
   "metadata": {},
   "source": [
    "Supposing we have the training method above, we will test that it is working by writing a bit of code in the notebook that executes our training method on the small sample training set that we loaded earlier. The reason for doing this in the notebook is so that we have an opportunity to fix any errors that arise early when they are easier to diagnose."
   ]
  },
  {
   "cell_type": "code",
   "execution_count": 30,
   "metadata": {},
   "outputs": [
    {
     "name": "stdout",
     "output_type": "stream",
     "text": [
      "Epoch: 1, BCELoss: 0.6871439218521118\n",
      "Epoch: 2, BCELoss: 0.6758112668991089\n",
      "Epoch: 3, BCELoss: 0.6665310382843017\n",
      "Epoch: 4, BCELoss: 0.6568054318428039\n",
      "Epoch: 5, BCELoss: 0.645402479171753\n"
     ]
    }
   ],
   "source": [
    "import torch.optim as optim\n",
    "from train.model import LSTMClassifier\n",
    "\n",
    "device = torch.device(\"cuda\" if torch.cuda.is_available() else \"cpu\")\n",
    "model = LSTMClassifier(32, 100, 5000).to(device)\n",
    "optimizer = optim.Adam(model.parameters())\n",
    "loss_fn = torch.nn.BCELoss()\n",
    "\n",
    "train(model, train_sample_dl, 5, optimizer, loss_fn, device)"
   ]
  },
  {
   "cell_type": "markdown",
   "metadata": {},
   "source": [
    "In order to construct a PyTorch model using SageMaker we must provide SageMaker with a training script. We may optionally include a directory which will be copied to the container and from which our training code will be run. When the training container is executed it will check the uploaded directory (if there is one) for a `requirements.txt` file and install any required Python libraries, after which the training script will be run."
   ]
  },
  {
   "cell_type": "markdown",
   "metadata": {},
   "source": [
    "### (TODO) Training the model\n",
    "\n",
    "When a PyTorch model is constructed in SageMaker, an entry point must be specified. This is the Python file which will be executed when the model is trained. Inside of the `train` directory is a file called `train.py` which has been provided and which contains most of the necessary code to train our model. The only thing that is missing is the implementation of the `train()` method which you wrote earlier in this notebook.\n",
    "\n",
    "**TODO**: Copy the `train()` method written above and paste it into the `train/train.py` file where required.\n",
    "\n",
    "The way that SageMaker passes hyperparameters to the training script is by way of arguments. These arguments can then be parsed and used in the training script. To see how this is done take a look at the provided `train/train.py` file."
   ]
  },
  {
   "cell_type": "code",
   "execution_count": 31,
   "metadata": {},
   "outputs": [],
   "source": [
    "from sagemaker.pytorch import PyTorch\n",
    "\n",
    "estimator = PyTorch(entry_point=\"train.py\",\n",
    "                    source_dir=\"train\",\n",
    "                    role=role,\n",
    "                    framework_version='0.4.0',\n",
    "                    train_instance_count=1,\n",
    "                    train_instance_type='ml.p2.xlarge',\n",
    "                    hyperparameters={\n",
    "                        'epochs': 10,\n",
    "                        'hidden_dim': 200,\n",
    "                    })"
   ]
  },
  {
   "cell_type": "code",
   "execution_count": 32,
   "metadata": {},
   "outputs": [
    {
     "name": "stderr",
     "output_type": "stream",
     "text": [
      "'create_image_uri' will be deprecated in favor of 'ImageURIProvider' class in SageMaker Python SDK v2.\n",
      "'s3_input' class will be renamed to 'TrainingInput' in SageMaker Python SDK v2.\n",
      "'create_image_uri' will be deprecated in favor of 'ImageURIProvider' class in SageMaker Python SDK v2.\n"
     ]
    },
    {
     "name": "stdout",
     "output_type": "stream",
     "text": [
      "2021-08-18 06:08:48 Starting - Starting the training job...\n",
      "2021-08-18 06:08:51 Starting - Launching requested ML instances......\n",
      "2021-08-18 06:09:59 Starting - Preparing the instances for training.........\n",
      "2021-08-18 06:11:40 Downloading - Downloading input data...\n",
      "2021-08-18 06:12:19 Training - Downloading the training image...\n",
      "2021-08-18 06:12:49 Training - Training image download completed. Training in progress..\u001b[34mbash: cannot set terminal process group (-1): Inappropriate ioctl for device\u001b[0m\n",
      "\u001b[34mbash: no job control in this shell\u001b[0m\n",
      "\u001b[34m2021-08-18 06:12:50,061 sagemaker-containers INFO     Imported framework sagemaker_pytorch_container.training\u001b[0m\n",
      "\u001b[34m2021-08-18 06:12:50,090 sagemaker_pytorch_container.training INFO     Block until all host DNS lookups succeed.\u001b[0m\n",
      "\u001b[34m2021-08-18 06:12:50,707 sagemaker_pytorch_container.training INFO     Invoking user training script.\u001b[0m\n",
      "\u001b[34m2021-08-18 06:12:51,035 sagemaker-containers INFO     Module train does not provide a setup.py. \u001b[0m\n",
      "\u001b[34mGenerating setup.py\u001b[0m\n",
      "\u001b[34m2021-08-18 06:12:51,035 sagemaker-containers INFO     Generating setup.cfg\u001b[0m\n",
      "\u001b[34m2021-08-18 06:12:51,035 sagemaker-containers INFO     Generating MANIFEST.in\u001b[0m\n",
      "\u001b[34m2021-08-18 06:12:51,036 sagemaker-containers INFO     Installing module with the following command:\u001b[0m\n",
      "\u001b[34m/usr/bin/python -m pip install -U . -r requirements.txt\u001b[0m\n",
      "\u001b[34mProcessing /opt/ml/code\u001b[0m\n",
      "\u001b[34mCollecting pandas (from -r requirements.txt (line 1))\n",
      "  Downloading https://files.pythonhosted.org/packages/74/24/0cdbf8907e1e3bc5a8da03345c23cbed7044330bb8f73bb12e711a640a00/pandas-0.24.2-cp35-cp35m-manylinux1_x86_64.whl (10.0MB)\u001b[0m\n",
      "\u001b[34mCollecting numpy (from -r requirements.txt (line 2))\u001b[0m\n",
      "\u001b[34m  Downloading https://files.pythonhosted.org/packages/b5/36/88723426b4ff576809fec7d73594fe17a35c27f8d01f93637637a29ae25b/numpy-1.18.5-cp35-cp35m-manylinux1_x86_64.whl (19.9MB)\u001b[0m\n",
      "\u001b[34mCollecting nltk (from -r requirements.txt (line 3))\n",
      "  Downloading https://files.pythonhosted.org/packages/5e/37/9532ddd4b1bbb619333d5708aaad9bf1742f051a664c3c6fa6632a105fd8/nltk-3.6.2-py3-none-any.whl (1.5MB)\u001b[0m\n",
      "\u001b[34mCollecting beautifulsoup4 (from -r requirements.txt (line 4))\n",
      "  Downloading https://files.pythonhosted.org/packages/d1/41/e6495bd7d3781cee623ce23ea6ac73282a373088fcd0ddc809a047b18eae/beautifulsoup4-4.9.3-py3-none-any.whl (115kB)\u001b[0m\n",
      "\u001b[34mCollecting html5lib (from -r requirements.txt (line 5))\n",
      "  Downloading https://files.pythonhosted.org/packages/6c/dd/a834df6482147d48e225a49515aabc28974ad5a4ca3215c18a882565b028/html5lib-1.1-py2.py3-none-any.whl (112kB)\u001b[0m\n",
      "\u001b[34mRequirement already satisfied, skipping upgrade: python-dateutil>=2.5.0 in /usr/local/lib/python3.5/dist-packages (from pandas->-r requirements.txt (line 1)) (2.7.5)\u001b[0m\n",
      "\u001b[34mCollecting pytz>=2011k (from pandas->-r requirements.txt (line 1))\n",
      "  Downloading https://files.pythonhosted.org/packages/70/94/784178ca5dd892a98f113cdd923372024dc04b8d40abe77ca76b5fb90ca6/pytz-2021.1-py2.py3-none-any.whl (510kB)\u001b[0m\n",
      "\u001b[34mCollecting tqdm (from nltk->-r requirements.txt (line 3))\n",
      "  Downloading https://files.pythonhosted.org/packages/96/8f/61d0ab27df8252139eadfd54ba92c6520fec87b205b23ccf77fc3b8225b8/tqdm-4.62.1-py2.py3-none-any.whl (76kB)\u001b[0m\n",
      "\u001b[34mRequirement already satisfied, skipping upgrade: click in /usr/local/lib/python3.5/dist-packages (from nltk->-r requirements.txt (line 3)) (7.0)\u001b[0m\n",
      "\u001b[34mCollecting joblib (from nltk->-r requirements.txt (line 3))\n",
      "  Downloading https://files.pythonhosted.org/packages/28/5c/cf6a2b65a321c4a209efcdf64c2689efae2cb62661f8f6f4bb28547cf1bf/joblib-0.14.1-py2.py3-none-any.whl (294kB)\u001b[0m\n",
      "\u001b[34mCollecting regex (from nltk->-r requirements.txt (line 3))\n",
      "  Downloading https://files.pythonhosted.org/packages/e7/76/825c82d90e02713827b8cd62ac7879a6b71eea6af6753e9babbdada05f00/regex-2021.8.3.tar.gz (693kB)\u001b[0m\n",
      "\u001b[34mCollecting soupsieve>1.2; python_version >= \"3.0\" (from beautifulsoup4->-r requirements.txt (line 4))\n",
      "  Downloading https://files.pythonhosted.org/packages/02/fb/1c65691a9aeb7bd6ac2aa505b84cb8b49ac29c976411c6ab3659425e045f/soupsieve-2.1-py3-none-any.whl\u001b[0m\n",
      "\u001b[34mCollecting webencodings (from html5lib->-r requirements.txt (line 5))\n",
      "  Downloading https://files.pythonhosted.org/packages/f4/24/2a3e3df732393fed8b3ebf2ec078f05546de641fe1b667ee316ec1dcf3b7/webencodings-0.5.1-py2.py3-none-any.whl\u001b[0m\n",
      "\u001b[34mRequirement already satisfied, skipping upgrade: six>=1.9 in /usr/local/lib/python3.5/dist-packages (from html5lib->-r requirements.txt (line 5)) (1.11.0)\u001b[0m\n",
      "\u001b[34mBuilding wheels for collected packages: train, regex\n",
      "  Running setup.py bdist_wheel for train: started\n",
      "  Running setup.py bdist_wheel for train: finished with status 'done'\n",
      "  Stored in directory: /tmp/pip-ephem-wheel-cache-4yfu00xt/wheels/35/24/16/37574d11bf9bde50616c67372a334f94fa8356bc7164af8ca3\n",
      "  Running setup.py bdist_wheel for regex: started\u001b[0m\n",
      "\u001b[34m  Running setup.py bdist_wheel for regex: finished with status 'done'\n",
      "  Stored in directory: /root/.cache/pip/wheels/cc/4f/a3/3616cab496e56883cad1107a8f036678bbc39d7cb598f3652b\u001b[0m\n",
      "\u001b[34mSuccessfully built train regex\u001b[0m\n",
      "\u001b[34mInstalling collected packages: pytz, numpy, pandas, tqdm, joblib, regex, nltk, soupsieve, beautifulsoup4, webencodings, html5lib, train\n",
      "  Found existing installation: numpy 1.15.4\n",
      "    Uninstalling numpy-1.15.4:\u001b[0m\n",
      "\u001b[34m      Successfully uninstalled numpy-1.15.4\u001b[0m\n",
      "\u001b[34mSuccessfully installed beautifulsoup4-4.9.3 html5lib-1.1 joblib-0.14.1 nltk-3.6.2 numpy-1.18.5 pandas-0.24.2 pytz-2021.1 regex-2021.8.3 soupsieve-2.1 tqdm-4.62.1 train-1.0.0 webencodings-0.5.1\u001b[0m\n",
      "\u001b[34mYou are using pip version 18.1, however version 20.3.4 is available.\u001b[0m\n",
      "\u001b[34mYou should consider upgrading via the 'pip install --upgrade pip' command.\u001b[0m\n",
      "\u001b[34m2021-08-18 06:13:15,380 sagemaker-containers INFO     Invoking user script\n",
      "\u001b[0m\n",
      "\u001b[34mTraining Env:\n",
      "\u001b[0m\n",
      "\u001b[34m{\n",
      "    \"log_level\": 20,\n",
      "    \"resource_config\": {\n",
      "        \"current_host\": \"algo-1\",\n",
      "        \"network_interface_name\": \"eth0\",\n",
      "        \"hosts\": [\n",
      "            \"algo-1\"\n",
      "        ]\n",
      "    },\n",
      "    \"framework_module\": \"sagemaker_pytorch_container.training:main\",\n",
      "    \"hosts\": [\n",
      "        \"algo-1\"\n",
      "    ],\n",
      "    \"input_dir\": \"/opt/ml/input\",\n",
      "    \"output_intermediate_dir\": \"/opt/ml/output/intermediate\",\n",
      "    \"num_gpus\": 1,\n",
      "    \"input_data_config\": {\n",
      "        \"training\": {\n",
      "            \"TrainingInputMode\": \"File\",\n",
      "            \"S3DistributionType\": \"FullyReplicated\",\n",
      "            \"RecordWrapperType\": \"None\"\n",
      "        }\n",
      "    },\n",
      "    \"output_dir\": \"/opt/ml/output\",\n",
      "    \"channel_input_dirs\": {\n",
      "        \"training\": \"/opt/ml/input/data/training\"\n",
      "    },\n",
      "    \"hyperparameters\": {\n",
      "        \"hidden_dim\": 200,\n",
      "        \"epochs\": 10\n",
      "    },\n",
      "    \"output_data_dir\": \"/opt/ml/output/data\",\n",
      "    \"module_name\": \"train\",\n",
      "    \"module_dir\": \"s3://sagemaker-us-east-1-608533078543/sagemaker-pytorch-2021-08-18-06-08-48-151/source/sourcedir.tar.gz\",\n",
      "    \"model_dir\": \"/opt/ml/model\",\n",
      "    \"network_interface_name\": \"eth0\",\n",
      "    \"input_config_dir\": \"/opt/ml/input/config\",\n",
      "    \"num_cpus\": 4,\n",
      "    \"current_host\": \"algo-1\",\n",
      "    \"job_name\": \"sagemaker-pytorch-2021-08-18-06-08-48-151\",\n",
      "    \"user_entry_point\": \"train.py\",\n",
      "    \"additional_framework_parameters\": {}\u001b[0m\n",
      "\u001b[34m}\n",
      "\u001b[0m\n",
      "\u001b[34mEnvironment variables:\n",
      "\u001b[0m\n",
      "\u001b[34mSM_INPUT_CONFIG_DIR=/opt/ml/input/config\u001b[0m\n",
      "\u001b[34mSM_FRAMEWORK_PARAMS={}\u001b[0m\n",
      "\u001b[34mSM_USER_ARGS=[\"--epochs\",\"10\",\"--hidden_dim\",\"200\"]\u001b[0m\n",
      "\u001b[34mSM_MODULE_DIR=s3://sagemaker-us-east-1-608533078543/sagemaker-pytorch-2021-08-18-06-08-48-151/source/sourcedir.tar.gz\u001b[0m\n",
      "\u001b[34mSM_CHANNEL_TRAINING=/opt/ml/input/data/training\u001b[0m\n",
      "\u001b[34mSM_OUTPUT_INTERMEDIATE_DIR=/opt/ml/output/intermediate\u001b[0m\n",
      "\u001b[34mSM_RESOURCE_CONFIG={\"current_host\":\"algo-1\",\"hosts\":[\"algo-1\"],\"network_interface_name\":\"eth0\"}\u001b[0m\n",
      "\u001b[34mSM_HOSTS=[\"algo-1\"]\u001b[0m\n",
      "\u001b[34mSM_MODEL_DIR=/opt/ml/model\u001b[0m\n",
      "\u001b[34mSM_TRAINING_ENV={\"additional_framework_parameters\":{},\"channel_input_dirs\":{\"training\":\"/opt/ml/input/data/training\"},\"current_host\":\"algo-1\",\"framework_module\":\"sagemaker_pytorch_container.training:main\",\"hosts\":[\"algo-1\"],\"hyperparameters\":{\"epochs\":10,\"hidden_dim\":200},\"input_config_dir\":\"/opt/ml/input/config\",\"input_data_config\":{\"training\":{\"RecordWrapperType\":\"None\",\"S3DistributionType\":\"FullyReplicated\",\"TrainingInputMode\":\"File\"}},\"input_dir\":\"/opt/ml/input\",\"job_name\":\"sagemaker-pytorch-2021-08-18-06-08-48-151\",\"log_level\":20,\"model_dir\":\"/opt/ml/model\",\"module_dir\":\"s3://sagemaker-us-east-1-608533078543/sagemaker-pytorch-2021-08-18-06-08-48-151/source/sourcedir.tar.gz\",\"module_name\":\"train\",\"network_interface_name\":\"eth0\",\"num_cpus\":4,\"num_gpus\":1,\"output_data_dir\":\"/opt/ml/output/data\",\"output_dir\":\"/opt/ml/output\",\"output_intermediate_dir\":\"/opt/ml/output/intermediate\",\"resource_config\":{\"current_host\":\"algo-1\",\"hosts\":[\"algo-1\"],\"network_interface_name\":\"eth0\"},\"user_entry_point\":\"train.py\"}\u001b[0m\n",
      "\u001b[34mSM_HP_HIDDEN_DIM=200\u001b[0m\n",
      "\u001b[34mSM_USER_ENTRY_POINT=train.py\u001b[0m\n",
      "\u001b[34mPYTHONPATH=/usr/local/bin:/usr/lib/python35.zip:/usr/lib/python3.5:/usr/lib/python3.5/plat-x86_64-linux-gnu:/usr/lib/python3.5/lib-dynload:/usr/local/lib/python3.5/dist-packages:/usr/lib/python3/dist-packages\u001b[0m\n",
      "\u001b[34mSM_HP_EPOCHS=10\u001b[0m\n",
      "\u001b[34mSM_INPUT_DATA_CONFIG={\"training\":{\"RecordWrapperType\":\"None\",\"S3DistributionType\":\"FullyReplicated\",\"TrainingInputMode\":\"File\"}}\u001b[0m\n",
      "\u001b[34mSM_NUM_CPUS=4\u001b[0m\n",
      "\u001b[34mSM_MODULE_NAME=train\u001b[0m\n",
      "\u001b[34mSM_NUM_GPUS=1\u001b[0m\n",
      "\u001b[34mSM_INPUT_DIR=/opt/ml/input\u001b[0m\n",
      "\u001b[34mSM_CHANNELS=[\"training\"]\u001b[0m\n",
      "\u001b[34mSM_NETWORK_INTERFACE_NAME=eth0\u001b[0m\n",
      "\u001b[34mSM_OUTPUT_DATA_DIR=/opt/ml/output/data\u001b[0m\n",
      "\u001b[34mSM_FRAMEWORK_MODULE=sagemaker_pytorch_container.training:main\u001b[0m\n",
      "\u001b[34mSM_HPS={\"epochs\":10,\"hidden_dim\":200}\u001b[0m\n",
      "\u001b[34mSM_OUTPUT_DIR=/opt/ml/output\u001b[0m\n",
      "\u001b[34mSM_LOG_LEVEL=20\u001b[0m\n",
      "\u001b[34mSM_CURRENT_HOST=algo-1\n",
      "\u001b[0m\n",
      "\u001b[34mInvoking script with the following command:\n",
      "\u001b[0m\n",
      "\u001b[34m/usr/bin/python -m train --epochs 10 --hidden_dim 200\n",
      "\n",
      "\u001b[0m\n",
      "\u001b[34mUsing device cuda.\u001b[0m\n",
      "\u001b[34mGet train data loader.\u001b[0m\n",
      "\u001b[34mModel loaded with embedding_dim 32, hidden_dim 200, vocab_size 5000.\u001b[0m\n",
      "\u001b[34mEpoch: 1, BCELoss: 0.6680355120678337\u001b[0m\n",
      "\u001b[34mEpoch: 2, BCELoss: 0.5878132350590765\u001b[0m\n",
      "\u001b[34mEpoch: 3, BCELoss: 0.49501783628853\u001b[0m\n",
      "\u001b[34mEpoch: 4, BCELoss: 0.5060228121523954\u001b[0m\n",
      "\u001b[34mEpoch: 5, BCELoss: 0.4502145435128893\u001b[0m\n",
      "\u001b[34mEpoch: 6, BCELoss: 0.39238092972307786\u001b[0m\n",
      "\u001b[34mEpoch: 7, BCELoss: 0.3486558436130991\u001b[0m\n",
      "\u001b[34mEpoch: 8, BCELoss: 0.33738134710156187\u001b[0m\n",
      "\u001b[34mEpoch: 9, BCELoss: 0.3162281549706751\u001b[0m\n",
      "\n",
      "2021-08-18 06:16:20 Uploading - Uploading generated training model\u001b[34mEpoch: 10, BCELoss: 0.3037269504702821\u001b[0m\n",
      "\u001b[34m2021-08-18 06:16:15,473 sagemaker-containers INFO     Reporting training SUCCESS\u001b[0m\n",
      "\n",
      "2021-08-18 06:16:26 Completed - Training job completed\n",
      "Training seconds: 286\n",
      "Billable seconds: 286\n"
     ]
    }
   ],
   "source": [
    "estimator.fit({'training': input_data})"
   ]
  },
  {
   "cell_type": "code",
   "execution_count": 33,
   "metadata": {},
   "outputs": [
    {
     "name": "stdout",
     "output_type": "stream",
     "text": [
      "now =  2021-08-18 06:17:05.274800\n"
     ]
    }
   ],
   "source": [
    "from datetime import datetime\n",
    "  \n",
    "  \n",
    "# returns current date and time\n",
    "now = datetime.now()\n",
    "print(\"now = \", now)"
   ]
  },
  {
   "cell_type": "markdown",
   "metadata": {},
   "source": [
    "## Step 5: Testing the model\n",
    "\n",
    "As mentioned at the top of this notebook, we will be testing this model by first deploying it and then sending the testing data to the deployed endpoint. We will do this so that we can make sure that the deployed model is working correctly.\n",
    "\n",
    "## Step 6: Deploy the model for testing\n",
    "\n",
    "Now that we have trained our model, we would like to test it to see how it performs. Currently our model takes input of the form `review_length, review[500]` where `review[500]` is a sequence of `500` integers which describe the words present in the review, encoded using `word_dict`. Fortunately for us, SageMaker provides built-in inference code for models with simple inputs such as this.\n",
    "\n",
    "There is one thing that we need to provide, however, and that is a function which loads the saved model. This function must be called `model_fn()` and takes as its only parameter a path to the directory where the model artifacts are stored. This function must also be present in the python file which we specified as the entry point. In our case the model loading function has been provided and so no changes need to be made.\n",
    "\n",
    "**NOTE**: When the built-in inference code is run it must import the `model_fn()` method from the `train.py` file. This is why the training code is wrapped in a main guard ( ie, `if __name__ == '__main__':` )\n",
    "\n",
    "Since we don't need to change anything in the code that was uploaded during training, we can simply deploy the current model as-is.\n",
    "\n",
    "**NOTE:** When deploying a model you are asking SageMaker to launch an compute instance that will wait for data to be sent to it. As a result, this compute instance will continue to run until *you* shut it down. This is important to know since the cost of a deployed endpoint depends on how long it has been running for.\n",
    "\n",
    "In other words **If you are no longer using a deployed endpoint, shut it down!**\n",
    "\n",
    "**TODO:** Deploy the trained model."
   ]
  },
  {
   "cell_type": "code",
   "execution_count": 34,
   "metadata": {},
   "outputs": [
    {
     "name": "stderr",
     "output_type": "stream",
     "text": [
      "Parameter image will be renamed to image_uri in SageMaker Python SDK v2.\n",
      "'create_image_uri' will be deprecated in favor of 'ImageURIProvider' class in SageMaker Python SDK v2.\n"
     ]
    },
    {
     "name": "stdout",
     "output_type": "stream",
     "text": [
      "-----------------!"
     ]
    }
   ],
   "source": [
    "# TODO: Deploy the trained model\n",
    "predictor = estimator.deploy(initial_instance_count=1, instance_type='ml.m4.xlarge')"
   ]
  },
  {
   "cell_type": "markdown",
   "metadata": {},
   "source": [
    "## Step 7 - Use the model for testing\n",
    "\n",
    "Once deployed, we can read in the test data and send it off to our deployed model to get some results. Once we collect all of the results we can determine how accurate our model is."
   ]
  },
  {
   "cell_type": "code",
   "execution_count": 35,
   "metadata": {},
   "outputs": [],
   "source": [
    "test_X = pd.concat([pd.DataFrame(test_X_len), pd.DataFrame(test_X)], axis=1)"
   ]
  },
  {
   "cell_type": "code",
   "execution_count": 36,
   "metadata": {},
   "outputs": [],
   "source": [
    "# We split the data into chunks and send each chunk seperately, accumulating the results.\n",
    "\n",
    "def predict(data, rows=512):\n",
    "    split_array = np.array_split(data, int(data.shape[0] / float(rows) + 1))\n",
    "    predictions = np.array([])\n",
    "    for array in split_array:\n",
    "        predictions = np.append(predictions, predictor.predict(array))\n",
    "    \n",
    "    return predictions"
   ]
  },
  {
   "cell_type": "code",
   "execution_count": 37,
   "metadata": {},
   "outputs": [],
   "source": [
    "predictions = predict(test_X.values)\n",
    "predictions = [round(num) for num in predictions]"
   ]
  },
  {
   "cell_type": "code",
   "execution_count": 38,
   "metadata": {},
   "outputs": [
    {
     "data": {
      "text/plain": [
       "0.8474"
      ]
     },
     "execution_count": 38,
     "metadata": {},
     "output_type": "execute_result"
    }
   ],
   "source": [
    "from sklearn.metrics import accuracy_score\n",
    "accuracy_score(test_y, predictions)"
   ]
  },
  {
   "cell_type": "markdown",
   "metadata": {},
   "source": [
    "**Question:** How does this model compare to the XGBoost model you created earlier? Why might these two models perform differently on this dataset? Which do *you* think is better for sentiment analysis?"
   ]
  },
  {
   "cell_type": "markdown",
   "metadata": {},
   "source": [
    "**Answer:** Both the model are very close where XGBoost but current Pytorch LSTM architecture is more suitable for text data and by more tunning the architecture, we may have more better score."
   ]
  },
  {
   "cell_type": "markdown",
   "metadata": {},
   "source": [
    "### (TODO) More testing\n",
    "\n",
    "We now have a trained model which has been deployed and which we can send processed reviews to and which returns the predicted sentiment. However, ultimately we would like to be able to send our model an unprocessed review. That is, we would like to send the review itself as a string. For example, suppose we wish to send the following review to our model."
   ]
  },
  {
   "cell_type": "code",
   "execution_count": 39,
   "metadata": {},
   "outputs": [],
   "source": [
    "test_review = 'The simplest pleasures in life are the best, and this film is one of them. Combining a rather basic storyline of love and adventure this movie transcends the usual weekend fair with wit and unmitigated charm.'"
   ]
  },
  {
   "cell_type": "markdown",
   "metadata": {},
   "source": [
    "The question we now need to answer is, how do we send this review to our model?\n",
    "\n",
    "Recall in the first section of this notebook we did a bunch of data processing to the IMDb dataset. In particular, we did two specific things to the provided reviews.\n",
    " - Removed any html tags and stemmed the input\n",
    " - Encoded the review as a sequence of integers using `word_dict`\n",
    " \n",
    "In order process the review we will need to repeat these two steps.\n",
    "\n",
    "**TODO**: Using the `review_to_words` and `convert_and_pad` methods from section one, convert `test_review` into a numpy array `test_data` suitable to send to our model. Remember that our model expects input of the form `review_length, review[500]`."
   ]
  },
  {
   "cell_type": "code",
   "execution_count": 40,
   "metadata": {},
   "outputs": [],
   "source": [
    "# TODO: Convert test_review into a form usable by the model and save the results in test_data\n",
    "test_data = review_to_words(test_review)\n",
    "test_data = [np.array(convert_and_pad(word_dict, test_data)[0])]\n"
   ]
  },
  {
   "cell_type": "markdown",
   "metadata": {},
   "source": [
    "Now that we have processed the review, we can send the resulting array to our model to predict the sentiment of the review."
   ]
  },
  {
   "cell_type": "code",
   "execution_count": 41,
   "metadata": {},
   "outputs": [
    {
     "data": {
      "text/plain": [
       "array(0.55293703, dtype=float32)"
      ]
     },
     "execution_count": 41,
     "metadata": {},
     "output_type": "execute_result"
    }
   ],
   "source": [
    "predictor.predict(test_data)"
   ]
  },
  {
   "cell_type": "markdown",
   "metadata": {},
   "source": [
    "Since the return value of our model is close to `1`, we can be certain that the review we submitted is positive."
   ]
  },
  {
   "cell_type": "markdown",
   "metadata": {},
   "source": [
    "### Delete the endpoint\n",
    "\n",
    "Of course, just like in the XGBoost notebook, once we've deployed an endpoint it continues to run until we tell it to shut down. Since we are done using our endpoint for now, we can delete it."
   ]
  },
  {
   "cell_type": "code",
   "execution_count": 42,
   "metadata": {},
   "outputs": [
    {
     "name": "stderr",
     "output_type": "stream",
     "text": [
      "estimator.delete_endpoint() will be deprecated in SageMaker Python SDK v2. Please use the delete_endpoint() function on your predictor instead.\n"
     ]
    }
   ],
   "source": [
    "estimator.delete_endpoint()"
   ]
  },
  {
   "cell_type": "markdown",
   "metadata": {},
   "source": [
    "## Step 6 (again) - Deploy the model for the web app\n",
    "\n",
    "Now that we know that our model is working, it's time to create some custom inference code so that we can send the model a review which has not been processed and have it determine the sentiment of the review.\n",
    "\n",
    "As we saw above, by default the estimator which we created, when deployed, will use the entry script and directory which we provided when creating the model. However, since we now wish to accept a string as input and our model expects a processed review, we need to write some custom inference code.\n",
    "\n",
    "We will store the code that we write in the `serve` directory. Provided in this directory is the `model.py` file that we used to construct our model, a `utils.py` file which contains the `review_to_words` and `convert_and_pad` pre-processing functions which we used during the initial data processing, and `predict.py`, the file which will contain our custom inference code. Note also that `requirements.txt` is present which will tell SageMaker what Python libraries are required by our custom inference code.\n",
    "\n",
    "When deploying a PyTorch model in SageMaker, you are expected to provide four functions which the SageMaker inference container will use.\n",
    " - `model_fn`: This function is the same function that we used in the training script and it tells SageMaker how to load our model.\n",
    " - `input_fn`: This function receives the raw serialized input that has been sent to the model's endpoint and its job is to de-serialize and make the input available for the inference code.\n",
    " - `output_fn`: This function takes the output of the inference code and its job is to serialize this output and return it to the caller of the model's endpoint.\n",
    " - `predict_fn`: The heart of the inference script, this is where the actual prediction is done and is the function which you will need to complete.\n",
    "\n",
    "For the simple website that we are constructing during this project, the `input_fn` and `output_fn` methods are relatively straightforward. We only require being able to accept a string as input and we expect to return a single value as output. You might imagine though that in a more complex application the input or output may be image data or some other binary data which would require some effort to serialize.\n",
    "\n",
    "### (TODO) Writing inference code\n",
    "\n",
    "Before writing our custom inference code, we will begin by taking a look at the code which has been provided."
   ]
  },
  {
   "cell_type": "code",
   "execution_count": 43,
   "metadata": {},
   "outputs": [
    {
     "name": "stdout",
     "output_type": "stream",
     "text": [
      "\u001b[34mimport\u001b[39;49;00m \u001b[04m\u001b[36margparse\u001b[39;49;00m\r\n",
      "\u001b[34mimport\u001b[39;49;00m \u001b[04m\u001b[36mjson\u001b[39;49;00m\r\n",
      "\u001b[34mimport\u001b[39;49;00m \u001b[04m\u001b[36mos\u001b[39;49;00m\r\n",
      "\u001b[34mimport\u001b[39;49;00m \u001b[04m\u001b[36mpickle\u001b[39;49;00m\r\n",
      "\u001b[34mimport\u001b[39;49;00m \u001b[04m\u001b[36msys\u001b[39;49;00m\r\n",
      "\u001b[34mimport\u001b[39;49;00m \u001b[04m\u001b[36msagemaker_containers\u001b[39;49;00m\r\n",
      "\u001b[34mimport\u001b[39;49;00m \u001b[04m\u001b[36mpandas\u001b[39;49;00m \u001b[34mas\u001b[39;49;00m \u001b[04m\u001b[36mpd\u001b[39;49;00m\r\n",
      "\u001b[34mimport\u001b[39;49;00m \u001b[04m\u001b[36mnumpy\u001b[39;49;00m \u001b[34mas\u001b[39;49;00m \u001b[04m\u001b[36mnp\u001b[39;49;00m\r\n",
      "\u001b[34mimport\u001b[39;49;00m \u001b[04m\u001b[36mtorch\u001b[39;49;00m\r\n",
      "\u001b[34mimport\u001b[39;49;00m \u001b[04m\u001b[36mtorch\u001b[39;49;00m\u001b[04m\u001b[36m.\u001b[39;49;00m\u001b[04m\u001b[36mnn\u001b[39;49;00m \u001b[34mas\u001b[39;49;00m \u001b[04m\u001b[36mnn\u001b[39;49;00m\r\n",
      "\u001b[34mimport\u001b[39;49;00m \u001b[04m\u001b[36mtorch\u001b[39;49;00m\u001b[04m\u001b[36m.\u001b[39;49;00m\u001b[04m\u001b[36moptim\u001b[39;49;00m \u001b[34mas\u001b[39;49;00m \u001b[04m\u001b[36moptim\u001b[39;49;00m\r\n",
      "\u001b[34mimport\u001b[39;49;00m \u001b[04m\u001b[36mtorch\u001b[39;49;00m\u001b[04m\u001b[36m.\u001b[39;49;00m\u001b[04m\u001b[36mutils\u001b[39;49;00m\u001b[04m\u001b[36m.\u001b[39;49;00m\u001b[04m\u001b[36mdata\u001b[39;49;00m\r\n",
      "\r\n",
      "\u001b[34mfrom\u001b[39;49;00m \u001b[04m\u001b[36mmodel\u001b[39;49;00m \u001b[34mimport\u001b[39;49;00m LSTMClassifier\r\n",
      "\r\n",
      "\u001b[34mfrom\u001b[39;49;00m \u001b[04m\u001b[36mutils\u001b[39;49;00m \u001b[34mimport\u001b[39;49;00m review_to_words, convert_and_pad\r\n",
      "\r\n",
      "\u001b[34mdef\u001b[39;49;00m \u001b[32mmodel_fn\u001b[39;49;00m(model_dir):\r\n",
      "    \u001b[33m\"\"\"Load the PyTorch model from the `model_dir` directory.\"\"\"\u001b[39;49;00m\r\n",
      "    \u001b[36mprint\u001b[39;49;00m(\u001b[33m\"\u001b[39;49;00m\u001b[33mLoading model.\u001b[39;49;00m\u001b[33m\"\u001b[39;49;00m)\r\n",
      "\r\n",
      "    \u001b[37m# First, load the parameters used to create the model.\u001b[39;49;00m\r\n",
      "    model_info = {}\r\n",
      "    model_info_path = os.path.join(model_dir, \u001b[33m'\u001b[39;49;00m\u001b[33mmodel_info.pth\u001b[39;49;00m\u001b[33m'\u001b[39;49;00m)\r\n",
      "    \u001b[34mwith\u001b[39;49;00m \u001b[36mopen\u001b[39;49;00m(model_info_path, \u001b[33m'\u001b[39;49;00m\u001b[33mrb\u001b[39;49;00m\u001b[33m'\u001b[39;49;00m) \u001b[34mas\u001b[39;49;00m f:\r\n",
      "        model_info = torch.load(f)\r\n",
      "\r\n",
      "    \u001b[36mprint\u001b[39;49;00m(\u001b[33m\"\u001b[39;49;00m\u001b[33mmodel_info: \u001b[39;49;00m\u001b[33m{}\u001b[39;49;00m\u001b[33m\"\u001b[39;49;00m.format(model_info))\r\n",
      "\r\n",
      "    \u001b[37m# Determine the device and construct the model.\u001b[39;49;00m\r\n",
      "    device = torch.device(\u001b[33m\"\u001b[39;49;00m\u001b[33mcuda\u001b[39;49;00m\u001b[33m\"\u001b[39;49;00m \u001b[34mif\u001b[39;49;00m torch.cuda.is_available() \u001b[34melse\u001b[39;49;00m \u001b[33m\"\u001b[39;49;00m\u001b[33mcpu\u001b[39;49;00m\u001b[33m\"\u001b[39;49;00m)\r\n",
      "    model = LSTMClassifier(model_info[\u001b[33m'\u001b[39;49;00m\u001b[33membedding_dim\u001b[39;49;00m\u001b[33m'\u001b[39;49;00m], model_info[\u001b[33m'\u001b[39;49;00m\u001b[33mhidden_dim\u001b[39;49;00m\u001b[33m'\u001b[39;49;00m], model_info[\u001b[33m'\u001b[39;49;00m\u001b[33mvocab_size\u001b[39;49;00m\u001b[33m'\u001b[39;49;00m])\r\n",
      "\r\n",
      "    \u001b[37m# Load the store model parameters.\u001b[39;49;00m\r\n",
      "    model_path = os.path.join(model_dir, \u001b[33m'\u001b[39;49;00m\u001b[33mmodel.pth\u001b[39;49;00m\u001b[33m'\u001b[39;49;00m)\r\n",
      "    \u001b[34mwith\u001b[39;49;00m \u001b[36mopen\u001b[39;49;00m(model_path, \u001b[33m'\u001b[39;49;00m\u001b[33mrb\u001b[39;49;00m\u001b[33m'\u001b[39;49;00m) \u001b[34mas\u001b[39;49;00m f:\r\n",
      "        model.load_state_dict(torch.load(f))\r\n",
      "\r\n",
      "    \u001b[37m# Load the saved word_dict.\u001b[39;49;00m\r\n",
      "    word_dict_path = os.path.join(model_dir, \u001b[33m'\u001b[39;49;00m\u001b[33mword_dict.pkl\u001b[39;49;00m\u001b[33m'\u001b[39;49;00m)\r\n",
      "    \u001b[34mwith\u001b[39;49;00m \u001b[36mopen\u001b[39;49;00m(word_dict_path, \u001b[33m'\u001b[39;49;00m\u001b[33mrb\u001b[39;49;00m\u001b[33m'\u001b[39;49;00m) \u001b[34mas\u001b[39;49;00m f:\r\n",
      "        model.word_dict = pickle.load(f)\r\n",
      "\r\n",
      "    model.to(device).eval()\r\n",
      "\r\n",
      "    \u001b[36mprint\u001b[39;49;00m(\u001b[33m\"\u001b[39;49;00m\u001b[33mDone loading model.\u001b[39;49;00m\u001b[33m\"\u001b[39;49;00m)\r\n",
      "    \u001b[34mreturn\u001b[39;49;00m model\r\n",
      "\r\n",
      "\u001b[34mdef\u001b[39;49;00m \u001b[32minput_fn\u001b[39;49;00m(serialized_input_data, content_type):\r\n",
      "    \u001b[36mprint\u001b[39;49;00m(\u001b[33m'\u001b[39;49;00m\u001b[33mDeserializing the input data.\u001b[39;49;00m\u001b[33m'\u001b[39;49;00m)\r\n",
      "    \u001b[34mif\u001b[39;49;00m content_type == \u001b[33m'\u001b[39;49;00m\u001b[33mtext/plain\u001b[39;49;00m\u001b[33m'\u001b[39;49;00m:\r\n",
      "        data = serialized_input_data.decode(\u001b[33m'\u001b[39;49;00m\u001b[33mutf-8\u001b[39;49;00m\u001b[33m'\u001b[39;49;00m)\r\n",
      "        \u001b[34mreturn\u001b[39;49;00m data\r\n",
      "    \u001b[34mraise\u001b[39;49;00m \u001b[36mException\u001b[39;49;00m(\u001b[33m'\u001b[39;49;00m\u001b[33mRequested unsupported ContentType in content_type: \u001b[39;49;00m\u001b[33m'\u001b[39;49;00m + content_type)\r\n",
      "\r\n",
      "\u001b[34mdef\u001b[39;49;00m \u001b[32moutput_fn\u001b[39;49;00m(prediction_output, accept):\r\n",
      "    \u001b[36mprint\u001b[39;49;00m(\u001b[33m'\u001b[39;49;00m\u001b[33mSerializing the generated output.\u001b[39;49;00m\u001b[33m'\u001b[39;49;00m)\r\n",
      "    \u001b[34mreturn\u001b[39;49;00m \u001b[36mstr\u001b[39;49;00m(prediction_output)\r\n",
      "\r\n",
      "\u001b[34mdef\u001b[39;49;00m \u001b[32mpredict_fn\u001b[39;49;00m(input_data, model):\r\n",
      "    \u001b[36mprint\u001b[39;49;00m(\u001b[33m'\u001b[39;49;00m\u001b[33mInferring sentiment of input data.\u001b[39;49;00m\u001b[33m'\u001b[39;49;00m)\r\n",
      "\r\n",
      "    device = torch.device(\u001b[33m\"\u001b[39;49;00m\u001b[33mcuda\u001b[39;49;00m\u001b[33m\"\u001b[39;49;00m \u001b[34mif\u001b[39;49;00m torch.cuda.is_available() \u001b[34melse\u001b[39;49;00m \u001b[33m\"\u001b[39;49;00m\u001b[33mcpu\u001b[39;49;00m\u001b[33m\"\u001b[39;49;00m)\r\n",
      "    \r\n",
      "    \u001b[34mif\u001b[39;49;00m model.word_dict \u001b[35mis\u001b[39;49;00m \u001b[34mNone\u001b[39;49;00m:\r\n",
      "        \u001b[34mraise\u001b[39;49;00m \u001b[36mException\u001b[39;49;00m(\u001b[33m'\u001b[39;49;00m\u001b[33mModel has not been loaded properly, no word_dict.\u001b[39;49;00m\u001b[33m'\u001b[39;49;00m)\r\n",
      "    \r\n",
      "    \u001b[37m# TODO: Process input_data so that it is ready to be sent to our model.\u001b[39;49;00m\r\n",
      "    \u001b[37m#       You should produce two variables:\u001b[39;49;00m\r\n",
      "    \u001b[37m#         data_X   - A sequence of length 500 which represents the converted review\u001b[39;49;00m\r\n",
      "    \u001b[37m#         data_len - The length of the review\u001b[39;49;00m\r\n",
      "\r\n",
      "    data_X, data_len = convert_and_pad(model.word_dict, review_to_words(input_data))\r\n",
      "\r\n",
      "    \u001b[37m# Using data_X and data_len we construct an appropriate input tensor. Remember\u001b[39;49;00m\r\n",
      "    \u001b[37m# that our model expects input data of the form 'len, review[500]'.\u001b[39;49;00m\r\n",
      "    data_pack = np.hstack((data_len, data_X))\r\n",
      "    data_pack = data_pack.reshape(\u001b[34m1\u001b[39;49;00m, -\u001b[34m1\u001b[39;49;00m)\r\n",
      "    \r\n",
      "    data = torch.from_numpy(data_pack)\r\n",
      "    data = data.to(device)\r\n",
      "\r\n",
      "    \u001b[37m# Make sure to put the model into evaluation mode\u001b[39;49;00m\r\n",
      "    model.eval()\r\n",
      "\r\n",
      "    \u001b[37m# TODO: Compute the result of applying the model to the input data. The variable `result` should\u001b[39;49;00m\r\n",
      "    \u001b[37m#       be a numpy array which contains a single integer which is either 1 or 0\u001b[39;49;00m\r\n",
      "\r\n",
      "    \u001b[34mwith\u001b[39;49;00m torch.no_grad():\r\n",
      "        output = model.forward(data)\r\n",
      "        \r\n",
      "    result = np.round(output.numpy())\r\n",
      "\r\n",
      "    \u001b[34mreturn\u001b[39;49;00m result\r\n"
     ]
    }
   ],
   "source": [
    "!pygmentize serve/predict.py"
   ]
  },
  {
   "cell_type": "markdown",
   "metadata": {},
   "source": [
    "As mentioned earlier, the `model_fn` method is the same as the one provided in the training code and the `input_fn` and `output_fn` methods are very simple and your task will be to complete the `predict_fn` method. Make sure that you save the completed file as `predict.py` in the `serve` directory.\n",
    "\n",
    "**TODO**: Complete the `predict_fn()` method in the `serve/predict.py` file."
   ]
  },
  {
   "cell_type": "markdown",
   "metadata": {},
   "source": [
    "### Deploying the model\n",
    "\n",
    "Now that the custom inference code has been written, we will create and deploy our model. To begin with, we need to construct a new PyTorchModel object which points to the model artifacts created during training and also points to the inference code that we wish to use. Then we can call the deploy method to launch the deployment container.\n",
    "\n",
    "**NOTE**: The default behaviour for a deployed PyTorch model is to assume that any input passed to the predictor is a `numpy` array. In our case we want to send a string so we need to construct a simple wrapper around the `RealTimePredictor` class to accomodate simple strings. In a more complicated situation you may want to provide a serialization object, for example if you wanted to sent image data."
   ]
  },
  {
   "cell_type": "code",
   "execution_count": 44,
   "metadata": {},
   "outputs": [
    {
     "name": "stderr",
     "output_type": "stream",
     "text": [
      "Parameter image will be renamed to image_uri in SageMaker Python SDK v2.\n",
      "'create_image_uri' will be deprecated in favor of 'ImageURIProvider' class in SageMaker Python SDK v2.\n"
     ]
    },
    {
     "name": "stdout",
     "output_type": "stream",
     "text": [
      "-----------------!"
     ]
    }
   ],
   "source": [
    "from sagemaker.predictor import RealTimePredictor\n",
    "from sagemaker.pytorch import PyTorchModel\n",
    "\n",
    "class StringPredictor(RealTimePredictor):\n",
    "    def __init__(self, endpoint_name, sagemaker_session):\n",
    "        super(StringPredictor, self).__init__(endpoint_name, sagemaker_session, content_type='text/plain')\n",
    "\n",
    "model = PyTorchModel(model_data=estimator.model_data,\n",
    "                     role = role,\n",
    "                     framework_version='0.4.0',\n",
    "                     entry_point='predict.py',\n",
    "                     source_dir='serve',\n",
    "                     predictor_cls=StringPredictor)\n",
    "predictor = model.deploy(initial_instance_count=1, instance_type='ml.m4.xlarge')"
   ]
  },
  {
   "cell_type": "markdown",
   "metadata": {},
   "source": [
    "### Testing the model\n",
    "\n",
    "Now that we have deployed our model with the custom inference code, we should test to see if everything is working. Here we test our model by loading the first `250` positive and negative reviews and send them to the endpoint, then collect the results. The reason for only sending some of the data is that the amount of time it takes for our model to process the input and then perform inference is quite long and so testing the entire data set would be prohibitive."
   ]
  },
  {
   "cell_type": "code",
   "execution_count": 45,
   "metadata": {},
   "outputs": [],
   "source": [
    "import os\n",
    "import glob\n",
    "\n",
    "def test_reviews(data_dir='../data/aclImdb', stop=250):\n",
    "    \n",
    "    results = []\n",
    "    ground = []\n",
    "    \n",
    "    # We make sure to test both positive and negative reviews    \n",
    "    for sentiment in ['pos', 'neg']:\n",
    "        \n",
    "        path = os.path.join(data_dir, 'test', sentiment, '*.txt')\n",
    "        files = glob.glob(path)\n",
    "        \n",
    "        files_read = 0\n",
    "        \n",
    "        print('Starting ', sentiment, ' files')\n",
    "        \n",
    "        # Iterate through the files and send them to the predictor\n",
    "        for f in files:\n",
    "            with open(f) as review:\n",
    "                # First, we store the ground truth (was the review positive or negative)\n",
    "                if sentiment == 'pos':\n",
    "                    ground.append(1)\n",
    "                else:\n",
    "                    ground.append(0)\n",
    "                # Read in the review and convert to 'utf-8' for transmission via HTTP\n",
    "                review_input = review.read().encode('utf-8')\n",
    "                # Send the review to the predictor and store the results\n",
    "                results.append(float(predictor.predict(review_input)))\n",
    "                \n",
    "            # Sending reviews to our endpoint one at a time takes a while so we\n",
    "            # only send a small number of reviews\n",
    "            files_read += 1\n",
    "            if files_read == stop:\n",
    "                break\n",
    "            \n",
    "    return ground, results"
   ]
  },
  {
   "cell_type": "code",
   "execution_count": 46,
   "metadata": {},
   "outputs": [],
   "source": [
    "# clean memory space\n",
    "data = labels = None\n"
   ]
  },
  {
   "cell_type": "code",
   "execution_count": 47,
   "metadata": {},
   "outputs": [
    {
     "name": "stdout",
     "output_type": "stream",
     "text": [
      "Starting  pos  files\n",
      "Starting  neg  files\n"
     ]
    }
   ],
   "source": [
    "ground, results = test_reviews()"
   ]
  },
  {
   "cell_type": "code",
   "execution_count": 48,
   "metadata": {},
   "outputs": [
    {
     "data": {
      "text/plain": [
       "0.83"
      ]
     },
     "execution_count": 48,
     "metadata": {},
     "output_type": "execute_result"
    }
   ],
   "source": [
    "from sklearn.metrics import accuracy_score\n",
    "accuracy_score(ground, results)"
   ]
  },
  {
   "cell_type": "markdown",
   "metadata": {},
   "source": [
    "As an additional test, we can try sending the `test_review` that we looked at earlier."
   ]
  },
  {
   "cell_type": "code",
   "execution_count": 49,
   "metadata": {},
   "outputs": [
    {
     "data": {
      "text/plain": [
       "b'1.0'"
      ]
     },
     "execution_count": 49,
     "metadata": {},
     "output_type": "execute_result"
    }
   ],
   "source": [
    "predictor.predict(test_review)"
   ]
  },
  {
   "cell_type": "markdown",
   "metadata": {},
   "source": [
    "Now that we know our endpoint is working as expected, we can set up the web page that will interact with it. If you don't have time to finish the project now, make sure to skip down to the end of this notebook and shut down your endpoint. You can deploy it again when you come back."
   ]
  },
  {
   "cell_type": "markdown",
   "metadata": {},
   "source": [
    "## Step 7 (again): Use the model for the web app\n",
    "\n",
    "> **TODO:** This entire section and the next contain tasks for you to complete, mostly using the AWS console.\n",
    "\n",
    "So far we have been accessing our model endpoint by constructing a predictor object which uses the endpoint and then just using the predictor object to perform inference. What if we wanted to create a web app which accessed our model? The way things are set up currently makes that not possible since in order to access a SageMaker endpoint the app would first have to authenticate with AWS using an IAM role which included access to SageMaker endpoints. However, there is an easier way! We just need to use some additional AWS services.\n",
    "\n",
    "<img src=\"Web App Diagram.svg\">\n",
    "\n",
    "The diagram above gives an overview of how the various services will work together. On the far right is the model which we trained above and which is deployed using SageMaker. On the far left is our web app that collects a user's movie review, sends it off and expects a positive or negative sentiment in return.\n",
    "\n",
    "In the middle is where some of the magic happens. We will construct a Lambda function, which you can think of as a straightforward Python function that can be executed whenever a specified event occurs. We will give this function permission to send and recieve data from a SageMaker endpoint.\n",
    "\n",
    "Lastly, the method we will use to execute the Lambda function is a new endpoint that we will create using API Gateway. This endpoint will be a url that listens for data to be sent to it. Once it gets some data it will pass that data on to the Lambda function and then return whatever the Lambda function returns. Essentially it will act as an interface that lets our web app communicate with the Lambda function.\n",
    "\n",
    "### Setting up a Lambda function\n",
    "\n",
    "The first thing we are going to do is set up a Lambda function. This Lambda function will be executed whenever our public API has data sent to it. When it is executed it will receive the data, perform any sort of processing that is required, send the data (the review) to the SageMaker endpoint we've created and then return the result.\n",
    "\n",
    "#### Part A: Create an IAM Role for the Lambda function\n",
    "\n",
    "Since we want the Lambda function to call a SageMaker endpoint, we need to make sure that it has permission to do so. To do this, we will construct a role that we can later give the Lambda function.\n",
    "\n",
    "Using the AWS Console, navigate to the **IAM** page and click on **Roles**. Then, click on **Create role**. Make sure that the **AWS service** is the type of trusted entity selected and choose **Lambda** as the service that will use this role, then click **Next: Permissions**.\n",
    "\n",
    "In the search box type `sagemaker` and select the check box next to the **AmazonSageMakerFullAccess** policy. Then, click on **Next: Review**.\n",
    "\n",
    "Lastly, give this role a name. Make sure you use a name that you will remember later on, for example `LambdaSageMakerRole`. Then, click on **Create role**.\n",
    "\n",
    "#### Part B: Create a Lambda function\n",
    "\n",
    "Now it is time to actually create the Lambda function.\n",
    "\n",
    "Using the AWS Console, navigate to the AWS Lambda page and click on **Create a function**. When you get to the next page, make sure that **Author from scratch** is selected. Now, name your Lambda function, using a name that you will remember later on, for example `sentiment_analysis_func`. Make sure that the **Python 3.6** runtime is selected and then choose the role that you created in the previous part. Then, click on **Create Function**.\n",
    "\n",
    "On the next page you will see some information about the Lambda function you've just created. If you scroll down you should see an editor in which you can write the code that will be executed when your Lambda function is triggered. In our example, we will use the code below. \n",
    "\n",
    "```python\n",
    "# We need to use the low-level library to interact with SageMaker since the SageMaker API\n",
    "# is not available natively through Lambda.\n",
    "import boto3\n",
    "\n",
    "def lambda_handler(event, context):\n",
    "\n",
    "    # The SageMaker runtime is what allows us to invoke the endpoint that we've created.\n",
    "    runtime = boto3.Session().client('sagemaker-runtime')\n",
    "\n",
    "    # Now we use the SageMaker runtime to invoke our endpoint, sending the review we were given\n",
    "    response = runtime.invoke_endpoint(EndpointName = '**ENDPOINT NAME HERE**',    # The name of the endpoint we created\n",
    "                                       ContentType = 'text/plain',                 # The data format that is expected\n",
    "                                       Body = event['body'])                       # The actual review\n",
    "\n",
    "    # The response is an HTTP response whose body contains the result of our inference\n",
    "    result = response['Body'].read().decode('utf-8')\n",
    "\n",
    "    return {\n",
    "        'statusCode' : 200,\n",
    "        'headers' : { 'Content-Type' : 'text/plain', 'Access-Control-Allow-Origin' : '*' },\n",
    "        'body' : result\n",
    "    }\n",
    "```\n",
    "\n",
    "Once you have copy and pasted the code above into the Lambda code editor, replace the `**ENDPOINT NAME HERE**` portion with the name of the endpoint that we deployed earlier. You can determine the name of the endpoint using the code cell below."
   ]
  },
  {
   "cell_type": "code",
   "execution_count": 50,
   "metadata": {},
   "outputs": [
    {
     "data": {
      "text/plain": [
       "'sagemaker-pytorch-2021-08-18-06-29-30-374'"
      ]
     },
     "execution_count": 50,
     "metadata": {},
     "output_type": "execute_result"
    }
   ],
   "source": [
    "predictor.endpoint"
   ]
  },
  {
   "cell_type": "markdown",
   "metadata": {},
   "source": [
    "Once you have added the endpoint name to the Lambda function, click on **Save**. Your Lambda function is now up and running. Next we need to create a way for our web app to execute the Lambda function.\n",
    "\n",
    "### Setting up API Gateway\n",
    "\n",
    "Now that our Lambda function is set up, it is time to create a new API using API Gateway that will trigger the Lambda function we have just created.\n",
    "\n",
    "Using AWS Console, navigate to **Amazon API Gateway** and then click on **Get started**.\n",
    "\n",
    "On the next page, make sure that **New API** is selected and give the new api a name, for example, `sentiment_analysis_api`. Then, click on **Create API**.\n",
    "\n",
    "Now we have created an API, however it doesn't currently do anything. What we want it to do is to trigger the Lambda function that we created earlier.\n",
    "\n",
    "Select the **Actions** dropdown menu and click **Create Method**. A new blank method will be created, select its dropdown menu and select **POST**, then click on the check mark beside it.\n",
    "\n",
    "For the integration point, make sure that **Lambda Function** is selected and click on the **Use Lambda Proxy integration**. This option makes sure that the data that is sent to the API is then sent directly to the Lambda function with no processing. It also means that the return value must be a proper response object as it will also not be processed by API Gateway.\n",
    "\n",
    "Type the name of the Lambda function you created earlier into the **Lambda Function** text entry box and then click on **Save**. Click on **OK** in the pop-up box that then appears, giving permission to API Gateway to invoke the Lambda function you created.\n",
    "\n",
    "The last step in creating the API Gateway is to select the **Actions** dropdown and click on **Deploy API**. You will need to create a new Deployment stage and name it anything you like, for example `prod`.\n",
    "\n",
    "You have now successfully set up a public API to access your SageMaker model. Make sure to copy or write down the URL provided to invoke your newly created public API as this will be needed in the next step. This URL can be found at the top of the page, highlighted in blue next to the text **Invoke URL**."
   ]
  },
  {
   "cell_type": "markdown",
   "metadata": {},
   "source": [
    "## Step 4: Deploying our web app\n",
    "\n",
    "Now that we have a publicly available API, we can start using it in a web app. For our purposes, we have provided a simple static html file which can make use of the public api you created earlier.\n",
    "\n",
    "In the `website` folder there should be a file called `index.html`. Download the file to your computer and open that file up in a text editor of your choice. There should be a line which contains **\\*\\*REPLACE WITH PUBLIC API URL\\*\\***. Replace this string with the url that you wrote down in the last step and then save the file.\n",
    "\n",
    "Now, if you open `index.html` on your local computer, your browser will behave as a local web server and you can use the provided site to interact with your SageMaker model.\n",
    "\n",
    "If you'd like to go further, you can host this html file anywhere you'd like, for example using github or hosting a static site on Amazon's S3. Once you have done this you can share the link with anyone you'd like and have them play with it too!\n",
    "\n",
    "> **Important Note** In order for the web app to communicate with the SageMaker endpoint, the endpoint has to actually be deployed and running. This means that you are paying for it. Make sure that the endpoint is running when you want to use the web app but that you shut it down when you don't need it, otherwise you will end up with a surprisingly large AWS bill.\n",
    "\n",
    "**TODO:** Make sure that you include the edited `index.html` file in your project submission."
   ]
  },
  {
   "cell_type": "markdown",
   "metadata": {},
   "source": [
    "Now that your web app is working, trying playing around with it and see how well it works.\n",
    "\n",
    "**Question**: Give an example of a review that you entered into your web app. What was the predicted sentiment of your example review?"
   ]
  },
  {
   "cell_type": "markdown",
   "metadata": {},
   "source": [
    "**Answer:I didn't like the movie.\n",
    "\n",
    "Your review was NEGATIVE!"
   ]
  },
  {
   "cell_type": "markdown",
   "metadata": {},
   "source": [
    "### Delete the endpoint\n",
    "\n",
    "Remember to always shut down your endpoint if you are no longer using it. You are charged for the length of time that the endpoint is running so if you forget and leave it on you could end up with an unexpectedly large bill."
   ]
  },
  {
   "cell_type": "code",
   "execution_count": 51,
   "metadata": {},
   "outputs": [],
   "source": [
    "predictor.delete_endpoint()"
   ]
  },
  {
   "cell_type": "code",
   "execution_count": null,
   "metadata": {},
   "outputs": [],
   "source": []
  }
 ],
 "metadata": {
  "kernelspec": {
   "display_name": "conda_pytorch_p36",
   "language": "python",
   "name": "conda_pytorch_p36"
  },
  "language_info": {
   "codemirror_mode": {
    "name": "ipython",
    "version": 3
   },
   "file_extension": ".py",
   "mimetype": "text/x-python",
   "name": "python",
   "nbconvert_exporter": "python",
   "pygments_lexer": "ipython3",
   "version": "3.6.13"
  }
 },
 "nbformat": 4,
 "nbformat_minor": 2
}
